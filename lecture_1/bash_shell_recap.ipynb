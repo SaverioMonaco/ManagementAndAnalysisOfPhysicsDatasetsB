{
 "cells": [
  {
   "cell_type": "markdown",
   "metadata": {},
   "source": [
    "Shell Recap\n",
    "============\n",
    "The shell is a program where users can type commands. With the shell, it’s possible to invoke complicated programs like climate modeling software or simple commands that create an empty directory with only one line of code. The most popular Unix shell is Bash. Bash is the default shell on most modern implementations of Unix and in most packages that provide Unix-like tools for Windows.\n",
    "\n",
    "The grammar of a shell allows you to combine existing tools into powerful pipelines and handle large volumes of data automatically. Sequences of commands can be written into a script, improving the reproducibility of workflows.\n",
    "\n",
    "The command line is often the easiest way to interact with remote machines and supercomputers. Familiarity with the shell is nearly essential to run a variety of specialized tools and resources including high-performance computing systems. As clusters and cloud computing systems become more popular for scientific data crunching, being able to interact with the shell is becoming a necessary skill. We can build on the command-line skills covered here to tackle a wide range of scientific questions and computational challenges.\n",
    "\n",
    "Let's start whit this recap!"
   ]
  },
  {
   "cell_type": "markdown",
   "metadata": {},
   "source": [
    "**DISCLAIMER:** since we are in the Jupyter environment, all the commands or the cells that exploit bash functionalities will be preceded by the \"**!**\" or by \"**%%bash**\" this is necessary to make the Jupyter able to correctly interpreted the source code as bash code. \n",
    "In order to run the same command in a real bash, you have to remove the \"**!**\" and \"**%%bash**\""
   ]
  },
  {
   "cell_type": "markdown",
   "metadata": {},
   "source": [
    "## The Basics"
   ]
  },
  {
   "cell_type": "markdown",
   "metadata": {},
   "source": [
    "### The variables\n",
    "The variables in the shell have a different behavior in comparison to other languages, their declaration is simple"
   ]
  },
  {
   "cell_type": "code",
   "execution_count": null,
   "metadata": {},
   "outputs": [],
   "source": [
    "%%bash\n",
    "NAME=\"Shell Scripting is Fun!\""
   ]
  },
  {
   "cell_type": "markdown",
   "metadata": {},
   "source": [
    "the command used to print a variable is:"
   ]
  },
  {
   "cell_type": "code",
   "execution_count": 1,
   "metadata": {},
   "outputs": [
    {
     "name": "stdout",
     "output_type": "stream",
     "text": [
      "Shell Scripting is Fun!\n"
     ]
    }
   ],
   "source": [
    "%%bash\n",
    "NAME=\"Shell Scripting is Fun!\"\n",
    "echo $NAME"
   ]
  },
  {
   "cell_type": "markdown",
   "metadata": {},
   "source": [
    "Running the same command with only the variable name will produce the printing of the variable name, but not the content of the var."
   ]
  },
  {
   "cell_type": "code",
   "execution_count": 2,
   "metadata": {},
   "outputs": [
    {
     "name": "stdout",
     "output_type": "stream",
     "text": [
      "NAME\n"
     ]
    }
   ],
   "source": [
    "%%bash\n",
    "NAME=\"Shell Scripting is Fun!\"\n",
    "echo NAME"
   ]
  },
  {
   "cell_type": "markdown",
   "metadata": {},
   "source": [
    "### The print command\n",
    "\n",
    "The ```echo``` command is a command used to print at screen a variable or whichever data you need to show.\n",
    "As we have seen in the previous cells, with echo you can also concatenate variable/commands and strings. Let's see."
   ]
  },
  {
   "cell_type": "code",
   "execution_count": 3,
   "metadata": {},
   "outputs": [
    {
     "name": "stdout",
     "output_type": "stream",
     "text": [
      "Pippo has 3 apples\n"
     ]
    }
   ],
   "source": [
    "%%bash\n",
    "APPLES=3\n",
    "echo \"Pippo has $APPLES apples\"\n"
   ]
  },
  {
   "cell_type": "code",
   "execution_count": 4,
   "metadata": {},
   "outputs": [
    {
     "name": "stdout",
     "output_type": "stream",
     "text": [
      "I'm in the working folder /home/scampese/Repository/ManagementAndAnalysisOfPhysicsDatasetsB/lecture_1\n"
     ]
    }
   ],
   "source": [
    "%%bash\n",
    "\n",
    "echo \"I'm in the working folder $(pwd)\""
   ]
  },
  {
   "cell_type": "markdown",
   "metadata": {},
   "source": [
    "The option \">\" or \">>\" respectively represent the \"insert\" and \"append\" of data to a file, the echo command can be used to put whatever you want to print to a file."
   ]
  },
  {
   "cell_type": "markdown",
   "metadata": {},
   "source": [
    "### The first command:\n",
    "\n",
    "The first command that you have to remember is the ```pwd``` that stands for *print working directory*.\n",
    "This command can be used to see/understand in which folder we are working.\n",
    "Let's see an example"
   ]
  },
  {
   "cell_type": "code",
   "execution_count": 5,
   "metadata": {},
   "outputs": [
    {
     "name": "stdout",
     "output_type": "stream",
     "text": [
      "/home/scampese/Repository/ManagementAndAnalysisOfPhysicsDatasetsB/lecture_1\r\n"
     ]
    }
   ],
   "source": [
    "! pwd"
   ]
  },
  {
   "cell_type": "markdown",
   "metadata": {},
   "source": [
    "### How to see what's in the folder:"
   ]
  },
  {
   "cell_type": "markdown",
   "metadata": {},
   "source": [
    "The 'ls' command is used to see what the folder contains."
   ]
  },
  {
   "cell_type": "code",
   "execution_count": 6,
   "metadata": {},
   "outputs": [
    {
     "name": "stdout",
     "output_type": "stream",
     "text": [
      "bash_shell_recap.ipynb\n",
      "exercise\n",
      "lecture_1.zip\n",
      "virtualbox-guide.pdf\n"
     ]
    }
   ],
   "source": [
    "%%bash \n",
    "ls"
   ]
  },
  {
   "cell_type": "markdown",
   "metadata": {},
   "source": [
    "The ls command has several parameters that allow you to see what you're looking for. One of those parameters if ```-F```. \n",
    "This parameter can be used with other to understand if each entry on the list is a file or a folder. To run this cell on your pc, you have to create a temporary test folder in the working folder\n"
   ]
  },
  {
   "cell_type": "code",
   "execution_count": 7,
   "metadata": {},
   "outputs": [
    {
     "name": "stdout",
     "output_type": "stream",
     "text": [
      "bash_shell_recap.ipynb\n",
      "exercise/\n",
      "lecture_1.zip\n",
      "virtualbox-guide.pdf\n"
     ]
    }
   ],
   "source": [
    "%%bash\n",
    "ls -F"
   ]
  },
  {
   "cell_type": "markdown",
   "metadata": {},
   "source": [
    "In general every available parameter of a command can be seen by running the command with the ```--help``` parameter."
   ]
  },
  {
   "cell_type": "code",
   "execution_count": 8,
   "metadata": {},
   "outputs": [
    {
     "name": "stdout",
     "output_type": "stream",
     "text": [
      "Uso: ls [OPZIONE]... [FILE]...\n",
      "List information about the FILEs (the current directory by default).\n",
      "Sort entries alphabetically if none of -cftuvSUX nor --sort is specified.\n",
      "\n",
      "Mandatory arguments to long options are mandatory for short options too.\n",
      "  -a, --all                  non nasconde le voci che iniziano con .\n",
      "  -A, --almost-all           non elenca le voci . e ..\n",
      "      --author               con -l stampa l'autore di ogni file\n",
      "  -b, --escape               stampa escape in stile C per i caratteri non grafici\n",
      "      --block-size=SIZE      scale sizes by SIZE before printing them; e.g.,\n",
      "                               '--block-size=M' prints sizes in units of\n",
      "                               1,048,576 bytes; see SIZE format below\n",
      "  -B, --ignore-backups       do not list implied entries ending with ~\n",
      "  -c                         with -lt: sort by, and show, ctime (time of last\n",
      "                               modification of file status information);\n",
      "                               with -l: show ctime and sort by name;\n",
      "                               otherwise: sort by ctime, newest first\n",
      "  -C                         list entries by columns\n",
      "      --color[=WHEN]         colorize the output; WHEN can be 'always' (default\n",
      "                               if omitted), 'auto', or 'never'; more info below\n",
      "  -d, --directory            list directories themselves, not their contents\n",
      "  -D, --dired                generate output designed for Emacs' dired mode\n",
      "  -f                         do not sort, enable -aU, disable -ls --color\n",
      "  -F, --classify             append indicator (one of */=>@|) to entries\n",
      "      --file-type            likewise, except do not append '*'\n",
      "      --format=WORD          across -x, commas -m, horizontal -x, long -l,\n",
      "                               single-column -1, verbose -l, vertical -C\n",
      "      --full-time            like -l --time-style=full-iso\n",
      "  -g                         come -l, ma non elenca il proprietario\n",
      "      --group-directories-first\n",
      "                             group directories before files;\n",
      "                               can be augmented with a --sort option, but any\n",
      "                               use of --sort=none (-U) disables grouping\n",
      "  -G, --no-group             in a long listing, don't print group names\n",
      "  -h, --human-readable       with -l and/or -s, print human readable sizes\n",
      "                               (e.g., 1K 234M 2G)\n",
      "      --si                   likewise, but use powers of 1000 not 1024\n",
      "  -H, --dereference-command-line\n",
      "                             follow symbolic links listed on the command line\n",
      "      --dereference-command-line-symlink-to-dir\n",
      "                             follow each command line symbolic link\n",
      "                               that points to a directory\n",
      "      --hide=PATTERN         do not list implied entries matching shell PATTERN\n",
      "                               (overridden by -a or -A)\n",
      "      --hyperlink[=WHEN]     hyperlink file names; WHEN can be 'always'\n",
      "                               (default if omitted), 'auto', or 'never'\n",
      "      --indicator-style=WORD  append indicator with style WORD to entry names:\n",
      "                               none (default), slash (-p),\n",
      "                               file-type (--file-type), classify (-F)\n",
      "  -i, --inode                print the index number of each file\n",
      "  -I, --ignore=PATTERN       do not list implied entries matching shell PATTERN\n",
      "  -k, --kibibytes            default to 1024-byte blocks for disk usage\n",
      "  -l                         usa un formato di elenco lungo\n",
      "  -L, --dereference          quando mostra le informazioni su un collegamento,\n",
      "                               simbolico, mostra le informazioni sul file a cui si\n",
      "                               riferisce invece che sul collegamento stesso\n",
      "  -m                         elenca le voci separandole con virgole\n",
      "  -n, --numeric-uid-gid      like -l, but list numeric user and group IDs\n",
      "  -N, --literal              print entry names without quoting\n",
      "  -o                         like -l, but do not list group information\n",
      "  -p, --indicator-style=slash\n",
      "                             append / indicator to directories\n",
      "  -q, --hide-control-chars   print ? instead of nongraphic characters\n",
      "      --show-control-chars   show nongraphic characters as-is (the default,\n",
      "                               unless program is 'ls' and output is a terminal)\n",
      "  -Q, --quote-name           enclose entry names in double quotes\n",
      "      --quoting-style=WORD   use quoting style WORD for entry names:\n",
      "                               literal, locale, shell, shell-always,\n",
      "                               shell-escape, shell-escape-always, c, escape\n",
      "  -r, --reverse              inverte il senso dell'ordinamento\n",
      "  -R, --recursive            elenca ricorsivamente le sottodirectory\n",
      "  -s, --size                 stampa la dimensione allocata in blocchi di ogni file\n",
      "  -S                         sort by file size, largest first\n",
      "      --sort=WORD            sort by WORD instead of name: none (-U), size (-S),\n",
      "                               time (-t), version (-v), extension (-X)\n",
      "      --time=WORD            with -l, show time as WORD instead of default\n",
      "                               modification time: atime or access or use (-u);\n",
      "                               ctime or status (-c); also use specified time\n",
      "                               as sort key if --sort=time (newest first)\n",
      "      --time-style=STYLE     with -l, show times using style STYLE:\n",
      "                               full-iso, long-iso, iso, locale, or +FORMAT;\n",
      "                               FORMAT is interpreted like in 'date'; if FORMAT\n",
      "                               is FORMAT1<newline>FORMAT2, then FORMAT1 applies\n",
      "                               to non-recent files and FORMAT2 to recent files;\n",
      "                               if STYLE is prefixed with 'posix-', STYLE\n",
      "                               takes effect only outside the POSIX locale\n",
      "  -t                         ordina secondo l'orario di modifica, prima il più recente\n",
      "  -T, --tabsize=COL          assume che le tabulazioni siano ad ogni COL invece di 8\n",
      "  -u                         with -lt: sort by, and show, access time;\n",
      "                               with -l: show access time and sort by name;\n",
      "                               otherwise: sort by access time, newest first\n",
      "  -U                         do not sort; list entries in directory order\n",
      "  -v                         natural sort of (version) numbers within text\n",
      "  -w, --width=COLS           set output width to COLS.  0 means no limit\n",
      "  -x                         list entries by lines instead of by columns\n",
      "  -X                         sort alphabetically by entry extension\n",
      "  -Z, --context              print any security context of each file\n",
      "  -1                         list one file per line.  Avoid '\\n' with -q or -b\n",
      "      --help     mostra questo aiuto ed esce\n",
      "      --version  stampa le informazioni sulla versione ed esce\n",
      "\n",
      "The SIZE argument is an integer and optional unit (example: 10K is 10*1024).\n",
      "Units are K,M,G,T,P,E,Z,Y (powers of 1024) or KB,MB,... (powers of 1000).\n",
      "\n",
      "L'uso dei colori per distingure i tipi di file è disabilitato sia in modo predefinito che\n",
      "con --color=never. Con --color=auto, ls emette i codici di colore solo se lo\n",
      "standard output è connesso a un terminale. La variabile di ambiente LS_COLORS\n",
      "può cambiare queste impostazioni. Usare il comando dircolors per impostarla.\n",
      "\n",
      "Stato di uscita:\n",
      " 0  se OK,\n",
      " 1  per problemi minori (es.: impossibile accedere alla sottodirectory),\n",
      " 2  per problemi seri (es.: impossibile accedere all'argomento della riga di comando).\n",
      "\n",
      "GNU coreutils online help: <http://www.gnu.org/software/coreutils/>\n",
      "Segnalare i bug di traduzione di ls a <tp@lists.linux.it>\n",
      "Full documentation at: <http://www.gnu.org/software/coreutils/ls>\n",
      "or available locally via: info '(coreutils) ls invocation'\n"
     ]
    }
   ],
   "source": [
    "%%bash\n",
    "\n",
    "ls --help"
   ]
  },
  {
   "cell_type": "markdown",
   "metadata": {},
   "source": [
    "### Let's create a new folder\n",
    "\n",
    "The ```mkdir``` command is used to create a new folder starting from where you are. If you want you can also pass to the command the whole path you want to put the new folder in.\n",
    "Let's try!"
   ]
  },
  {
   "cell_type": "code",
   "execution_count": 9,
   "metadata": {},
   "outputs": [
    {
     "name": "stdout",
     "output_type": "stream",
     "text": [
      "bash_shell_recap.ipynb\n",
      "exercise/\n",
      "lecture_1.zip\n",
      "newTemporaryFolder/\n",
      "virtualbox-guide.pdf\n"
     ]
    }
   ],
   "source": [
    "%%bash\n",
    "mkdir newTemporaryFolder\n",
    "ls -F"
   ]
  },
  {
   "cell_type": "markdown",
   "metadata": {},
   "source": [
    "To create a new folder inside the created one the commands becomes:"
   ]
  },
  {
   "cell_type": "code",
   "execution_count": 10,
   "metadata": {},
   "outputs": [
    {
     "name": "stdout",
     "output_type": "stream",
     "text": [
      "newTemporaryFolderInside/\n"
     ]
    }
   ],
   "source": [
    "%%bash \n",
    "\n",
    "mkdir newTemporaryFolder/newTemporaryFolderInside\n",
    "ls ./newTemporaryFolder -F"
   ]
  },
  {
   "cell_type": "markdown",
   "metadata": {},
   "source": [
    "### How to create a simple empty file?\n",
    "\n",
    "The ```touch``` command is a simple command that allows you to create an empty file with the name and the extension that you want. Here's a simple example"
   ]
  },
  {
   "cell_type": "code",
   "execution_count": 11,
   "metadata": {},
   "outputs": [
    {
     "name": "stdout",
     "output_type": "stream",
     "text": [
      "bash_shell_recap.ipynb\n",
      "exercise/\n",
      "lecture_1.zip\n",
      "newTemporaryFolder/\n",
      "tempFile.txt\n",
      "virtualbox-guide.pdf\n"
     ]
    }
   ],
   "source": [
    "%%bash\n",
    "\n",
    "touch tempFile.txt\n",
    "ls -F"
   ]
  },
  {
   "cell_type": "markdown",
   "metadata": {},
   "source": [
    "### How to go in/out from a folder?"
   ]
  },
  {
   "cell_type": "markdown",
   "metadata": {},
   "source": [
    "The ```cd``` command has two functions. Getting in or getting out of a folder. To enter a folder the command becomes ```cd folderName```. If you want to enter in a sub-folder, you can do this just by concatenating the folders that contain it: ```cd folderName/folder2Name/..```. \n",
    "\n",
    "If you want to exit a folder the command becomes ```cd ..```. Similar to the entering, if you want to get out of several folders, you have to concatenate the dots as ```cd ../..```.\n",
    "\n",
    "If you want to come back to your $HOME directory, from wherever you are, this command gives you the shortcut ```cd ```.\n",
    "\n",
    "Let's try to cd in a folder and then get out."
   ]
  },
  {
   "cell_type": "code",
   "execution_count": 12,
   "metadata": {},
   "outputs": [
    {
     "name": "stdout",
     "output_type": "stream",
     "text": [
      "I'm in: /home/scampese/Repository/ManagementAndAnalysisOfPhysicsDatasetsB/lecture_1/newTemporaryFolder\n",
      "Now I'm in: /home/scampese/Repository/ManagementAndAnalysisOfPhysicsDatasetsB/lecture_1\n"
     ]
    }
   ],
   "source": [
    "%%bash\n",
    "\n",
    "cd newTemporaryFolder\n",
    "echo \"I'm in:\" $(pwd)\n",
    "cd ..\n",
    "echo \"Now I'm in:\" $(pwd)"
   ]
  },
  {
   "cell_type": "markdown",
   "metadata": {},
   "source": [
    "### How to delete a file or a folder\n",
    "\n",
    "The ```rm``` command is a command needed when you want to delete a file. If you want to delete both the folder an its content, the command becomes ```rm -r```.\n",
    "Let's see a couple of examples"
   ]
  },
  {
   "cell_type": "code",
   "execution_count": 13,
   "metadata": {},
   "outputs": [
    {
     "name": "stdout",
     "output_type": "stream",
     "text": [
      "Before deleting the file:\n",
      "bash_shell_recap.ipynb\n",
      "exercise/\n",
      "lecture_1.zip\n",
      "newTemporaryFolder/\n",
      "tempFile.txt\n",
      "virtualbox-guide.pdf\n",
      "******************************************\n",
      "After deleting the file:\n",
      "bash_shell_recap.ipynb\n",
      "exercise/\n",
      "lecture_1.zip\n",
      "newTemporaryFolder/\n",
      "virtualbox-guide.pdf\n",
      "******************************************\n",
      "After deleting the folder:\n",
      "bash_shell_recap.ipynb\n",
      "exercise/\n",
      "lecture_1.zip\n",
      "virtualbox-guide.pdf\n"
     ]
    }
   ],
   "source": [
    "%%bash\n",
    "\n",
    "echo \"Before deleting the file:\"\n",
    "ls -F\n",
    "echo \"******************************************\"\n",
    "\n",
    "echo \"After deleting the file:\"\n",
    "rm tempFile.txt\n",
    "ls -F\n",
    "echo \"******************************************\"\n",
    "\n",
    "echo \"After deleting the folder:\"\n",
    "rm -r newTemporaryFolder\n",
    "ls -F"
   ]
  },
  {
   "cell_type": "markdown",
   "metadata": {},
   "source": [
    "### How to Copy or Move a file or a folder\n",
    "\n",
    "To copy a file or a folder you need to use ```cp```, while the command ```mv``` lets you move a file or a folder.\n",
    "Mv command can also be used to rename a file: \"*Moving a file into another name*\"\n",
    "\n"
   ]
  },
  {
   "cell_type": "code",
   "execution_count": 14,
   "metadata": {},
   "outputs": [],
   "source": [
    "%%bash \n",
    "mkdir startingPath\n",
    "mkdir destinationPath\n",
    "touch startingPath/file.txt\n",
    "\n",
    "mkdir pippo\n",
    "\n",
    "cp startingPath/file.txt destinationPath/file.txt\n"
   ]
  },
  {
   "cell_type": "code",
   "execution_count": 15,
   "metadata": {},
   "outputs": [
    {
     "name": "stdout",
     "output_type": "stream",
     "text": [
      "file.txt\r\n"
     ]
    }
   ],
   "source": [
    "! ls destinationPath"
   ]
  },
  {
   "cell_type": "code",
   "execution_count": 16,
   "metadata": {},
   "outputs": [],
   "source": [
    "%%bash \n",
    "\n",
    "rm  startingPath/file.txt\n",
    "mv destinationPath/file.txt startingPath/file.txt"
   ]
  },
  {
   "cell_type": "code",
   "execution_count": 17,
   "metadata": {},
   "outputs": [],
   "source": [
    "! ls destinationPath"
   ]
  },
  {
   "cell_type": "code",
   "execution_count": 18,
   "metadata": {},
   "outputs": [
    {
     "name": "stdout",
     "output_type": "stream",
     "text": [
      "file.txt\r\n"
     ]
    }
   ],
   "source": [
    "! ls startingPath"
   ]
  },
  {
   "cell_type": "markdown",
   "metadata": {},
   "source": [
    "But ```mv``` can be used even to rename..."
   ]
  },
  {
   "cell_type": "code",
   "execution_count": 19,
   "metadata": {},
   "outputs": [],
   "source": [
    "%%bash\n",
    "\n",
    "mv pippo pluto"
   ]
  },
  {
   "cell_type": "code",
   "execution_count": 20,
   "metadata": {},
   "outputs": [
    {
     "name": "stdout",
     "output_type": "stream",
     "text": [
      "bash_shell_recap.ipynb\texercise       pluto\t     virtualbox-guide.pdf\r\n",
      "destinationPath\t\tlecture_1.zip  startingPath\r\n"
     ]
    }
   ],
   "source": [
    "!ls "
   ]
  },
  {
   "cell_type": "markdown",
   "metadata": {},
   "source": [
    "### How to see the content of a file\n",
    "\n",
    "For this purpose, there are several options. The most common integrated command in the Unix Shell are:\n",
    "+ cat\n",
    "+ tail\n",
    "+ head\n",
    "\n",
    "The ```cat``` command can be used to get all the content of a file or a set of files and print them to the screen regardless of the file format (binary file included). This command is very useful but it is not appreciable when you have to deal with thousands and million-row files, which is quite common in the Big Data era.\n",
    "\n",
    "The ``` head``` command allows you to get the first n rows of a file where n is a parameter of the command. This file can be useful when you need a fast check on a file structure or when you need to look for something in the first rows.\n",
    "\n",
    "The ```tail``` command allows you to get the last n rows of a file where n is a parameter of the command. This command is particularly helpful when you have to check a log of a program (i.e.: you want to check just the last iteration/execution of a program and not the whole log file). Moreover, ```tail``` allows you to \"*listen*\" to a file that is being written and print in real-time what is going to be put on that file. This is quite useful when you have a log of your cluster and you want to check what is happening to the computation.\n"
   ]
  },
  {
   "cell_type": "code",
   "execution_count": 21,
   "metadata": {},
   "outputs": [
    {
     "name": "stdout",
     "output_type": "stream",
     "text": [
      "Hello to MAPD 19/20\n"
     ]
    }
   ],
   "source": [
    "%%bash \n",
    "\n",
    "touch tempFile.txt\n",
    "echo \"Hello to MAPD 19/20\" > tempFile.txt\n",
    "cat tempFile.txt\n"
   ]
  },
  {
   "cell_type": "code",
   "execution_count": 22,
   "metadata": {
    "scrolled": true
   },
   "outputs": [
    {
     "name": "stdout",
     "output_type": "stream",
     "text": [
      "Hello to MAPD 19/20\n",
      "The first lecture is about bash\n"
     ]
    }
   ],
   "source": [
    "%%bash \n",
    "\n",
    "echo \"The first lecture is about bash\" >> tempFile.txt\n",
    "cat tempFile.txt"
   ]
  },
  {
   "cell_type": "code",
   "execution_count": 23,
   "metadata": {},
   "outputs": [
    {
     "name": "stdout",
     "output_type": "stream",
     "text": [
      "Hello to MAPD 19/20\n"
     ]
    }
   ],
   "source": [
    "%%bash\n",
    "head -n 1 tempFile.txt"
   ]
  },
  {
   "cell_type": "code",
   "execution_count": 24,
   "metadata": {},
   "outputs": [
    {
     "name": "stdout",
     "output_type": "stream",
     "text": [
      "The first lecture is about bash\n"
     ]
    }
   ],
   "source": [
    "%%bash \n",
    "tail -n 1 tempFile.txt"
   ]
  },
  {
   "cell_type": "markdown",
   "metadata": {},
   "source": [
    "### Search a file/directory\n",
    "\n",
    "the ```find``` command is used to search a file or a folder. It has a huge set of different options to make really complex searches. Let's see a simple example:\n"
   ]
  },
  {
   "cell_type": "code",
   "execution_count": 25,
   "metadata": {},
   "outputs": [
    {
     "name": "stdout",
     "output_type": "stream",
     "text": [
      "./tempFile.txt\n"
     ]
    }
   ],
   "source": [
    "%%bash \n",
    "find . -name tempFile.txt"
   ]
  },
  {
   "cell_type": "markdown",
   "metadata": {},
   "source": [
    "The aforementioned command is used to search, starting from our working directory, the tempFile.txt. In the next cell there's a command that can be used to search all the files with the txt extension that are present in our working directory. To change the searched directory we need to change the . with the path fo the folder you want to search in."
   ]
  },
  {
   "cell_type": "code",
   "execution_count": 26,
   "metadata": {},
   "outputs": [
    {
     "name": "stdout",
     "output_type": "stream",
     "text": [
      "./startingPath/file.txt\n",
      "./exercise/exercise_file_3.txt\n",
      "./exercise/exercise_file_2.txt\n",
      "./exercise/exercise_file_4.txt\n",
      "./exercise/exercise_file_1.txt\n",
      "./exercise/exercise_file_5.txt\n",
      "./exercise/haiku.txt\n",
      "./tempFile.txt\n"
     ]
    }
   ],
   "source": [
    "%%bash \n",
    "find . -name '*.txt' ## the qoutes around the argument are not necessay out of Jupyter"
   ]
  },
  {
   "cell_type": "code",
   "execution_count": 27,
   "metadata": {},
   "outputs": [
    {
     "name": "stdout",
     "output_type": "stream",
     "text": [
      "./newTemporaryFolder/anotherTestFile.txt\n"
     ]
    }
   ],
   "source": [
    "%%bash \n",
    "\n",
    "mkdir newTemporaryFolder\n",
    "touch ./newTemporaryFolder/anotherTestFile.txt\n",
    "find ./newTemporaryFolder -name '*.txt' ## the qoutes around the argument are not necessay out of Jupyter\n",
    "\n",
    "rm -r newTemporaryFolder"
   ]
  },
  {
   "cell_type": "markdown",
   "metadata": {},
   "source": [
    "## Search in a file\n",
    "\n",
    "The ```grep``` command can be used to search something in a file. \n",
    "Let's see an example:"
   ]
  },
  {
   "cell_type": "code",
   "execution_count": 28,
   "metadata": {},
   "outputs": [
    {
     "name": "stdout",
     "output_type": "stream",
     "text": [
      "Hello to MAPD 19/20\n"
     ]
    }
   ],
   "source": [
    "%%bash\n",
    "grep MAPD tempFile.txt"
   ]
  },
  {
   "cell_type": "markdown",
   "metadata": {},
   "source": [
    "grep allows to extract all the line that contains the word that we want to search. This command can also work with regular expressions."
   ]
  },
  {
   "cell_type": "code",
   "execution_count": 29,
   "metadata": {},
   "outputs": [
    {
     "name": "stdout",
     "output_type": "stream",
     "text": [
      "Hello to MAPD 19/20\n"
     ]
    }
   ],
   "source": [
    "%%bash\n",
    "grep -E \"[0-9]+\" tempFile.txt"
   ]
  },
  {
   "cell_type": "markdown",
   "metadata": {},
   "source": [
    "## Counting words or lines of a file:"
   ]
  },
  {
   "cell_type": "markdown",
   "metadata": {},
   "source": [
    "the ```wc``` command allows you to count the number of words in a file:"
   ]
  },
  {
   "cell_type": "code",
   "execution_count": 30,
   "metadata": {},
   "outputs": [
    {
     "name": "stdout",
     "output_type": "stream",
     "text": [
      "10 tempFile.txt\n"
     ]
    }
   ],
   "source": [
    "%%bash\n",
    "wc -w tempFile.txt"
   ]
  },
  {
   "cell_type": "markdown",
   "metadata": {},
   "source": [
    "or the number of line"
   ]
  },
  {
   "cell_type": "code",
   "execution_count": 31,
   "metadata": {},
   "outputs": [
    {
     "name": "stdout",
     "output_type": "stream",
     "text": [
      "2 tempFile.txt\n"
     ]
    }
   ],
   "source": [
    "%%bash\n",
    "wc -l tempFile.txt"
   ]
  },
  {
   "cell_type": "markdown",
   "metadata": {},
   "source": [
    "## Sorting\n",
    "the command ```sort``` can be used to sort the elements in a file or in a list of elements:"
   ]
  },
  {
   "cell_type": "code",
   "execution_count": 32,
   "metadata": {},
   "outputs": [
    {
     "name": "stdout",
     "output_type": "stream",
     "text": [
      "2\n",
      "3\n",
      "5\n",
      "6\n"
     ]
    }
   ],
   "source": [
    "%%bash\n",
    "\n",
    "echo \"5\" > orderable.txt\n",
    "echo \"3\" >> orderable.txt\n",
    "echo \"6\" >> orderable.txt\n",
    "echo \"2\" >> orderable.txt\n",
    "\n",
    "sort orderable.txt"
   ]
  },
  {
   "cell_type": "markdown",
   "metadata": {},
   "source": [
    "## Complex but useful commands"
   ]
  },
  {
   "cell_type": "markdown",
   "metadata": {},
   "source": [
    "### How can we build a pipeline of commands?\n",
    "\n",
    "the answer is with char ```|```. \n",
    "This is a special char that can be used to create a pipeline of commands that must be executed in order. \n",
    "For example when searching in a file:"
   ]
  },
  {
   "cell_type": "code",
   "execution_count": 33,
   "metadata": {},
   "outputs": [
    {
     "name": "stdout",
     "output_type": "stream",
     "text": [
      "Hello to MAPD 19/20\n"
     ]
    }
   ],
   "source": [
    "%%bash \n",
    "cat tempFile.txt | grep MAPD"
   ]
  },
  {
   "cell_type": "markdown",
   "metadata": {},
   "source": [
    "Or it can be used to order a set of files by the number of words inside (ascending):"
   ]
  },
  {
   "cell_type": "code",
   "execution_count": 34,
   "metadata": {},
   "outputs": [
    {
     "name": "stdout",
     "output_type": "stream",
     "text": [
      " 1 file3.txt\n",
      " 3 file1.txt\n",
      " 4 file2.txt\n",
      " 8 totale\n"
     ]
    }
   ],
   "source": [
    "%%bash \n",
    "echo \"one two three\" > file1.txt\n",
    "echo \"one two three four\" > file2.txt\n",
    "echo \"one\" > file3.txt\n",
    "\n",
    "\n",
    "wc -w file* | sort -n "
   ]
  },
  {
   "cell_type": "markdown",
   "metadata": {},
   "source": [
    "## Getting the list of the processes in the system\n",
    "\n",
    "```ps``` is a command that allows to list all the processes that are running in the system.\n"
   ]
  },
  {
   "cell_type": "code",
   "execution_count": 35,
   "metadata": {},
   "outputs": [
    {
     "name": "stdout",
     "output_type": "stream",
     "text": [
      "USER       PID %CPU %MEM    VSZ   RSS TTY      STAT START   TIME COMMAND\r\n",
      "root         1  0.0  0.0 225424  9228 ?        Ss   13:33   0:02 /sbin/init spla\r\n",
      "root         2  0.0  0.0      0     0 ?        S    13:33   0:00 [kthreadd]\r\n",
      "root         3  0.0  0.0      0     0 ?        I<   13:33   0:00 [rcu_gp]\r\n",
      "root         4  0.0  0.0      0     0 ?        I<   13:33   0:00 [rcu_par_gp]\r\n",
      "root         6  0.0  0.0      0     0 ?        I<   13:33   0:00 [kworker/0:0H-k\r\n",
      "root         9  0.0  0.0      0     0 ?        I<   13:33   0:00 [mm_percpu_wq]\r\n",
      "root        10  0.0  0.0      0     0 ?        S    13:33   0:00 [ksoftirqd/0]\r\n",
      "root        11  0.0  0.0      0     0 ?        I    13:33   0:02 [rcu_sched]\r\n",
      "root        12  0.0  0.0      0     0 ?        S    13:33   0:00 [migration/0]\r\n",
      "root        13  0.0  0.0      0     0 ?        S    13:33   0:00 [idle_inject/0]\r\n",
      "root        14  0.0  0.0      0     0 ?        S    13:33   0:00 [cpuhp/0]\r\n",
      "root        15  0.0  0.0      0     0 ?        S    13:33   0:00 [cpuhp/1]\r\n",
      "root        16  0.0  0.0      0     0 ?        S    13:33   0:00 [idle_inject/1]\r\n",
      "root        17  0.0  0.0      0     0 ?        S    13:33   0:00 [migration/1]\r\n",
      "root        18  0.0  0.0      0     0 ?        S    13:33   0:00 [ksoftirqd/1]\r\n",
      "root        20  0.0  0.0      0     0 ?        I<   13:33   0:00 [kworker/1:0H-k\r\n",
      "root        21  0.0  0.0      0     0 ?        S    13:33   0:00 [cpuhp/2]\r\n",
      "root        22  0.0  0.0      0     0 ?        S    13:33   0:00 [idle_inject/2]\r\n",
      "root        23  0.0  0.0      0     0 ?        S    13:33   0:00 [migration/2]\r\n",
      "root        24  0.0  0.0      0     0 ?        S    13:33   0:00 [ksoftirqd/2]\r\n",
      "root        26  0.0  0.0      0     0 ?        I<   13:33   0:00 [kworker/2:0H-e\r\n",
      "root        27  0.0  0.0      0     0 ?        S    13:33   0:00 [cpuhp/3]\r\n",
      "root        28  0.0  0.0      0     0 ?        S    13:33   0:00 [idle_inject/3]\r\n",
      "root        29  0.0  0.0      0     0 ?        S    13:33   0:00 [migration/3]\r\n",
      "root        30  0.0  0.0      0     0 ?        S    13:33   0:00 [ksoftirqd/3]\r\n",
      "root        32  0.0  0.0      0     0 ?        I<   13:33   0:00 [kworker/3:0H-k\r\n",
      "root        33  0.0  0.0      0     0 ?        S    13:33   0:00 [cpuhp/4]\r\n",
      "root        34  0.0  0.0      0     0 ?        S    13:33   0:00 [idle_inject/4]\r\n",
      "root        35  0.0  0.0      0     0 ?        S    13:33   0:00 [migration/4]\r\n",
      "root        36  0.0  0.0      0     0 ?        S    13:33   0:00 [ksoftirqd/4]\r\n",
      "root        38  0.0  0.0      0     0 ?        I<   13:33   0:00 [kworker/4:0H-k\r\n",
      "root        39  0.0  0.0      0     0 ?        S    13:33   0:00 [cpuhp/5]\r\n",
      "root        40  0.0  0.0      0     0 ?        S    13:33   0:00 [idle_inject/5]\r\n",
      "root        41  0.0  0.0      0     0 ?        S    13:33   0:00 [migration/5]\r\n",
      "root        42  0.0  0.0      0     0 ?        S    13:33   0:00 [ksoftirqd/5]\r\n",
      "root        44  0.0  0.0      0     0 ?        I<   13:33   0:00 [kworker/5:0H-k\r\n",
      "root        45  0.0  0.0      0     0 ?        S    13:33   0:00 [cpuhp/6]\r\n",
      "root        46  0.0  0.0      0     0 ?        S    13:33   0:00 [idle_inject/6]\r\n",
      "root        47  0.0  0.0      0     0 ?        S    13:33   0:00 [migration/6]\r\n",
      "root        48  0.0  0.0      0     0 ?        S    13:33   0:00 [ksoftirqd/6]\r\n",
      "root        50  0.0  0.0      0     0 ?        I<   13:33   0:00 [kworker/6:0H-k\r\n",
      "root        51  0.0  0.0      0     0 ?        S    13:33   0:00 [cpuhp/7]\r\n",
      "root        52  0.0  0.0      0     0 ?        S    13:33   0:00 [idle_inject/7]\r\n",
      "root        53  0.0  0.0      0     0 ?        S    13:33   0:00 [migration/7]\r\n",
      "root        54  0.0  0.0      0     0 ?        S    13:33   0:00 [ksoftirqd/7]\r\n",
      "root        55  0.0  0.0      0     0 ?        I    13:33   0:00 [kworker/7:0-ev\r\n",
      "root        56  0.0  0.0      0     0 ?        I<   13:33   0:00 [kworker/7:0H-k\r\n",
      "root        57  0.0  0.0      0     0 ?        S    13:33   0:00 [cpuhp/8]\r\n",
      "root        58  0.0  0.0      0     0 ?        S    13:33   0:00 [idle_inject/8]\r\n",
      "root        59  0.0  0.0      0     0 ?        S    13:33   0:00 [migration/8]\r\n",
      "root        60  0.0  0.0      0     0 ?        S    13:33   0:00 [ksoftirqd/8]\r\n",
      "root        61  0.0  0.0      0     0 ?        I    13:33   0:00 [kworker/8:0-ev\r\n",
      "root        62  0.0  0.0      0     0 ?        I<   13:33   0:00 [kworker/8:0H-k\r\n",
      "root        63  0.0  0.0      0     0 ?        S    13:33   0:00 [cpuhp/9]\r\n",
      "root        64  0.0  0.0      0     0 ?        S    13:33   0:00 [idle_inject/9]\r\n",
      "root        65  0.0  0.0      0     0 ?        S    13:33   0:00 [migration/9]\r\n",
      "root        66  0.0  0.0      0     0 ?        S    13:33   0:00 [ksoftirqd/9]\r\n",
      "root        68  0.0  0.0      0     0 ?        I<   13:33   0:00 [kworker/9:0H-e\r\n",
      "root        69  0.0  0.0      0     0 ?        S    13:33   0:00 [cpuhp/10]\r\n",
      "root        70  0.0  0.0      0     0 ?        S    13:33   0:00 [idle_inject/10\r\n",
      "root        71  0.0  0.0      0     0 ?        S    13:33   0:00 [migration/10]\r\n",
      "root        72  0.0  0.0      0     0 ?        S    13:33   0:00 [ksoftirqd/10]\r\n",
      "root        74  0.0  0.0      0     0 ?        I<   13:33   0:00 [kworker/10:0H-\r\n",
      "root        75  0.0  0.0      0     0 ?        S    13:33   0:00 [cpuhp/11]\r\n",
      "root        76  0.0  0.0      0     0 ?        S    13:33   0:00 [idle_inject/11\r\n",
      "root        77  0.0  0.0      0     0 ?        S    13:33   0:00 [migration/11]\r\n",
      "root        78  0.0  0.0      0     0 ?        S    13:33   0:00 [ksoftirqd/11]\r\n",
      "root        80  0.0  0.0      0     0 ?        I<   13:33   0:00 [kworker/11:0H-\r\n",
      "root        81  0.0  0.0      0     0 ?        S    13:33   0:00 [kdevtmpfs]\r\n",
      "root        82  0.0  0.0      0     0 ?        I<   13:33   0:00 [netns]\r\n",
      "root        83  0.0  0.0      0     0 ?        S    13:33   0:00 [rcu_tasks_kthr\r\n",
      "root        84  0.0  0.0      0     0 ?        S    13:33   0:00 [kauditd]\r\n",
      "root        85  0.0  0.0      0     0 ?        I    13:33   0:01 [kworker/1:1-ev\r\n",
      "root        87  0.0  0.0      0     0 ?        S    13:33   0:00 [khungtaskd]\r\n",
      "root        88  0.0  0.0      0     0 ?        S    13:33   0:00 [oom_reaper]\r\n",
      "root        89  0.0  0.0      0     0 ?        I<   13:33   0:00 [writeback]\r\n",
      "root        90  0.0  0.0      0     0 ?        S    13:33   0:00 [kcompactd0]\r\n",
      "root        91  0.0  0.0      0     0 ?        SN   13:33   0:00 [ksmd]\r\n",
      "root        92  0.0  0.0      0     0 ?        SN   13:33   0:00 [khugepaged]\r\n",
      "root        98  0.0  0.0      0     0 ?        I    13:33   0:00 [kworker/3:1-ev\r\n",
      "root       185  0.0  0.0      0     0 ?        I<   13:33   0:00 [kintegrityd]\r\n",
      "root       186  0.0  0.0      0     0 ?        I<   13:33   0:00 [kblockd]\r\n",
      "root       187  0.0  0.0      0     0 ?        I<   13:33   0:00 [blkcg_punt_bio\r\n",
      "root       190  0.0  0.0      0     0 ?        I<   13:33   0:00 [tpm_dev_wq]\r\n",
      "root       191  0.0  0.0      0     0 ?        I<   13:33   0:00 [ata_sff]\r\n",
      "root       192  0.0  0.0      0     0 ?        I<   13:33   0:00 [md]\r\n",
      "root       193  0.0  0.0      0     0 ?        I<   13:33   0:00 [edac-poller]\r\n",
      "root       194  0.0  0.0      0     0 ?        I<   13:33   0:00 [devfreq_wq]\r\n",
      "root       195  0.0  0.0      0     0 ?        S    13:33   0:00 [watchdogd]\r\n",
      "root       196  0.0  0.0      0     0 ?        I    13:33   0:00 [kworker/4:1-ev\r\n",
      "root       204  0.0  0.0      0     0 ?        S    13:33   0:00 [kswapd0]\r\n",
      "root       206  0.0  0.0      0     0 ?        S    13:33   0:00 [ecryptfs-kthre\r\n",
      "root       209  0.0  0.0      0     0 ?        I<   13:33   0:00 [kthrotld]\r\n",
      "root       210  0.0  0.0      0     0 ?        S    13:33   0:00 [irq/123-aerdrv\r\n",
      "root       211  0.0  0.0      0     0 ?        S    13:33   0:00 [irq/123-pcie-d\r\n",
      "root       212  0.0  0.0      0     0 ?        S    13:33   0:00 [irq/124-aerdrv\r\n",
      "root       213  0.0  0.0      0     0 ?        S    13:33   0:00 [irq/124-pcie-d\r\n",
      "root       214  0.0  0.0      0     0 ?        S    13:33   0:00 [irq/125-aerdrv\r\n",
      "root       215  0.0  0.0      0     0 ?        S    13:33   0:00 [irq/125-pcie-d\r\n",
      "root       216  0.0  0.0      0     0 ?        I<   13:33   0:00 [acpi_thermal_p\r\n",
      "root       223  0.0  0.0      0     0 ?        I<   13:33   0:00 [ipv6_addrconf]\r\n",
      "root       234  0.0  0.0      0     0 ?        I<   13:33   0:00 [kstrp]\r\n",
      "root       253  0.0  0.0      0     0 ?        I<   13:33   0:00 [charger_manage\r\n",
      "root       323  0.0  0.0      0     0 ?        I<   13:33   0:00 [nvme-wq]\r\n",
      "root       324  0.0  0.0      0     0 ?        I<   13:33   0:00 [nvme-reset-wq]\r\n",
      "root       325  0.0  0.0      0     0 ?        I<   13:33   0:00 [nvme-delete-wq\r\n",
      "root       326  0.0  0.0      0     0 ?        S    13:33   0:00 [scsi_eh_0]\r\n",
      "root       327  0.0  0.0      0     0 ?        I<   13:33   0:00 [scsi_tmf_0]\r\n",
      "root       328  0.0  0.0      0     0 ?        S    13:33   0:00 [scsi_eh_1]\r\n",
      "root       329  0.0  0.0      0     0 ?        I<   13:33   0:00 [scsi_tmf_1]\r\n",
      "root       330  0.0  0.0      0     0 ?        S    13:33   0:00 [scsi_eh_2]\r\n",
      "root       331  0.0  0.0      0     0 ?        I<   13:33   0:00 [scsi_tmf_2]\r\n",
      "root       332  0.0  0.0      0     0 ?        S    13:33   0:00 [scsi_eh_3]\r\n",
      "root       333  0.0  0.0      0     0 ?        I<   13:33   0:00 [scsi_tmf_3]\r\n",
      "root       334  0.0  0.0      0     0 ?        S    13:33   0:00 [scsi_eh_4]\r\n",
      "root       335  0.0  0.0      0     0 ?        I<   13:33   0:00 [scsi_tmf_4]\r\n",
      "root       344  0.0  0.0      0     0 ?        I<   13:33   0:00 [kworker/8:1H]\r\n",
      "root       347  0.0  0.0      0     0 ?        I    13:33   0:00 [kworker/2:2-mm\r\n",
      "root       348  0.0  0.0      0     0 ?        S    13:33   0:00 [nv_queue]\r\n",
      "root       349  0.0  0.0      0     0 ?        S    13:33   0:00 [nv_queue]\r\n",
      "root       350  0.0  0.0      0     0 ?        S    13:33   0:00 [nvidia-modeset\r\n",
      "root       351  0.0  0.0      0     0 ?        S    13:33   0:00 [nvidia-modeset\r\n",
      "root       418  0.0  0.0      0     0 ?        I<   13:33   0:00 [kworker/2:1H-k\r\n",
      "root       421  0.0  0.0      0     0 ?        I<   13:33   0:00 [kworker/9:1H-k\r\n",
      "root       443  0.0  0.0      0     0 ?        I<   13:33   0:00 [kworker/0:1H-k\r\n",
      "root       445  0.0  0.0      0     0 ?        S    13:33   0:00 [jbd2/nvme0n1p2\r\n",
      "root       446  0.0  0.0      0     0 ?        I<   13:33   0:00 [ext4-rsv-conve\r\n",
      "root       495  0.0  0.1 157468 57212 ?        S<s  13:33   0:00 /lib/systemd/sy\r\n",
      "root       513  0.0  0.0      0     0 ?        I<   13:33   0:00 [kworker/5:1H-k\r\n",
      "root       518  0.0  0.0  47452  5524 ?        Ss   13:33   0:00 /lib/systemd/sy\r\n",
      "root       554  0.0  0.0      0     0 ?        I<   13:33   0:00 [kworker/4:1H-k\r\n",
      "root       562  0.0  0.0      0     0 ?        S<   13:33   0:00 [loop0]\r\n",
      "root       579  0.0  0.0      0     0 ?        S    13:33   0:00 [UVM global que\r\n",
      "root       580  0.0  0.0      0     0 ?        S    13:33   0:00 [UVM deferred r\r\n",
      "root       581  0.0  0.0      0     0 ?        S    13:33   0:00 [UVM Tools Even\r\n",
      "root       591  0.0  0.0      0     0 ?        S    13:33   0:00 [irq/139-mei_me\r\n",
      "root       596  0.0  0.0      0     0 ?        I<   13:33   0:00 [kmemstick]\r\n",
      "root       597  0.0  0.0      0     0 ?        S<   13:33   0:00 [loop1]\r\n",
      "root       604  0.8  0.0      0     0 ?        S    13:33   0:47 [irq/140-nvidia\r\n",
      "root       605  0.0  0.0      0     0 ?        S    13:33   0:00 [nvidia]\r\n",
      "root       606  0.0  0.0      0     0 ?        S    13:33   0:03 [nv_queue]\r\n",
      "root       611  0.0  0.0      0     0 ?        S    13:33   0:00 [irq/141-SYNA12\r\n",
      "root       619  0.0  0.0      0     0 ?        I<   13:33   0:00 [kworker/11:1H-\r\n",
      "root       669  0.0  0.0      0     0 ?        I<   13:33   0:00 [cfg80211]\r\n",
      "root       686  0.0  0.0      0     0 ?        S<   13:33   0:00 [loop2]\r\n",
      "root       701  0.0  0.0      0     0 ?        I<   13:33   0:00 [cryptd]\r\n",
      "root       712  0.0  0.0      0     0 ?        S<   13:33   0:00 [loop3]\r\n",
      "root       716  0.0  0.0      0     0 ?        S    13:33   0:03 [irq/142-iwlwif\r\n",
      "root       717  0.0  0.0      0     0 ?        S    13:33   0:00 [irq/143-iwlwif\r\n",
      "root       718  0.0  0.0      0     0 ?        S    13:33   0:00 [irq/144-iwlwif\r\n",
      "root       719  0.0  0.0      0     0 ?        S    13:33   0:00 [irq/145-iwlwif\r\n",
      "root       720  0.0  0.0      0     0 ?        S    13:33   0:00 [irq/146-iwlwif\r\n",
      "root       721  0.0  0.0      0     0 ?        S    13:33   0:00 [irq/147-iwlwif\r\n",
      "root       722  0.0  0.0      0     0 ?        S    13:33   0:01 [irq/148-iwlwif\r\n",
      "root       723  0.0  0.0      0     0 ?        S    13:33   0:01 [irq/149-iwlwif\r\n",
      "root       724  0.0  0.0      0     0 ?        S    13:33   0:01 [irq/150-iwlwif\r\n",
      "root       725  0.0  0.0      0     0 ?        S    13:33   0:00 [irq/151-iwlwif\r\n",
      "root       726  0.0  0.0      0     0 ?        S    13:33   0:00 [irq/152-iwlwif\r\n",
      "root       727  0.0  0.0      0     0 ?        S    13:33   0:01 [irq/153-iwlwif\r\n",
      "root       728  0.0  0.0      0     0 ?        S    13:33   0:00 [irq/154-iwlwif\r\n",
      "root       729  0.0  0.0      0     0 ?        S    13:33   0:00 [irq/155-iwlwif\r\n",
      "root       782  0.0  0.0      0     0 ?        I<   13:33   0:00 [kworker/6:1H-k\r\n",
      "root       788  0.0  0.0      0     0 ?        S<   13:33   0:00 [loop4]\r\n",
      "root       789  0.0  0.0      0     0 ?        I<   13:33   0:00 [kworker/10:1H-\r\n",
      "systemd+   810  0.0  0.0  70900  6300 ?        Ss   13:33   0:00 /lib/systemd/sy\r\n",
      "systemd+   813  0.0  0.0 143992  3280 ?        Ssl  13:33   0:00 /lib/systemd/sy\r\n",
      "root       852  0.0  0.0      0     0 ?        S<   13:33   0:00 [loop5]\r\n",
      "root       907  0.0  0.0 170544 17232 ?        Ssl  13:33   0:00 /usr/bin/python\r\n",
      "message+   908  0.0  0.0  51716  6200 ?        Ss   13:33   0:04 /usr/bin/dbus-d\r\n",
      "avahi      910  0.0  0.0  47260  3264 ?        Ss   13:33   0:00 avahi-daemon: r\r\n",
      "root       911  0.0  0.0   8868  1532 ?        Ss   13:33   0:00 /usr/bin/nvidia\r\n",
      "root       912  0.0  0.0 503016 10740 ?        Ssl  13:33   0:01 /usr/lib/udisks\r\n",
      "root       914  0.0  0.0   4548   896 ?        Ss   13:33   0:00 /usr/sbin/acpid\r\n",
      "root       915  0.0  0.0 481400 17288 ?        Ssl  13:33   0:01 /usr/sbin/Netwo\r\n",
      "root       917  0.0  0.0  45472  7852 ?        Ss   13:33   0:00 /sbin/wpa_suppl\r\n",
      "syslog     923  0.0  0.0 263032  4480 ?        Ssl  13:33   0:00 /usr/sbin/rsysl\r\n",
      "root       924  0.0  0.0  71136  6536 ?        Ss   13:33   0:00 /lib/systemd/sy\r\n",
      "avahi      925  0.0  0.0  47072   340 ?        S    13:33   0:00 avahi-daemon: c\r\n",
      "root       927  0.0  0.0 434328  9444 ?        Ssl  13:33   0:00 /usr/sbin/Modem\r\n",
      "root       930  0.0  0.0  31324  3156 ?        Ss   13:33   0:00 /usr/sbin/cron \r\n",
      "root       935  0.0  0.0 101944  9384 ?        Ss   13:33   0:00 /usr/sbin/cupsd\r\n",
      "root       942  0.0  0.0      0     0 ?        S<   13:33   0:00 [loop6]\r\n",
      "root       947  0.0  0.0 179868  9068 ?        Ssl  13:33   0:00 /usr/sbin/therm\r\n",
      "root       948  0.0  0.0 288060  7312 ?        Ssl  13:33   0:00 /usr/lib/accoun\r\n",
      "root       949  0.0  0.0 110520  3468 ?        Ssl  13:33   0:00 /usr/sbin/irqba\r\n",
      "root       960  0.0  0.0 303676 10624 ?        Ssl  13:33   0:00 /usr/sbin/cups-\r\n",
      "root       969  0.0  0.0 296624  9900 ?        Ssl  13:33   0:01 /usr/lib/policy\r\n",
      "colord     981  0.0  0.0 318068 14096 ?        Ssl  13:33   0:00 /usr/lib/colord\r\n",
      "lp        1020  0.0  0.0  86416  6044 ?        S    13:33   0:00 /usr/lib/cups/n\r\n",
      "mpd       1024  0.0  0.1 829736 38604 ?        Ssl  13:33   0:00 /usr/bin/mpd --\r\n",
      "root      1059  0.0  0.0      0     0 ?        I<   13:33   0:00 [kworker/1:1H-k\r\n",
      "root      1064  0.0  0.0      0     0 ?        I<   13:33   0:00 [iprt-VBoxWQueu\r\n",
      "root      1066  0.0  0.0  72296  5632 ?        Ss   13:33   0:00 /usr/sbin/sshd \r\n",
      "root      1068  0.0  0.0      0     0 ?        S<   13:33   0:00 [loop7]\r\n",
      "root      1071  0.0  0.0      0     0 ?        I<   13:33   0:00 [kworker/7:1H-k\r\n",
      "root      1073  0.0  0.0      0     0 ?        S<   13:33   0:00 [loop8]\r\n",
      "root      1078  0.0  0.0  36556  4232 ?        Ss   13:33   0:00 /usr/lib/blueto\r\n",
      "root      1080  0.0  0.0      0     0 ?        I<   13:33   0:00 [kworker/3:1H-k\r\n",
      "root      1083  0.0  0.0      0     0 ?        S    13:33   0:00 [iprt-VBoxTscTh\r\n",
      "root      1113  0.0  0.0 505164 26372 ?        Ss   13:33   0:00 /usr/sbin/apach\r\n",
      "postgres  1122  0.0  0.0 321776 28384 ?        Ss   13:33   0:00 /usr/lib/postgr\r\n",
      "mysql     1125  0.0  0.5 1358644 176660 ?      Sl   13:33   0:03 /usr/sbin/mysql\r\n",
      "root      1129  0.0  0.0      0     0 ?        S<   13:33   0:00 [loop9]\r\n",
      "www-data  1137  0.0  0.0 797832 22504 ?        Sl   13:33   0:00 /usr/sbin/apach\r\n",
      "www-data  1138  0.0  0.0 510828 22484 ?        S    13:33   0:00 /usr/sbin/apach\r\n",
      "www-data  1139  0.0  0.0 510828 22484 ?        S    13:33   0:00 /usr/sbin/apach\r\n",
      "www-data  1140  0.0  0.0 510828 22484 ?        S    13:33   0:00 /usr/sbin/apach\r\n",
      "www-data  1141  0.0  0.0 510828 22484 ?        S    13:33   0:00 /usr/sbin/apach\r\n",
      "www-data  1142  0.0  0.0 510828 22452 ?        S    13:33   0:00 /usr/sbin/apach\r\n",
      "postgres  1144  0.0  0.0 321916  6188 ?        Ss   13:33   0:00 postgres: 12/ma\r\n",
      "postgres  1145  0.0  0.0 321932  6448 ?        Ss   13:33   0:00 postgres: 12/ma\r\n",
      "postgres  1146  0.0  0.0 321776  9872 ?        Ss   13:33   0:00 postgres: 12/ma\r\n",
      "postgres  1147  0.0  0.0 322356  6792 ?        Ss   13:33   0:00 postgres: 12/ma\r\n",
      "postgres  1148  0.0  0.0 176288  4276 ?        Ss   13:33   0:00 postgres: 12/ma\r\n",
      "postgres  1149  0.0  0.0 322352  6804 ?        Ss   13:33   0:00 postgres: 12/ma\r\n",
      "root      1185  0.0  0.0      0     0 ?        S<   13:33   0:00 [loop10]\r\n",
      "root      1192  0.0  0.0      0     0 ?        S<   13:33   0:00 [loop11]\r\n",
      "root      1196  0.0  0.0 187248 19884 ?        Ssl  13:33   0:00 /usr/bin/python\r\n",
      "root      1200  0.0  0.0 187732 13800 ?        Ssl  13:33   0:00 /usr/bin/sddm\r\n",
      "root      1228  0.0  0.0      0     0 ?        S<   13:33   0:00 [loop12]\r\n",
      "root      1239  0.0  0.0      0     0 ?        S<   13:33   0:00 [loop13]\r\n",
      "root      1243  0.0  0.0      0     0 ?        S<   13:33   0:00 [loop14]\r\n",
      "root      1251  0.0  0.0 2038796 22812 ?       Ssl  13:33   0:01 /usr/lib/snapd/\r\n",
      "root      1274 28.3  0.4 542268 146772 tty1    Rsl+ 13:33  26:24 /usr/lib/xorg/X\r\n",
      "sddm      1407  0.0  0.0  76792  7724 ?        Ss   13:33   0:00 /lib/systemd/sy\r\n",
      "sddm      1408  0.0  0.0 111940  2588 ?        S    13:33   0:00 (sd-pam)\r\n",
      "sddm      1425  0.0  0.0  45700  2452 ?        S    13:33   0:00 dbus-launch --a\r\n",
      "sddm      1426  0.0  0.0  49792  2608 ?        Ss   13:33   0:00 /usr/bin/dbus-d\r\n",
      "root      1429  0.0  0.0 315596  9000 ?        Ssl  13:34   0:00 /usr/lib/upower\r\n",
      "whoopsie  1461  0.0  0.0 376960 11820 ?        Ssl  13:34   0:00 /usr/bin/whoops\r\n",
      "kernoops  1466  0.0  0.0  56940   416 ?        Ss   13:34   0:00 /usr/sbin/kerne\r\n",
      "kernoops  1469  0.0  0.0  56940   420 ?        Ss   13:34   0:00 /usr/sbin/kerne\r\n",
      "root      1555  0.0  0.0 145764 12888 ?        S    13:34   0:00 /usr/lib/x86_64\r\n",
      "scampese  1556  0.0  0.0  76796  7904 ?        Ss   13:34   0:00 /lib/systemd/sy\r\n",
      "scampese  1557  0.0  0.0 259404  2680 ?        S    13:34   0:00 (sd-pam)\r\n",
      "scampese  1570  0.0  0.1 546360 38496 ?        Sl   13:34   0:00 /usr/bin/kwalle\r\n",
      "scampese  1571  0.0  0.0   4624  1644 ?        S    13:34   0:00 /bin/sh /usr/bi\r\n",
      "scampese  1636  0.0  0.0  45700  2472 ?        S    13:34   0:00 /usr/bin/dbus-l\r\n",
      "scampese  1637  0.0  0.0  50816  4412 ?        Ss   13:34   0:00 /usr/bin/dbus-d\r\n",
      "scampese  1651  0.0  0.0  11300   320 ?        Ss   13:34   0:00 /usr/bin/ssh-ag\r\n",
      "scampese  1688  0.0  0.0   6460    84 ?        S    13:34   0:00 /usr/lib/x86_64\r\n",
      "scampese  1691  0.0  0.0 275168 19048 ?        Ss   13:34   0:00 kdeinit5: Runni\r\n",
      "scampese  1692  0.0  0.1 529236 36864 ?        Sl   13:34   0:00 /usr/lib/x86_64\r\n",
      "scampese  1695  0.0  0.7 2215144 250352 ?      Sl   13:34   0:03 kded5 [kdeinit5\r\n",
      "scampese  1701  0.0  0.1 532716 37352 ?        Sl   13:34   0:00 /usr/bin/kacces\r\n",
      "scampese  1710  0.0  0.0  72536  7244 ?        S    13:34   0:00 kwrapper5 /usr/\r\n",
      "scampese  1711  0.0  0.1 635888 43224 ?        Sl   13:34   0:01 /usr/bin/ksmser\r\n",
      "scampese  1719  0.0  0.1 531208 36520 ?        Sl   13:34   0:00 /usr/bin/kgloba\r\n",
      "scampese  1725  0.0  0.0 787300 26180 ?        Sl   13:34   0:00 /usr/bin/kactiv\r\n",
      "scampese  1727  0.0  0.0 187772  4924 ?        Sl   13:34   0:00 /usr/lib/dconf/\r\n",
      "scampese  1744  3.9  0.5 3392476 170860 ?      Sl   13:34   3:41 kwin_x11 -sessi\r\n",
      "scampese  1746  0.0  0.0 268761216 30932 ?     SNl  13:34   0:00 /usr/bin/baloo_\r\n",
      "scampese  1748  0.1  0.6 3014984 208972 ?      Sl   13:34   0:09 /usr/bin/krunne\r\n",
      "scampese  1750  1.4  1.1 6489196 382092 ?      Sl   13:34   1:22 /usr/bin/plasma\r\n",
      "scampese  1756  0.0  0.1 708076 40296 ?        Sl   13:34   0:00 /usr/lib/x86_64\r\n",
      "scampese  1759  0.0  0.0 375720 19884 ?        Sl   13:34   0:00 /usr/bin/xembed\r\n",
      "scampese  1764  0.0  0.1 641760 43568 ?        Sl   13:34   0:01 /usr/lib/x86_64\r\n",
      "scampese  1779  4.0  0.0 1313720 13784 ?       S<l  13:34   3:42 /usr/bin/pulsea\r\n",
      "rtkit     1781  0.0  0.0 183504  3008 ?        SNsl 13:34   0:00 /usr/lib/rtkit/\r\n",
      "scampese  1791  0.0  0.0 352828 18296 ?        Sl   13:34   0:00 /usr/lib/x86_64\r\n",
      "scampese  1796  0.0  0.2 678976 69292 ?        Sl   13:34   0:01 /usr/bin/yakuak\r\n",
      "scampese  1799  0.0  0.0 349112  6000 ?        Sl   13:34   0:00 /usr/lib/at-spi\r\n",
      "scampese  1805  0.0  0.0  49924  4120 ?        S    13:34   0:00 /usr/bin/dbus-d\r\n",
      "scampese  1807  0.0  0.0 220752  6856 ?        Sl   13:34   0:00 /usr/lib/at-spi\r\n",
      "scampese  1816  0.0  0.1 681424 37360 ?        Sl   13:34   0:01 /usr/lib/x86_64\r\n",
      "scampese  1821  1.4  0.9 2560904 305332 ?      Sl   13:34   1:17 telegram-deskto\r\n",
      "scampese  1849  0.0  0.0  22892  5460 pts/0    Ss   13:34   0:00 /bin/bash\r\n",
      "scampese  1956  0.0  0.0  10840  2412 ?        S    13:34   0:01 ksysguardd\r\n",
      "scampese  1966  0.0  0.0 113736  4556 ?        S    13:34   0:00 /usr/lib/x86_64\r\n",
      "scampese  1969  0.0  0.0  73048  5876 ?        S    13:34   0:00 /usr/lib/x86_64\r\n",
      "root      1974  0.0  0.0      0     0 ?        S<   13:34   0:00 [krfcommd]\r\n",
      "scampese  1981  0.0  0.0 236372 27256 ?        S    13:34   0:00 /usr/bin/kuiser\r\n",
      "root      1987  0.0  0.0 440888 24580 ?        Ssl  13:34   0:02 /usr/lib/packag\r\n",
      "scampese  2138  0.0  0.1 670288 42680 ?        Sl   13:34   0:00 remmina\r\n",
      "scampese  2139  0.0  0.1 592460 54844 ?        Sl   13:34   0:01 filezilla\r\n",
      "scampese  2145  0.0  0.0 284896  7088 ?        Sl   13:34   0:00 /usr/lib/gvfs/g\r\n",
      "scampese  2165  0.0  0.0  82736  6864 ?        S    13:34   0:00 /usr/lib/blueto\r\n",
      "root      2291  0.0  0.0  25988  6348 ?        S    13:34   0:00 /sbin/dhclient \r\n",
      "scampese  2385  0.0  0.1 268973500 42308 ?     Sl   13:35   0:00 /usr/lib/x86_64\r\n",
      "scampese  2454  2.5  1.0 1146804 329940 ?      Sl   13:35   2:18 /opt/google/chr\r\n",
      "scampese  2460  0.0  0.0   7612   816 ?        S    13:35   0:00 cat\r\n",
      "scampese  2461  0.0  0.0   7612   840 ?        S    13:35   0:00 cat\r\n",
      "scampese  2464  0.0  0.1 448000 59868 ?        S    13:35   0:00 /opt/google/chr\r\n",
      "scampese  2465  0.0  0.0  27220  4240 ?        S    13:35   0:00 /opt/google/chr\r\n",
      "scampese  2468  0.0  0.0 448000 15948 ?        S    13:35   0:00 /opt/google/chr\r\n",
      "scampese  2487  4.2  0.7 761968 243228 ?       Sl   13:35   3:51 /opt/google/chr\r\n",
      "scampese  2491  0.5  0.2 533868 94560 ?        Sl   13:35   0:28 /opt/google/chr\r\n",
      "scampese  2503  0.0  0.0 473912 24072 ?        S    13:35   0:00 /opt/google/chr\r\n",
      "scampese  2517  0.0  0.3 4834772 114216 ?      Sl   13:35   0:04 /opt/google/chr\r\n",
      "scampese  2539  0.0  0.2 4818836 93776 ?       Sl   13:35   0:04 /opt/google/chr\r\n",
      "scampese  2589  0.0  0.2 4796308 88092 ?       Sl   13:35   0:00 /opt/google/chr\r\n",
      "scampese  2612  0.0  0.2 4781960 78620 ?       Sl   13:35   0:00 /opt/google/chr\r\n",
      "scampese  2617  0.0  0.2 4819856 94492 ?       Sl   13:35   0:00 /opt/google/chr\r\n",
      "scampese  2623  0.1  0.5 4910184 176484 ?      Sl   13:35   0:08 /opt/google/chr\r\n",
      "scampese  2630  0.0  0.2 4782984 81928 ?       Sl   13:35   0:03 /opt/google/chr\r\n",
      "scampese  2645  0.0  0.2 4813716 94344 ?       Sl   13:35   0:03 /opt/google/chr\r\n",
      "scampese  2664  0.0  0.2 4785032 82360 ?       Sl   13:35   0:00 /opt/google/chr\r\n",
      "scampese  2673  0.0  0.4 4854932 150548 ?      Sl   13:35   0:03 /opt/google/chr\r\n",
      "scampese  2683  0.0  0.3 4833416 120900 ?      Sl   13:35   0:01 /opt/google/chr\r\n",
      "scampese  2687  0.0  0.3 4810064 101900 ?      Sl   13:35   0:02 /opt/google/chr\r\n",
      "scampese  2688  0.0  0.2 4799308 93240 ?       Sl   13:35   0:00 /opt/google/chr\r\n",
      "scampese  3171  0.4  0.4 3080424 151424 ?      Sl   13:35   0:23 /snap/skype/118\r\n",
      "scampese  3175  0.0  0.1 384724 41808 ?        S    13:35   0:00 /snap/skype/118\r\n",
      "scampese  3177  0.0  0.0 384724  9036 ?        S    13:35   0:00 /snap/skype/118\r\n",
      "scampese  3201  0.5  0.5 1055784 188152 ?      Sl   13:35   0:28 /snap/skype/118\r\n",
      "scampese  3205  0.1  0.2 1384856 76260 ?       Sl   13:35   0:07 /snap/skype/118\r\n",
      "scampese  3214  0.0  0.0 512536 23752 ?        S    13:35   0:00 /snap/skype/118\r\n",
      "scampese  3261  1.5  0.9 4608600 302876 ?      Sl   13:35   1:23 /proc/self/exe \r\n",
      "scampese  3497  0.0  0.1 651668 64764 pts/0    Sl+  13:36   0:03 /usr/bin/python\r\n",
      "scampese  3544  2.5  0.7 4987852 231896 ?      Rl   13:36   2:16 /opt/google/chr\r\n",
      "scampese  3602  0.0  0.1 617380 47964 ?        Ssl  13:36   0:00 /usr/bin/python\r\n",
      "scampese  3635  0.0  0.1 617380 48368 ?        Ssl  13:37   0:00 /usr/bin/python\r\n",
      "scampese  3669  0.0  0.3 1685892 103032 ?      Sl   13:37   0:05 /usr/bin/dolphi\r\n",
      "scampese  3674  0.0  0.0  22808  5092 pts/2    Ss+  13:37   0:00 /bin/bash\r\n",
      "scampese  3689  0.0  0.0 284544 20296 ?        S    13:37   0:00 file.so [kdeini\r\n",
      "root      3714  0.0  0.0 167912 17204 ?        Sl   13:37   0:00 /usr/bin/python\r\n",
      "lp        3950  0.0  0.0  86548  5984 ?        S    13:39   0:00 /usr/lib/cups/n\r\n",
      "root      5305  0.0  0.0      0     0 ?        I    13:46   0:00 [kworker/2:1-ev\r\n",
      "root      5371  0.0  0.0      0     0 ?        I    13:46   0:00 [kworker/4:0-mm\r\n",
      "root      5476  0.0  0.0      0     0 ?        I    13:47   0:00 [kworker/9:2-ev\r\n",
      "root      5607  0.0  0.0      0     0 ?        I    13:48   0:00 [kworker/0:2-ev\r\n",
      "scampese  5630  0.0  0.1 626120 49424 ?        Ssl  13:48   0:00 /usr/bin/python\r\n",
      "root      5666  0.0  0.0      0     0 ?        I    13:48   0:00 [kworker/1:0-cg\r\n",
      "root      5747  0.0  0.0      0     0 ?        I    13:49   0:00 [kworker/8:1-mm\r\n",
      "scampese  5812  0.1  0.3 4864664 126624 ?      Sl   13:50   0:07 /opt/google/chr\r\n",
      "root      6292  0.0  0.0      0     0 ?        I    13:57   0:00 [kworker/9:1]\r\n",
      "scampese  6635  0.1  0.5 4886212 168776 ?      Sl   14:01   0:04 /opt/google/chr\r\n",
      "root      7225  0.0  0.0      0     0 ?        I    14:09   0:00 [kworker/7:2-cg\r\n",
      "root      7534  0.0  0.0      0     0 ?        I    14:15   0:00 [kworker/11:0]\r\n",
      "root      7659  0.0  0.0      0     0 ?        I    14:17   0:00 [kworker/5:2-ev\r\n",
      "root      7879  0.0  0.0      0     0 ?        I    14:21   0:00 [kworker/6:2-mm\r\n",
      "root      8091  0.0  0.0      0     0 ?        I    14:22   0:00 [kworker/3:2]\r\n",
      "scampese  8116  0.0  0.0  24564  3256 ?        Sl   14:22   0:00 /usr/bin/zoom z\r\n",
      "scampese  8122  0.0  0.0   4624   800 ?        S    14:22   0:00 sh -c export SS\r\n",
      "scampese  8123 69.9  1.8 6684476 595776 ?      SLl  14:22  30:55 /opt/zoom/zoom \r\n",
      "scampese  8461  0.0  0.1 4788624 56448 ?       Sl   14:26   0:00 /opt/google/chr\r\n",
      "root      8726  0.0  0.0      0     0 ?        I    14:27   0:00 [kworker/6:1]\r\n",
      "root      8800  0.0  0.0      0     0 ?        I    14:28   0:00 [kworker/10:6-e\r\n",
      "scampese  8832  0.1  0.2 784248 86500 ?        Sl   14:28   0:02 /usr/bin/dolphi\r\n",
      "scampese  8836  0.0  0.0  22804  5136 pts/3    Ss+  14:28   0:00 /bin/bash\r\n",
      "scampese  8874  0.2  0.6 926232 213920 ?       Sl   14:28   0:04 /usr/bin/okular\r\n",
      "root      9249  0.0  0.0      0     0 ?        I    14:34   0:00 [kworker/10:1-m\r\n",
      "root      9322  0.0  0.0      0     0 ?        I    14:35   0:00 [kworker/u24:0-\r\n",
      "root      9597  0.0  0.0      0     0 ?        I    14:39   0:00 [kworker/11:1-e\r\n",
      "scampese  9842  0.0  0.0 284264 19884 ?        S    14:42   0:00 file.so [kdeini\r\n",
      "root      9868  0.1  0.0      0     0 ?        I<   14:43   0:02 [kworker/u25:0-\r\n",
      "root     10532  0.0  0.0      0     0 ?        I    14:55   0:00 [kworker/u24:1-\r\n",
      "root     10589  0.0  0.0      0     0 ?        I    14:55   0:00 [kworker/5:1-ev\r\n",
      "root     10631  0.0  0.0      0     0 ?        I    14:56   0:00 [kworker/0:1-ev\r\n",
      "root     10638  0.3  0.0      0     0 ?        I<   14:56   0:01 [kworker/u25:2-\r\n",
      "root     11007  0.1  0.0      0     0 ?        I<   15:03   0:00 [kworker/u25:1-\r\n",
      "root     11028  0.0  0.0      0     0 ?        I    15:03   0:00 [kworker/u24:2-\r\n",
      "root     11160  0.0  0.0      0     0 ?        I    15:05   0:00 [kworker/11:2-e\r\n",
      "scampese 11235  0.0  0.0   4624   860 pts/4    Ss+  15:07   0:00 /bin/sh -c  ps \r\n",
      "scampese 11236  0.0  0.0  39668  3480 pts/4    R+   15:07   0:00 ps aux\r\n"
     ]
    }
   ],
   "source": [
    "! ps aux\n"
   ]
  },
  {
   "cell_type": "markdown",
   "metadata": {},
   "source": [
    "Where:\n",
    "+ a = show processes for all users\n",
    "+ u = display the process user/owner\n",
    "+ x = also show processes not attached to a terminal"
   ]
  },
  {
   "cell_type": "markdown",
   "metadata": {},
   "source": [
    "The PID of the process can be used to kill a stuck process (i.e. when you run a python script that is going to be stuck)\n"
   ]
  },
  {
   "cell_type": "markdown",
   "metadata": {},
   "source": [
    "The ```ps``` command can be used with the ```grep``` command through the ```|``` character, in order to search for a particular process."
   ]
  },
  {
   "cell_type": "code",
   "execution_count": 36,
   "metadata": {},
   "outputs": [
    {
     "name": "stdout",
     "output_type": "stream",
     "text": [
      "root       907  0.0  0.0 170544 17232 ?        Ssl  13:33   0:00 /usr/bin/python3 /usr/bin/networkd-dispatcher --run-startup-triggers\n",
      "root      1196  0.0  0.0 187248 19884 ?        Ssl  13:33   0:00 /usr/bin/python3 /usr/share/unattended-upgrades/unattended-upgrade-shutdown --wait-for-signal\n",
      "scampese  3497  0.0  0.2 651956 65252 pts/0    Sl+  13:36   0:03 /usr/bin/python3 /usr/local/bin/jupyter-notebook\n",
      "scampese  3602  0.0  0.1 617380 47964 ?        Ssl  13:36   0:00 /usr/bin/python3 -m ipykernel_launcher -f /home/scampese/.local/share/jupyter/runtime/kernel-d7b4b4f2-bd62-4360-ad0b-7a7663936864.json\n",
      "scampese  3635  0.0  0.1 617380 48368 ?        Ssl  13:37   0:00 /usr/bin/python3 -m ipykernel_launcher -f /home/scampese/.local/share/jupyter/runtime/kernel-f005c673-0bb4-4906-a3eb-5aac4bda7bb4.json\n",
      "root      3714  0.0  0.0 167912 17204 ?        Sl   13:37   0:00 /usr/bin/python3 /usr/share/apt-xapian-index/update-apt-xapian-index-dbus\n",
      "scampese  5630  0.0  0.1 626120 49620 ?        Ssl  13:48   0:00 /usr/bin/python3 -m ipykernel_launcher -f /home/scampese/.local/share/jupyter/runtime/kernel-f7548a70-4cd8-4455-8ddd-576d98ef0be2.json\n",
      "scampese 11346  0.0  0.0  14432  1156 ?        S    15:09   0:00 grep python\n"
     ]
    }
   ],
   "source": [
    "%%bash \n",
    "ps aux | grep python"
   ]
  },
  {
   "cell_type": "markdown",
   "metadata": {},
   "source": [
    "sudo kill -9 907"
   ]
  },
  {
   "cell_type": "markdown",
   "metadata": {},
   "source": [
    "## Figuring out the IP address\n",
    "The ```ifconfig``` command can be used to retrieve the Ip address. \n",
    "This command is not a standard command of the Unix system, and in some cases it must be installed. To install it on ubuntu you need to run this command:\n",
    "    ```sudo apt-get install net-tools```"
   ]
  },
  {
   "cell_type": "code",
   "execution_count": 37,
   "metadata": {},
   "outputs": [
    {
     "name": "stdout",
     "output_type": "stream",
     "text": [
      "enp8s0f1: flags=4099<UP,BROADCAST,MULTICAST>  mtu 1500\n",
      "        ether 80:fa:5b:73:35:77  txqueuelen 1000  (Ethernet)\n",
      "        RX packets 0  bytes 0 (0.0 B)\n",
      "        RX errors 0  dropped 0  overruns 0  frame 0\n",
      "        TX packets 0  bytes 0 (0.0 B)\n",
      "        TX errors 0  dropped 0 overruns 0  carrier 0  collisions 0\n",
      "\n",
      "lo: flags=73<UP,LOOPBACK,RUNNING>  mtu 65536\n",
      "        inet 127.0.0.1  netmask 255.0.0.0\n",
      "        inet6 ::1  prefixlen 128  scopeid 0x10<host>\n",
      "        loop  txqueuelen 1000  (Loopback locale)\n",
      "        RX packets 6853  bytes 5484280 (5.4 MB)\n",
      "        RX errors 0  dropped 0  overruns 0  frame 0\n",
      "        TX packets 6853  bytes 5484280 (5.4 MB)\n",
      "        TX errors 0  dropped 0 overruns 0  carrier 0  collisions 0\n",
      "\n",
      "wlp7s0: flags=4163<UP,BROADCAST,RUNNING,MULTICAST>  mtu 1500\n",
      "        inet 192.168.1.101  netmask 255.255.255.0  broadcast 192.168.1.255\n",
      "        inet6 fe80::c5dd:34c7:c8bd:c911  prefixlen 64  scopeid 0x20<link>\n",
      "        ether 4c:1d:96:6d:28:06  txqueuelen 1000  (Ethernet)\n",
      "        RX packets 320652  bytes 325652690 (325.6 MB)\n",
      "        RX errors 0  dropped 0  overruns 0  frame 0\n",
      "        TX packets 571743  bytes 375835136 (375.8 MB)\n",
      "        TX errors 0  dropped 0 overruns 0  carrier 0  collisions 0\n",
      "\n"
     ]
    }
   ],
   "source": [
    "%%bash\n",
    "\n",
    "ifconfig"
   ]
  },
  {
   "cell_type": "markdown",
   "metadata": {},
   "source": [
    "the output of the command reports all the \"network card\" and the ip addresses."
   ]
  },
  {
   "cell_type": "markdown",
   "metadata": {},
   "source": [
    "### Other useful command in the near future\n",
    "\n",
    "Other commands that may be useful in the near future are the ```ssh``` command that allows you to remotely connect to a server, cluster or HPC, and ```scp``` that is a command necessary to copy local-to-remote or remote-to-local files and resources.\n",
    "\n",
    "[https://www.digitalocean.com/community/tutorials/ssh-essentials-working-with-ssh-servers-clients-and-keys](https://www.digitalocean.com/community/tutorials/ssh-essentials-working-with-ssh-servers-clients-and-keys)\n",
    "\n",
    "[https://haydenjames.io/linux-securely-copy-files-using-scp/](https://haydenjames.io/linux-securely-copy-files-using-scp/)\n",
    "\n",
    "Those two command exploit the same ssh protocol to communicate with a remote device."
   ]
  },
  {
   "cell_type": "code",
   "execution_count": null,
   "metadata": {},
   "outputs": [],
   "source": []
  }
 ],
 "metadata": {
  "kernelspec": {
   "display_name": "Python 3",
   "language": "python",
   "name": "python3"
  },
  "language_info": {
   "codemirror_mode": {
    "name": "ipython",
    "version": 3
   },
   "file_extension": ".py",
   "mimetype": "text/x-python",
   "name": "python",
   "nbconvert_exporter": "python",
   "pygments_lexer": "ipython3",
   "version": "3.6.9"
  }
 },
 "nbformat": 4,
 "nbformat_minor": 4
}
