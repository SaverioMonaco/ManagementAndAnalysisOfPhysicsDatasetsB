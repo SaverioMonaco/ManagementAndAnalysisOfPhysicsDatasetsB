{
 "cells": [
  {
   "cell_type": "markdown",
   "metadata": {},
   "source": [
    "Shell Recap\n",
    "============\n",
    "The shell is a program where users can type commands. With the shell, it’s possible to invoke complicated programs like climate modeling software or simple commands that create an empty directory with only one line of code. The most popular Unix shell is Bash. Bash is the default shell on most modern implementations of Unix and in most packages that provide Unix-like tools for Windows.\n",
    "\n",
    "The grammar of a shell allows you to combine existing tools into powerful pipelines and handle large volumes of data automatically. Sequences of commands can be written into a script, improving the reproducibility of workflows.\n",
    "\n",
    "The command line is often the easiest way to interact with remote machines and supercomputers. Familiarity with the shell is nearly essential to run a variety of specialized tools and resources including high-performance computing systems. As clusters and cloud computing systems become more popular for scientific data crunching, being able to interact with the shell is becoming a necessary skill. We can build on the command-line skills covered here to tackle a wide range of scientific questions and computational challenges.\n",
    "\n",
    "Let's start whit this recap!"
   ]
  },
  {
   "cell_type": "markdown",
   "metadata": {},
   "source": [
    "**DISCLAIMER:** since we are in the Jupyter environment, all the commands or the cells that exploit bash functionalities will be preceded by the \"**!**\" or by \"**%%bash**\" this is necessary to make the Jupyter able to correctly interpreted the source code as bash code. \n",
    "In order to run the same command in a real bash, you have to remove the \"**!**\" and \"**%%bash**\""
   ]
  },
  {
   "cell_type": "markdown",
   "metadata": {},
   "source": [
    "## The Basics"
   ]
  },
  {
   "cell_type": "markdown",
   "metadata": {},
   "source": [
    "### The variables\n",
    "The variables in the shell have a different behavior in comparison to other languages, their declaration is simple"
   ]
  },
  {
   "cell_type": "code",
   "execution_count": null,
   "metadata": {},
   "outputs": [],
   "source": [
    "%%bash\n",
    "NAME=\"Shell Scripting is Fun!\""
   ]
  },
  {
   "cell_type": "markdown",
   "metadata": {},
   "source": [
    "the command used to print a variable is:"
   ]
  },
  {
   "cell_type": "code",
   "execution_count": null,
   "metadata": {},
   "outputs": [],
   "source": [
    "%%bash\n",
    "NAME=\"Shell Scripting is Fun!\"\n",
    "echo $NAME"
   ]
  },
  {
   "cell_type": "markdown",
   "metadata": {},
   "source": [
    "Running the same command with only the variable name will produce the printing of the variable name, but not the content of the var."
   ]
  },
  {
   "cell_type": "code",
   "execution_count": null,
   "metadata": {},
   "outputs": [],
   "source": [
    "%%bash\n",
    "NAME=\"Shell Scripting is Fun!\"\n",
    "echo NAME"
   ]
  },
  {
   "cell_type": "markdown",
   "metadata": {},
   "source": [
    "### The print command\n",
    "\n",
    "The ```echo``` command is a command used to print at screen a variable or whichever data you need to show.\n",
    "As we have seen in the previous cells, with echo you can also concatenate variable/commands and strings. Let's see."
   ]
  },
  {
   "cell_type": "code",
   "execution_count": null,
   "metadata": {},
   "outputs": [],
   "source": [
    "%%bash\n",
    "APPLES=3\n",
    "echo \"Pippo has $APPLES apples\"\n"
   ]
  },
  {
   "cell_type": "code",
   "execution_count": null,
   "metadata": {},
   "outputs": [],
   "source": [
    "%%bash\n",
    "\n",
    "echo \"I'm in the working folder $(pwd)\""
   ]
  },
  {
   "cell_type": "markdown",
   "metadata": {},
   "source": [
    "The option \">\" or \">>\" respectively represent the \"insert\" and \"append\" of data to a file, the echo command can be used to put whatever you want to print to a file."
   ]
  },
  {
   "cell_type": "markdown",
   "metadata": {},
   "source": [
    "### The first command:\n",
    "\n",
    "The first command that you have to remember is the ```pwd``` that stands for *print working directory*.\n",
    "This command can be used to see/understand in which folder we are working.\n",
    "Let's see an example"
   ]
  },
  {
   "cell_type": "code",
   "execution_count": null,
   "metadata": {},
   "outputs": [],
   "source": [
    "! pwd"
   ]
  },
  {
   "cell_type": "markdown",
   "metadata": {},
   "source": [
    "### How to see what's in the folder:"
   ]
  },
  {
   "cell_type": "markdown",
   "metadata": {},
   "source": [
    "The 'ls' command is used to see what the folder contains."
   ]
  },
  {
   "cell_type": "code",
   "execution_count": null,
   "metadata": {},
   "outputs": [],
   "source": [
    "%%bash \n",
    "ls"
   ]
  },
  {
   "cell_type": "markdown",
   "metadata": {},
   "source": [
    "The ls command has several parameters that allow you to see what you're looking for. One of those parameters if ```-F```. \n",
    "This parameter can be used with other to understand if each entry on the list is a file or a folder. To run this cell on your pc, you have to create a temporary test folder in the working folder\n"
   ]
  },
  {
   "cell_type": "code",
   "execution_count": null,
   "metadata": {},
   "outputs": [],
   "source": [
    "%%bash\n",
    "ls -F"
   ]
  },
  {
   "cell_type": "markdown",
   "metadata": {},
   "source": [
    "In general every available parameter of a command can be seen by running the command with the ```--help``` parameter."
   ]
  },
  {
   "cell_type": "code",
   "execution_count": null,
   "metadata": {},
   "outputs": [],
   "source": [
    "%%bash\n",
    "\n",
    "ls --help"
   ]
  },
  {
   "cell_type": "markdown",
   "metadata": {},
   "source": [
    "### Let's create a new folder\n",
    "\n",
    "The ```mkdir``` command is used to create a new folder starting from where you are. If you want you can also pass to the command the whole path you want to put the new folder in.\n",
    "Let's try!"
   ]
  },
  {
   "cell_type": "code",
   "execution_count": null,
   "metadata": {},
   "outputs": [],
   "source": [
    "%%bash\n",
    "mkdir newTemporaryFolder\n",
    "ls -F"
   ]
  },
  {
   "cell_type": "markdown",
   "metadata": {},
   "source": [
    "To create a new folder inside the created one the commands becomes:"
   ]
  },
  {
   "cell_type": "code",
   "execution_count": null,
   "metadata": {},
   "outputs": [],
   "source": [
    "%%bash \n",
    "\n",
    "mkdir newTemporaryFolder/newTemporaryFolderInside\n",
    "ls ./newTemporaryFolder -F"
   ]
  },
  {
   "cell_type": "markdown",
   "metadata": {},
   "source": [
    "### How to create a simple empty file?\n",
    "\n",
    "The ```touch``` command is a simple command that allows you to create an empty file with the name and the extension that you want. Here's a simple example"
   ]
  },
  {
   "cell_type": "code",
   "execution_count": null,
   "metadata": {},
   "outputs": [],
   "source": [
    "%%bash\n",
    "\n",
    "touch tempFile.txt\n",
    "ls -F"
   ]
  },
  {
   "cell_type": "markdown",
   "metadata": {},
   "source": [
    "### How to go in/out from a folder?"
   ]
  },
  {
   "cell_type": "markdown",
   "metadata": {},
   "source": [
    "The ```cd``` command has two functions. Getting in or getting out of a folder. To enter a folder the command becomes ```cd folderName```. If you want to enter in a sub-folder, you can do this just by concatenating the folders that contain it: ```cd folderName/folder2Name/..```. \n",
    "\n",
    "If you want to exit a folder the command becomes ```cd ..```. Similar to the entering, if you want to get out of several folders, you have to concatenate the dots as ```cd ../..```.\n",
    "\n",
    "If you want to come back to your $HOME directory, from wherever you are, this command gives you the shortcut ```cd ..```.\n",
    "\n",
    "Let's try to cd in a folder and then get out."
   ]
  },
  {
   "cell_type": "code",
   "execution_count": null,
   "metadata": {},
   "outputs": [],
   "source": [
    "%%bash\n",
    "\n",
    "cd newTemporaryFolder\n",
    "echo \"I'm in:\" $(pwd)\n",
    "cd ..\n",
    "echo \"Now I'm in:\" $(pwd)"
   ]
  },
  {
   "cell_type": "markdown",
   "metadata": {},
   "source": [
    "### How to delete a file or a folder\n",
    "\n",
    "The ```rm``` command is a command needed when you want to delete a file. If you want to delete both the folder an its content, the command becomes ```rm -r```.\n",
    "Let's see a couple of examples"
   ]
  },
  {
   "cell_type": "code",
   "execution_count": null,
   "metadata": {},
   "outputs": [],
   "source": [
    "%%bash\n",
    "\n",
    "echo \"Before deleting the file:\"\n",
    "ls -F\n",
    "echo \"******************************************\"\n",
    "\n",
    "echo \"After deleting the file:\"\n",
    "rm tempFile.txt\n",
    "ls -F\n",
    "echo \"******************************************\"\n",
    "\n",
    "echo \"After deleting the folder:\"\n",
    "rm -r newTemporaryFolder\n",
    "ls -F"
   ]
  },
  {
   "cell_type": "markdown",
   "metadata": {},
   "source": [
    "### How to Copy or Move a file or a folder\n",
    "\n",
    "To copy a file or a folder you need to use ```cp```, while the command ```mv``` lets you move a file or a folder.\n",
    "Mv command can also be used to rename a file: \"*Moving a file into another name*\"\n",
    "\n"
   ]
  },
  {
   "cell_type": "code",
   "execution_count": null,
   "metadata": {},
   "outputs": [],
   "source": [
    "%%bash \n",
    "mkdir startingPath\n",
    "mkdir destinationPath\n",
    "touch startingPath/file.txt\n",
    "\n",
    "mkdir pippo\n",
    "\n",
    "cp startingPath/file.txt destinationPath/file.txt\n"
   ]
  },
  {
   "cell_type": "code",
   "execution_count": null,
   "metadata": {},
   "outputs": [],
   "source": [
    "! ls destinationPath"
   ]
  },
  {
   "cell_type": "code",
   "execution_count": null,
   "metadata": {},
   "outputs": [],
   "source": [
    "%%bash \n",
    "\n",
    "rm  startingPath/file.txt\n",
    "mv destinationPath/file.txt startingPath/file.txt"
   ]
  },
  {
   "cell_type": "code",
   "execution_count": null,
   "metadata": {},
   "outputs": [],
   "source": [
    "! ls destinationPath"
   ]
  },
  {
   "cell_type": "code",
   "execution_count": null,
   "metadata": {},
   "outputs": [],
   "source": [
    "! ls startingPath"
   ]
  },
  {
   "cell_type": "markdown",
   "metadata": {},
   "source": [
    "But ```mv``` can be used even to rename..."
   ]
  },
  {
   "cell_type": "code",
   "execution_count": null,
   "metadata": {},
   "outputs": [],
   "source": [
    "%%bash\n",
    "\n",
    "mv pippo pluto"
   ]
  },
  {
   "cell_type": "code",
   "execution_count": null,
   "metadata": {},
   "outputs": [],
   "source": [
    "!ls "
   ]
  },
  {
   "cell_type": "markdown",
   "metadata": {},
   "source": [
    "### How to see the content of a file\n",
    "\n",
    "For this purpose, there are several options. The most common integrated command in the Unix Shell are:\n",
    "+ cat\n",
    "+ tail\n",
    "+ head\n",
    "\n",
    "The ```cat``` command can be used to get all the content of a file or a set of files and print them to the screen regardless of the file format (binary file included). This command is very useful but it is not appreciable when you have to deal with thousands and million-row files, which is quite common in the Big Data era.\n",
    "\n",
    "The ``` head``` command allows you to get the first n rows of a file where n is a parameter of the command. This file can be useful when you need a fast check on a file structure or when you need to look for something in the first rows.\n",
    "\n",
    "The ```tail``` command allows you to get the last n rows of a file where n is a parameter of the command. This command is particularly helpful when you have to check a log of a program (i.e.: you want to check just the last iteration/execution of a program and not the whole log file). Moreover, ```tail``` allows you to \"*listen*\" to a file that is being written and print in real-time what is going to be put on that file. This is quite useful when you have a log of your cluster and you want to check what is happening to the computation.\n"
   ]
  },
  {
   "cell_type": "code",
   "execution_count": null,
   "metadata": {},
   "outputs": [],
   "source": [
    "%%bash \n",
    "\n",
    "touch tempFile.txt\n",
    "echo \"Hello to MAPD 19/20\" > tempFile.txt\n",
    "cat tempFile.txt\n"
   ]
  },
  {
   "cell_type": "code",
   "execution_count": null,
   "metadata": {},
   "outputs": [],
   "source": [
    "%%bash \n",
    "\n",
    "echo \"The first lecture is about bash\" >> tempFile.txt\n",
    "cat tempFile.txt"
   ]
  },
  {
   "cell_type": "code",
   "execution_count": null,
   "metadata": {},
   "outputs": [],
   "source": [
    "%%bash\n",
    "head -n 1 tempFile.txt"
   ]
  },
  {
   "cell_type": "code",
   "execution_count": null,
   "metadata": {},
   "outputs": [],
   "source": [
    "%%bash \n",
    "tail -n 1 tempFile.txt"
   ]
  },
  {
   "cell_type": "markdown",
   "metadata": {},
   "source": [
    "### Search a file/directory\n",
    "\n",
    "the ```find``` command is used to search a file or a folder. It has a huge set of different options to make really complex searches. Let's see a simple example:\n"
   ]
  },
  {
   "cell_type": "code",
   "execution_count": null,
   "metadata": {},
   "outputs": [],
   "source": [
    "%%bash \n",
    "find . -name tempFile.txt"
   ]
  },
  {
   "cell_type": "markdown",
   "metadata": {},
   "source": [
    "The aforementioned command is used to search, starting from our working directory, the tempFile.txt. In the next cell there's a command that can be used to search all the files with the txt extension that are present in our working directory. To change the searched directory we need to change the . with the path fo the folder you want to search in."
   ]
  },
  {
   "cell_type": "code",
   "execution_count": null,
   "metadata": {},
   "outputs": [],
   "source": [
    "%%bash \n",
    "find . -name '*.txt' ## the qoutes around the argument are not necessay out of Jupyter"
   ]
  },
  {
   "cell_type": "code",
   "execution_count": null,
   "metadata": {},
   "outputs": [],
   "source": [
    "%%bash \n",
    "\n",
    "mkdir newTemporaryFolder\n",
    "touch ./newTemporaryFolder/anotherTestFile.txt\n",
    "find ./newTemporaryFolder -name '*.txt' ## the qoutes around the argument are not necessay out of Jupyter\n",
    "\n",
    "rm -r newTemporaryFolder"
   ]
  },
  {
   "cell_type": "markdown",
   "metadata": {},
   "source": [
    "## Search in a file\n",
    "\n",
    "The ```grep``` command can be used to search something in a file. \n",
    "Let's see an example:"
   ]
  },
  {
   "cell_type": "code",
   "execution_count": null,
   "metadata": {},
   "outputs": [],
   "source": [
    "%%bash\n",
    "grep MAPD tempFile.txt"
   ]
  },
  {
   "cell_type": "markdown",
   "metadata": {},
   "source": [
    "grep allows to extract all the line that contains the word that we want to search. This command can also work with regular expressions."
   ]
  },
  {
   "cell_type": "code",
   "execution_count": null,
   "metadata": {},
   "outputs": [],
   "source": [
    "%%bash\n",
    "grep -E \"[0-9]+\" tempFile.txt"
   ]
  },
  {
   "cell_type": "markdown",
   "metadata": {},
   "source": [
    "## Counting words or lines of a file:"
   ]
  },
  {
   "cell_type": "markdown",
   "metadata": {},
   "source": [
    "the ```wc``` command allows you to count the number of words in a file:"
   ]
  },
  {
   "cell_type": "code",
   "execution_count": null,
   "metadata": {},
   "outputs": [],
   "source": [
    "%%bash\n",
    "wc -w tempFile.txt"
   ]
  },
  {
   "cell_type": "markdown",
   "metadata": {},
   "source": [
    "or the number of line"
   ]
  },
  {
   "cell_type": "code",
   "execution_count": null,
   "metadata": {},
   "outputs": [],
   "source": [
    "%%bash\n",
    "wc -l tempFile.txt"
   ]
  },
  {
   "cell_type": "markdown",
   "metadata": {},
   "source": [
    "## Sorting\n",
    "the command ```sort``` can be used to sort the elements in a file or in a list of elements:"
   ]
  },
  {
   "cell_type": "code",
   "execution_count": null,
   "metadata": {},
   "outputs": [],
   "source": [
    "%%bash\n",
    "\n",
    "echo \"5\" > orderable.txt\n",
    "echo \"3\" >> orderable.txt\n",
    "echo \"6\" >> orderable.txt\n",
    "echo \"2\" >> orderable.txt\n",
    "\n",
    "sort orderable.txt"
   ]
  },
  {
   "cell_type": "markdown",
   "metadata": {},
   "source": [
    "## Complex but useful commands"
   ]
  },
  {
   "cell_type": "markdown",
   "metadata": {},
   "source": [
    "### How can we build a pipeline of commands?\n",
    "\n",
    "the answer is with char ```|```. \n",
    "This is a special char that can be used to create a pipeline of commands that must be executed in order. \n",
    "For example when searching in a file:"
   ]
  },
  {
   "cell_type": "code",
   "execution_count": null,
   "metadata": {},
   "outputs": [],
   "source": [
    "%%bash \n",
    "cat tempFile.txt | grep MAPD"
   ]
  },
  {
   "cell_type": "markdown",
   "metadata": {},
   "source": [
    "Or it can be used to order a set of files by the number of words inside (ascending):"
   ]
  },
  {
   "cell_type": "code",
   "execution_count": null,
   "metadata": {},
   "outputs": [],
   "source": [
    "%%bash \n",
    "echo \"one two three\" > file1.txt\n",
    "echo \"one two three four\" > file2.txt\n",
    "echo \"one\" > file3.txt\n",
    "\n",
    "\n",
    "wc -w file* | sort -n "
   ]
  },
  {
   "cell_type": "markdown",
   "metadata": {},
   "source": [
    "## Getting the list of the processes in the system\n",
    "\n",
    "```ps``` is a command that allows to list all the processes that are running in the system.\n"
   ]
  },
  {
   "cell_type": "code",
   "execution_count": null,
   "metadata": {},
   "outputs": [],
   "source": [
    "! ps aux\n"
   ]
  },
  {
   "cell_type": "markdown",
   "metadata": {},
   "source": [
    "Where:\n",
    "+ a = show processes for all users\n",
    "+ u = display the process user/owner\n",
    "+ x = also show processes not attached to a terminal"
   ]
  },
  {
   "cell_type": "markdown",
   "metadata": {},
   "source": [
    "The PID of the process can be used to kill a stuck process (i.e. when you run a python script that is going to be stuck)\n"
   ]
  },
  {
   "cell_type": "markdown",
   "metadata": {},
   "source": [
    "The ```ps``` command can be used with the ```grep``` command through the ```|``` character, in order to search for a particular process."
   ]
  },
  {
   "cell_type": "code",
   "execution_count": null,
   "metadata": {},
   "outputs": [],
   "source": [
    "%%bash \n",
    "ps aux | grep python"
   ]
  },
  {
   "cell_type": "markdown",
   "metadata": {},
   "source": [
    "## Figuring out the IP address\n",
    "The ```ifconfig``` command can be used to retrieve the Ip address. \n",
    "This command is not a standard command of the Unix system, and in some cases it must be installed. To install it on ubuntu you need to run this command:\n",
    "    ```sudo apt-get install net-tools```"
   ]
  },
  {
   "cell_type": "code",
   "execution_count": null,
   "metadata": {},
   "outputs": [],
   "source": [
    "%%bash\n",
    "\n",
    "ifconfig"
   ]
  },
  {
   "cell_type": "markdown",
   "metadata": {},
   "source": [
    "the output of the command reports all the \"network card\" and the ip addresses."
   ]
  },
  {
   "cell_type": "markdown",
   "metadata": {},
   "source": [
    "### Other useful command in the near future\n",
    "\n",
    "Other commands that may be useful in the near future are the ```ssh``` command that allows you to remotely connect to a server, cluster or HPC, and ```scp``` that is a command necessary to copy local-to-remote or remote-to-local files and resources.\n",
    "\n",
    "[https://www.digitalocean.com/community/tutorials/ssh-essentials-working-with-ssh-servers-clients-and-keys](https://www.digitalocean.com/community/tutorials/ssh-essentials-working-with-ssh-servers-clients-and-keys)\n",
    "\n",
    "[https://haydenjames.io/linux-securely-copy-files-using-scp/](https://haydenjames.io/linux-securely-copy-files-using-scp/)\n",
    "\n",
    "Those two command exploit the same ssh protocol to communicate with a remote device."
   ]
  },
  {
   "cell_type": "code",
   "execution_count": null,
   "metadata": {},
   "outputs": [],
   "source": []
  }
 ],
 "metadata": {
  "kernelspec": {
   "display_name": "Python 3",
   "language": "python",
   "name": "python3"
  },
  "language_info": {
   "codemirror_mode": {
    "name": "ipython",
    "version": 3
   },
   "file_extension": ".py",
   "mimetype": "text/x-python",
   "name": "python",
   "nbconvert_exporter": "python",
   "pygments_lexer": "ipython3",
   "version": "3.6.9"
  }
 },
 "nbformat": 4,
 "nbformat_minor": 4
}
