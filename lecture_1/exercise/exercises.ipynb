{
 "cells": [
  {
   "cell_type": "markdown",
   "metadata": {},
   "source": [
    "## Exercise 1\n",
    "\n",
    "What does the command ls do when used with the -l option?"
   ]
  },
  {
   "cell_type": "code",
   "execution_count": 1,
   "metadata": {},
   "outputs": [
    {
     "name": "stdout",
     "output_type": "stream",
     "text": [
      "totale 48\r\n",
      "-rw-r--r-- 1 scampese scampese  167 mar 23 18:02 exercise_file_1.txt\r\n",
      "-rw-r--r-- 1 scampese scampese  867 mar 23 18:02 exercise_file_2.txt\r\n",
      "-rw-r--r-- 1 scampese scampese  499 mar 23 18:02 exercise_file_3.txt\r\n",
      "-rw-r--r-- 1 scampese scampese  167 mar 23 18:02 exercise_file_4.txt\r\n",
      "-rw-r--r-- 1 scampese scampese  446 mar 23 17:57 exercise_file_5.txt\r\n",
      "-rw-rw-r-- 1 scampese scampese 3871 mar 24 13:37 exercises.ipynb\r\n",
      "-rw-rw-r-- 1 scampese scampese 9856 mar 23 16:57 \u001b[0m\u001b[01;35mfilesystem-challenge.png\u001b[0m\r\n",
      "-rw-r--r-- 1 scampese scampese  219 mar 23 17:23 haiku.txt\r\n",
      "-rw-rw-r-- 1 scampese scampese 7944 mar 23 18:19 solution.ipynb\r\n"
     ]
    }
   ],
   "source": [
    "ls -l"
   ]
  },
  {
   "cell_type": "markdown",
   "metadata": {},
   "source": [
    "What about if you use both the -l and the -h option?"
   ]
  },
  {
   "cell_type": "code",
   "execution_count": 2,
   "metadata": {},
   "outputs": [
    {
     "name": "stdout",
     "output_type": "stream",
     "text": [
      "totale 52K\r\n",
      "-rw-r--r-- 1 scampese scampese  167 mar 23 18:02 exercise_file_1.txt\r\n",
      "-rw-r--r-- 1 scampese scampese  867 mar 23 18:02 exercise_file_2.txt\r\n",
      "-rw-r--r-- 1 scampese scampese  499 mar 23 18:02 exercise_file_3.txt\r\n",
      "-rw-r--r-- 1 scampese scampese  167 mar 23 18:02 exercise_file_4.txt\r\n",
      "-rw-r--r-- 1 scampese scampese  446 mar 23 17:57 exercise_file_5.txt\r\n",
      "-rw-rw-r-- 1 scampese scampese 4,7K mar 24 15:27 exercises.ipynb\r\n",
      "-rw-rw-r-- 1 scampese scampese 9,7K mar 23 16:57 \u001b[0m\u001b[01;35mfilesystem-challenge.png\u001b[0m\r\n",
      "-rw-r--r-- 1 scampese scampese  219 mar 23 17:23 haiku.txt\r\n",
      "-rw-rw-r-- 1 scampese scampese 7,8K mar 23 18:19 solution.ipynb\r\n"
     ]
    }
   ],
   "source": [
    "ls -lh"
   ]
  },
  {
   "cell_type": "markdown",
   "metadata": {},
   "source": [
    "order the list of file by the date asceding"
   ]
  },
  {
   "cell_type": "code",
   "execution_count": 3,
   "metadata": {},
   "outputs": [
    {
     "name": "stdout",
     "output_type": "stream",
     "text": [
      "totale 52\r\n",
      "-rw-rw-r-- 1 scampese scampese 9856 mar 23 16:57 filesystem-challenge.png\r\n",
      "-rw-r--r-- 1 scampese scampese  219 mar 23 17:23 haiku.txt\r\n",
      "-rw-r--r-- 1 scampese scampese  446 mar 23 17:57 exercise_file_5.txt\r\n",
      "-rw-r--r-- 1 scampese scampese  867 mar 23 18:02 exercise_file_2.txt\r\n",
      "-rw-r--r-- 1 scampese scampese  499 mar 23 18:02 exercise_file_3.txt\r\n",
      "-rw-r--r-- 1 scampese scampese  167 mar 23 18:02 exercise_file_4.txt\r\n",
      "-rw-r--r-- 1 scampese scampese  167 mar 23 18:02 exercise_file_1.txt\r\n",
      "-rw-rw-r-- 1 scampese scampese 7944 mar 23 18:19 solution.ipynb\r\n",
      "-rw-rw-r-- 1 scampese scampese 4752 mar 24 15:27 exercises.ipynb\r\n"
     ]
    }
   ],
   "source": [
    "!ls -ltr"
   ]
  },
  {
   "cell_type": "markdown",
   "metadata": {},
   "source": [
    "## Exercise 2\n",
    "\n",
    "Using the filesystem diagram below, if pwd displays ```/Users/thing```, what will ```ls -F ../backup``` display? Explain why and why these options are correct or no.\n",
    "\n",
    "+ ../backup: No such file or directory\n",
    "+ 2012-12-01 2013-01-08 2013-01-27\n",
    "+ 2012-12-01/ 2013-01-08/ 2013-01-27/\n",
    "+ original/ pnas_final/ pnas_sub/\n",
    "\n",
    "\n",
    "![filesystem-challenge.png](filesystem-challenge.png)"
   ]
  },
  {
   "cell_type": "markdown",
   "metadata": {},
   "source": [
    "+ No: there is a directory backup in /Users.\n",
    "+ No: this is the content of Users/thing/backup, but with .. we asked for one level further up.\n",
    "+ No: see previous explanation.\n",
    "+ Yes: ../backup/ refers to /Users/backup/."
   ]
  },
  {
   "cell_type": "markdown",
   "metadata": {},
   "source": [
    "## Exercise 3\n",
    "\n",
    "Given the command ``` touch my_file.txt```\n",
    "What did the touch command do? \n",
    "\n",
    "Use ls -l to inspect the files. How large is my_file.txt?"
   ]
  },
  {
   "cell_type": "code",
   "execution_count": 5,
   "metadata": {},
   "outputs": [
    {
     "name": "stdout",
     "output_type": "stream",
     "text": [
      "totale 68\n",
      "-rw-rw-r-- 1 scampese scampese    7 mar 24 15:35 aminoacid1.txt\n",
      "-rw-rw-r-- 1 scampese scampese    8 mar 24 15:34 aminoacid2.txt\n",
      "-rw-rw-r-- 1 scampese scampese    8 mar 24 15:35 aminoacid2.txtbackup\n",
      "-rw-r--r-- 1 scampese scampese  167 mar 23 18:02 exercise_file_1.txt\n",
      "-rw-r--r-- 1 scampese scampese  867 mar 23 18:02 exercise_file_2.txt\n",
      "-rw-r--r-- 1 scampese scampese  499 mar 23 18:02 exercise_file_3.txt\n",
      "-rw-r--r-- 1 scampese scampese  167 mar 23 18:02 exercise_file_4.txt\n",
      "-rw-r--r-- 1 scampese scampese  446 mar 23 17:57 exercise_file_5.txt\n",
      "-rw-rw-r-- 1 scampese scampese 6506 mar 24 15:39 exercises.ipynb\n",
      "-rw-rw-r-- 1 scampese scampese 9856 mar 23 16:57 filesystem-challenge.png\n",
      "-rw-r--r-- 1 scampese scampese  219 mar 23 17:23 haiku.txt\n",
      "-rw-rw-r-- 1 scampese scampese    0 mar 24 15:39 my_file.txt\n",
      "-rw-rw-r-- 1 scampese scampese 9072 mar 24 15:36 solution.ipynb\n"
     ]
    }
   ],
   "source": [
    "%%bash\n",
    "touch my_file.txt\n",
    "\n",
    "ls -l"
   ]
  },
  {
   "cell_type": "markdown",
   "metadata": {},
   "source": [
    "## Exercise 4\n",
    "\n",
    "\n",
    "Delete the ```aminoacid1.txt``` and than remove the backup folder"
   ]
  },
  {
   "cell_type": "code",
   "execution_count": null,
   "metadata": {},
   "outputs": [],
   "source": [
    "%%bash\n",
    "#run this before run your code\n",
    "mkdir backup\n",
    "echo \"lisine\" >  aminoacid1.txt\n",
    "echo \"alanine\" > aminoacid2.txt\n",
    "\n",
    "cp aminoacid1.txt aminoacid2.txt backup/"
   ]
  },
  {
   "cell_type": "code",
   "execution_count": null,
   "metadata": {},
   "outputs": [],
   "source": [
    "# put your code here\n",
    "\n",
    "rm -r backup/"
   ]
  },
  {
   "cell_type": "markdown",
   "metadata": {},
   "source": [
    "## Exercise 5\n",
    "Which results produce each command and wich are the differences?\n",
    "+ grep \"of\" haiku.txt\n",
    "+ grep -E \"of\" haiku.txt\n",
    "+ grep -w \"of\" haiku.txt\n",
    "+ grep -i \"of\" haiku.txt"
   ]
  },
  {
   "cell_type": "code",
   "execution_count": 6,
   "metadata": {},
   "outputs": [
    {
     "name": "stdout",
     "output_type": "stream",
     "text": [
      "and the presence of absence:\r\n",
      "Software is like that. \r\n"
     ]
    }
   ],
   "source": [
    "! grep \"of\" haiku.txt"
   ]
  },
  {
   "cell_type": "code",
   "execution_count": 7,
   "metadata": {},
   "outputs": [
    {
     "name": "stdout",
     "output_type": "stream",
     "text": [
      "and the presence of absence:\r\n",
      "Software is like that. \r\n"
     ]
    }
   ],
   "source": [
    "! grep -E \"of\" haiku.txt"
   ]
  },
  {
   "cell_type": "code",
   "execution_count": 8,
   "metadata": {},
   "outputs": [
    {
     "name": "stdout",
     "output_type": "stream",
     "text": [
      "and the presence of absence:\r\n"
     ]
    }
   ],
   "source": [
    "! grep -w \"of\" haiku.txt"
   ]
  },
  {
   "cell_type": "code",
   "execution_count": 9,
   "metadata": {},
   "outputs": [
    {
     "name": "stdout",
     "output_type": "stream",
     "text": [
      "and the presence of absence:\r\n",
      "Software is like that. \r\n"
     ]
    }
   ],
   "source": [
    "! grep -i \"of\" haiku.txt"
   ]
  },
  {
   "cell_type": "markdown",
   "metadata": {},
   "source": [
    "+ pippo 34 pluto\n",
    "+ pippo 35 pluto\n",
    "+ pippo 12 pippo\n",
    "\n",
    "*let's suppose that this is the content of your file the command is:*\n",
    "\n",
    "*grep -E \"pippo\\s[0-9]+\\spluto\" file.txt*\n",
    "\n",
    "where [0-9] means all number between 0-9 repeated at least one time and \\s is a space\n",
    "\n",
    "[https://en.wikipedia.org/wiki/Regular_expression](https://en.wikipedia.org/wiki/Regular_expression)"
   ]
  },
  {
   "cell_type": "markdown",
   "metadata": {},
   "source": [
    "## Exercise 6\n",
    "Count the word of each file and then order the files descending"
   ]
  },
  {
   "cell_type": "code",
   "execution_count": 10,
   "metadata": {},
   "outputs": [
    {
     "name": "stdout",
     "output_type": "stream",
     "text": [
      " 367 totale\r\n",
      " 129 exercise_file_2.txt\r\n",
      "  75 exercise_file_3.txt\r\n",
      "  69 exercise_file_5.txt\r\n",
      "  40 haiku.txt\r\n",
      "  26 exercise_file_4.txt\r\n",
      "  26 exercise_file_1.txt\r\n",
      "   1 aminoacid2.txt\r\n",
      "   1 aminoacid1.txt\r\n",
      "   0 my_file.txt\r\n"
     ]
    }
   ],
   "source": [
    "! wc -w *.txt | sort -n -r"
   ]
  },
  {
   "cell_type": "code",
   "execution_count": null,
   "metadata": {},
   "outputs": [],
   "source": []
  }
 ],
 "metadata": {
  "kernelspec": {
   "display_name": "Python 3",
   "language": "python",
   "name": "python3"
  },
  "language_info": {
   "codemirror_mode": {
    "name": "ipython",
    "version": 3
   },
   "file_extension": ".py",
   "mimetype": "text/x-python",
   "name": "python",
   "nbconvert_exporter": "python",
   "pygments_lexer": "ipython3",
   "version": "3.6.9"
  }
 },
 "nbformat": 4,
 "nbformat_minor": 2
}
