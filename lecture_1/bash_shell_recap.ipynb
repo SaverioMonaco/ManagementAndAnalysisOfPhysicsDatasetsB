{
 "cells": [
  {
   "cell_type": "markdown",
   "metadata": {},
   "source": [
    "Shell Recap\n",
    "============\n",
    "The shell is a program where users can type commands. With the shell, it’s possible to invoke complicated programs like climate modeling software or simple commands that create an empty directory with only one line of code. The most popular Unix shell is Bash. Bash is the default shell on most modern implementations of Unix and in most packages that provide Unix-like tools for Windows.\n",
    "\n",
    "The grammar of a shell allows you to combine existing tools into powerful pipelines and handle large volumes of data automatically. Sequences of commands can be written into a script, improving the reproducibility of workflows.\n",
    "\n",
    "The command line is often the easiest way to interact with remote machines and supercomputers. Familiarity with the shell is nearly essential to run a variety of specialized tools and resources including high-performance computing systems. As clusters and cloud computing systems become more popular for scientific data crunching, being able to interact with the shell is becoming a necessary skill. We can build on the command-line skills covered here to tackle a wide range of scientific questions and computational challenges.\n",
    "\n",
    "Let's start whit this recap!"
   ]
  },
  {
   "cell_type": "markdown",
   "metadata": {},
   "source": [
    "**DISCLAIMER:** since we are in the Jupyter environment, all the commands or the cells that exploit bash functionalities will be preceded by the \"**!**\" or by \"**%%bash**\" this is necessary to make the Jupyter able to correctly interpreted the source code as bash code. \n",
    "In order to run the same command in a real bash, you have to remove the \"**!**\" and \"**%%bash**\""
   ]
  },
  {
   "cell_type": "markdown",
   "metadata": {},
   "source": [
    "## The Basics"
   ]
  },
  {
   "cell_type": "markdown",
   "metadata": {},
   "source": [
    "### The variables\n",
    "The variables in the shell have a different behavior in comparison to other languages, their declaration is simple"
   ]
  },
  {
   "cell_type": "code",
   "execution_count": 1,
   "metadata": {},
   "outputs": [],
   "source": [
    "%%bash\n",
    "NAME=\"Shell Scripting is Fun!\""
   ]
  },
  {
   "cell_type": "markdown",
   "metadata": {},
   "source": [
    "the command used to print a variable is:"
   ]
  },
  {
   "cell_type": "code",
   "execution_count": 2,
   "metadata": {},
   "outputs": [
    {
     "name": "stdout",
     "output_type": "stream",
     "text": [
      "Shell Scripting is Fun!\n"
     ]
    }
   ],
   "source": [
    "%%bash\n",
    "NAME=\"Shell Scripting is Fun!\"\n",
    "echo $NAME"
   ]
  },
  {
   "cell_type": "markdown",
   "metadata": {},
   "source": [
    "Running the same command with only the variable name will produce the printing of the variable name, but not the content of the var."
   ]
  },
  {
   "cell_type": "code",
   "execution_count": 3,
   "metadata": {},
   "outputs": [
    {
     "name": "stdout",
     "output_type": "stream",
     "text": [
      "NAME\n"
     ]
    }
   ],
   "source": [
    "%%bash\n",
    "NAME=\"Shell Scripting is Fun!\"\n",
    "echo NAME"
   ]
  },
  {
   "cell_type": "markdown",
   "metadata": {},
   "source": [
    "### The print command\n",
    "\n",
    "The ```echo``` command is a command used to print at screen a variable or whichever data you need to show.\n",
    "As we have seen in the previous cells, with echo you can also concatenate variable/commands and strings. Let's see."
   ]
  },
  {
   "cell_type": "code",
   "execution_count": 46,
   "metadata": {},
   "outputs": [
    {
     "name": "stdout",
     "output_type": "stream",
     "text": [
      "Pippo has 3 apples\n"
     ]
    }
   ],
   "source": [
    "%%bash\n",
    "APPLES=3\n",
    "echo \"Pippo has $APPLES apples\"\n"
   ]
  },
  {
   "cell_type": "code",
   "execution_count": 47,
   "metadata": {},
   "outputs": [
    {
     "name": "stdout",
     "output_type": "stream",
     "text": [
      "I'm in the folder /home/scampese/Repository/ManagementAndAnalysisOfPhysicsDatasetsB/lecture_1\n"
     ]
    }
   ],
   "source": [
    "%%bash\n",
    "\n",
    "echo \"I'm in the working folder $(pwd)\""
   ]
  },
  {
   "cell_type": "markdown",
   "metadata": {},
   "source": [
    "The option \">\" or \">>\" respectively represent the \"insert\" and \"append\" of data to a file, the echo command can be used to put whatever you want to print to a file."
   ]
  },
  {
   "cell_type": "markdown",
   "metadata": {},
   "source": [
    "### The first command:\n",
    "\n",
    "The first command that you have to remember is the ```pwd``` that stands for *print working directory*.\n",
    "This command can be used to see/understand in which folder we are working.\n",
    "Let's see an example"
   ]
  },
  {
   "cell_type": "code",
   "execution_count": 5,
   "metadata": {},
   "outputs": [
    {
     "name": "stdout",
     "output_type": "stream",
     "text": [
      "/home/scampese/Repository/ManagementAndAnalysisOfPhysicsDatasetsB/lecture_1\r\n"
     ]
    }
   ],
   "source": [
    "! pwd"
   ]
  },
  {
   "cell_type": "markdown",
   "metadata": {},
   "source": [
    "### How to see what's in the folder:"
   ]
  },
  {
   "cell_type": "markdown",
   "metadata": {},
   "source": [
    "The 'ls' command is used to see what the folder contains."
   ]
  },
  {
   "cell_type": "code",
   "execution_count": 1,
   "metadata": {},
   "outputs": [
    {
     "name": "stdout",
     "output_type": "stream",
     "text": [
      "anotherTestFile.txt\n",
      "bash_shell_recap.ipynb\n",
      "exercise_file_1.txt\n",
      "exercise_file_2.txt\n",
      "exercise_file_3.txt\n",
      "exercise_file_4.txt\n",
      "exercises.ipynb\n",
      "file1.txt\n",
      "file2.txt\n",
      "file3.txt\n",
      "lol.txt\n",
      "orderable.txt\n",
      "tempFile.txt\n"
     ]
    }
   ],
   "source": [
    "%%bash \n",
    "ls"
   ]
  },
  {
   "cell_type": "markdown",
   "metadata": {},
   "source": [
    "The ls command has several parameters that allow you to see what you're looking for. One of those parameters if ```-F```. \n",
    "This parameters can be used in other to understand if each entry on the list if a file or a folder. To run this cell in your pc, you have to create a temporary test folder in the working folder\n"
   ]
  },
  {
   "cell_type": "code",
   "execution_count": 10,
   "metadata": {},
   "outputs": [
    {
     "name": "stdout",
     "output_type": "stream",
     "text": [
      "bash_shell_recap.ipynb\n"
     ]
    }
   ],
   "source": [
    "%%bash\n",
    "ls -F"
   ]
  },
  {
   "cell_type": "markdown",
   "metadata": {},
   "source": [
    "In general all the available parameters of a command can be seen by run the command with the ```--help``` paramters."
   ]
  },
  {
   "cell_type": "code",
   "execution_count": 11,
   "metadata": {},
   "outputs": [
    {
     "name": "stdout",
     "output_type": "stream",
     "text": [
      "Uso: ls [OPZIONE]... [FILE]...\n",
      "List information about the FILEs (the current directory by default).\n",
      "Sort entries alphabetically if none of -cftuvSUX nor --sort is specified.\n",
      "\n",
      "Mandatory arguments to long options are mandatory for short options too.\n",
      "  -a, --all                  non nasconde le voci che iniziano con .\n",
      "  -A, --almost-all           non elenca le voci . e ..\n",
      "      --author               con -l stampa l'autore di ogni file\n",
      "  -b, --escape               stampa escape in stile C per i caratteri non grafici\n",
      "      --block-size=SIZE      scale sizes by SIZE before printing them; e.g.,\n",
      "                               '--block-size=M' prints sizes in units of\n",
      "                               1,048,576 bytes; see SIZE format below\n",
      "  -B, --ignore-backups       do not list implied entries ending with ~\n",
      "  -c                         with -lt: sort by, and show, ctime (time of last\n",
      "                               modification of file status information);\n",
      "                               with -l: show ctime and sort by name;\n",
      "                               otherwise: sort by ctime, newest first\n",
      "  -C                         list entries by columns\n",
      "      --color[=WHEN]         colorize the output; WHEN can be 'always' (default\n",
      "                               if omitted), 'auto', or 'never'; more info below\n",
      "  -d, --directory            list directories themselves, not their contents\n",
      "  -D, --dired                generate output designed for Emacs' dired mode\n",
      "  -f                         do not sort, enable -aU, disable -ls --color\n",
      "  -F, --classify             append indicator (one of */=>@|) to entries\n",
      "      --file-type            likewise, except do not append '*'\n",
      "      --format=WORD          across -x, commas -m, horizontal -x, long -l,\n",
      "                               single-column -1, verbose -l, vertical -C\n",
      "      --full-time            like -l --time-style=full-iso\n",
      "  -g                         come -l, ma non elenca il proprietario\n",
      "      --group-directories-first\n",
      "                             group directories before files;\n",
      "                               can be augmented with a --sort option, but any\n",
      "                               use of --sort=none (-U) disables grouping\n",
      "  -G, --no-group             in a long listing, don't print group names\n",
      "  -h, --human-readable       with -l and/or -s, print human readable sizes\n",
      "                               (e.g., 1K 234M 2G)\n",
      "      --si                   likewise, but use powers of 1000 not 1024\n",
      "  -H, --dereference-command-line\n",
      "                             follow symbolic links listed on the command line\n",
      "      --dereference-command-line-symlink-to-dir\n",
      "                             follow each command line symbolic link\n",
      "                               that points to a directory\n",
      "      --hide=PATTERN         do not list implied entries matching shell PATTERN\n",
      "                               (overridden by -a or -A)\n",
      "      --hyperlink[=WHEN]     hyperlink file names; WHEN can be 'always'\n",
      "                               (default if omitted), 'auto', or 'never'\n",
      "      --indicator-style=WORD  append indicator with style WORD to entry names:\n",
      "                               none (default), slash (-p),\n",
      "                               file-type (--file-type), classify (-F)\n",
      "  -i, --inode                print the index number of each file\n",
      "  -I, --ignore=PATTERN       do not list implied entries matching shell PATTERN\n",
      "  -k, --kibibytes            default to 1024-byte blocks for disk usage\n",
      "  -l                         usa un formato di elenco lungo\n",
      "  -L, --dereference          quando mostra le informazioni su un collegamento,\n",
      "                               simbolico, mostra le informazioni sul file a cui si\n",
      "                               riferisce invece che sul collegamento stesso\n",
      "  -m                         elenca le voci separandole con virgole\n",
      "  -n, --numeric-uid-gid      like -l, but list numeric user and group IDs\n",
      "  -N, --literal              print entry names without quoting\n",
      "  -o                         like -l, but do not list group information\n",
      "  -p, --indicator-style=slash\n",
      "                             append / indicator to directories\n",
      "  -q, --hide-control-chars   print ? instead of nongraphic characters\n",
      "      --show-control-chars   show nongraphic characters as-is (the default,\n",
      "                               unless program is 'ls' and output is a terminal)\n",
      "  -Q, --quote-name           enclose entry names in double quotes\n",
      "      --quoting-style=WORD   use quoting style WORD for entry names:\n",
      "                               literal, locale, shell, shell-always,\n",
      "                               shell-escape, shell-escape-always, c, escape\n",
      "  -r, --reverse              inverte il senso dell'ordinamento\n",
      "  -R, --recursive            elenca ricorsivamente le sottodirectory\n",
      "  -s, --size                 stampa la dimensione allocata in blocchi di ogni file\n",
      "  -S                         sort by file size, largest first\n",
      "      --sort=WORD            sort by WORD instead of name: none (-U), size (-S),\n",
      "                               time (-t), version (-v), extension (-X)\n",
      "      --time=WORD            with -l, show time as WORD instead of default\n",
      "                               modification time: atime or access or use (-u);\n",
      "                               ctime or status (-c); also use specified time\n",
      "                               as sort key if --sort=time (newest first)\n",
      "      --time-style=STYLE     with -l, show times using style STYLE:\n",
      "                               full-iso, long-iso, iso, locale, or +FORMAT;\n",
      "                               FORMAT is interpreted like in 'date'; if FORMAT\n",
      "                               is FORMAT1<newline>FORMAT2, then FORMAT1 applies\n",
      "                               to non-recent files and FORMAT2 to recent files;\n",
      "                               if STYLE is prefixed with 'posix-', STYLE\n",
      "                               takes effect only outside the POSIX locale\n",
      "  -t                         ordina secondo l'orario di modifica, prima il più recente\n",
      "  -T, --tabsize=COL          assume che le tabulazioni siano ad ogni COL invece di 8\n",
      "  -u                         with -lt: sort by, and show, access time;\n",
      "                               with -l: show access time and sort by name;\n",
      "                               otherwise: sort by access time, newest first\n",
      "  -U                         do not sort; list entries in directory order\n",
      "  -v                         natural sort of (version) numbers within text\n",
      "  -w, --width=COLS           set output width to COLS.  0 means no limit\n",
      "  -x                         list entries by lines instead of by columns\n",
      "  -X                         sort alphabetically by entry extension\n",
      "  -Z, --context              print any security context of each file\n",
      "  -1                         list one file per line.  Avoid '\\n' with -q or -b\n",
      "      --help     mostra questo aiuto ed esce\n",
      "      --version  stampa le informazioni sulla versione ed esce\n",
      "\n",
      "The SIZE argument is an integer and optional unit (example: 10K is 10*1024).\n",
      "Units are K,M,G,T,P,E,Z,Y (powers of 1024) or KB,MB,... (powers of 1000).\n",
      "\n",
      "L'uso dei colori per distingure i tipi di file è disabilitato sia in modo predefinito che\n",
      "con --color=never. Con --color=auto, ls emette i codici di colore solo se lo\n",
      "standard output è connesso a un terminale. La variabile di ambiente LS_COLORS\n",
      "può cambiare queste impostazioni. Usare il comando dircolors per impostarla.\n",
      "\n",
      "Stato di uscita:\n",
      " 0  se OK,\n",
      " 1  per problemi minori (es.: impossibile accedere alla sottodirectory),\n",
      " 2  per problemi seri (es.: impossibile accedere all'argomento della riga di comando).\n",
      "\n",
      "GNU coreutils online help: <http://www.gnu.org/software/coreutils/>\n",
      "Segnalare i bug di traduzione di ls a <tp@lists.linux.it>\n",
      "Full documentation at: <http://www.gnu.org/software/coreutils/ls>\n",
      "or available locally via: info '(coreutils) ls invocation'\n"
     ]
    }
   ],
   "source": [
    "%%bash\n",
    "\n",
    "ls --help"
   ]
  },
  {
   "cell_type": "markdown",
   "metadata": {},
   "source": [
    "### Let's create a new folder\n",
    "\n",
    "The ```mkdir``` command is used to create a new folder starting from where you are. If you want you can also pass to the command the whole path where you want to put the new folder.\n",
    "Let's try!"
   ]
  },
  {
   "cell_type": "code",
   "execution_count": 32,
   "metadata": {},
   "outputs": [
    {
     "name": "stdout",
     "output_type": "stream",
     "text": [
      "bash_shell_recap.ipynb\n",
      "newTemporaryFolder/\n"
     ]
    }
   ],
   "source": [
    "%%bash\n",
    "mkdir newTemporaryFolder\n",
    "ls -F"
   ]
  },
  {
   "cell_type": "markdown",
   "metadata": {},
   "source": [
    "To create a new folder inside the created one the commands become:"
   ]
  },
  {
   "cell_type": "code",
   "execution_count": 33,
   "metadata": {},
   "outputs": [
    {
     "name": "stdout",
     "output_type": "stream",
     "text": [
      "newTemporaryFolderInside/\n"
     ]
    }
   ],
   "source": [
    "%%bash \n",
    "\n",
    "mkdir newTemporaryFolder/newTemporaryFolderInside\n",
    "ls ./newTemporaryFolder -F"
   ]
  },
  {
   "cell_type": "markdown",
   "metadata": {},
   "source": [
    "### How to create a simple empty file?\n",
    "\n",
    "The ```touch``` command is a simple comman that allow you to create an empty file with the name and the extension that you want. Let's see a simple example"
   ]
  },
  {
   "cell_type": "code",
   "execution_count": 34,
   "metadata": {},
   "outputs": [
    {
     "name": "stdout",
     "output_type": "stream",
     "text": [
      "bash_shell_recap.ipynb\n",
      "newTemporaryFolder/\n",
      "tempFile.txt\n"
     ]
    }
   ],
   "source": [
    "%%bash\n",
    "\n",
    "touch tempFile.txt\n",
    "ls -F"
   ]
  },
  {
   "cell_type": "markdown",
   "metadata": {},
   "source": [
    "### How to go in/out from a folder?"
   ]
  },
  {
   "cell_type": "markdown",
   "metadata": {},
   "source": [
    "The ```cd``` command has two functions. Getting in or out from a folder. To enter in a folder the command becomes ```cd folderName```. If you want to enter even in sub-folder, you can do this just by concatenating the folders that contain it as ```cd folderName/folder2Name/..```. \n",
    "\n",
    "If you want to exit from a folder the command becomes ```cd ..```. Similar to the entering, if you want to go out from several folders, you have to concatenate the dots as ```cd ../..```.\n",
    "\n",
    "If you want to come back to your $HOME directory, from wherever you are, this command gives you the shortcut ```cd ..```.\n",
    "\n",
    "Let's try to cd in a folder and then go out."
   ]
  },
  {
   "cell_type": "code",
   "execution_count": 29,
   "metadata": {},
   "outputs": [
    {
     "name": "stdout",
     "output_type": "stream",
     "text": [
      "I'm in: /home/scampese/Repository/ManagementAndAnalysisOfPhysicsDatasetsB/lecture_1/newTemporaryFolder\n",
      "Now I'm in: /home/scampese/Repository/ManagementAndAnalysisOfPhysicsDatasetsB/lecture_1\n"
     ]
    }
   ],
   "source": [
    "%%bash\n",
    "\n",
    "cd newTemporaryFolder\n",
    "echo \"I'm in:\" $(pwd)\n",
    "cd ..\n",
    "echo \"Now I'm in:\" $(pwd)"
   ]
  },
  {
   "cell_type": "markdown",
   "metadata": {},
   "source": [
    "### How to delete a file or a folder?\n",
    "\n",
    "The ```rm``` command is a command necessary to delete a file. If you want also delete a folder an its content, the command becomes ```rm -r```.\n",
    "Let see a couple of examples"
   ]
  },
  {
   "cell_type": "code",
   "execution_count": 35,
   "metadata": {},
   "outputs": [
    {
     "name": "stdout",
     "output_type": "stream",
     "text": [
      "Before deleting the file:\n",
      "bash_shell_recap.ipynb\n",
      "newTemporaryFolder/\n",
      "tempFile.txt\n",
      "******************************************\n",
      "After deleting the file:\n",
      "bash_shell_recap.ipynb\n",
      "newTemporaryFolder/\n",
      "******************************************\n",
      "After deleting the folder:\n",
      "bash_shell_recap.ipynb\n"
     ]
    }
   ],
   "source": [
    "%%bash\n",
    "\n",
    "echo \"Before deleting the file:\"\n",
    "ls -F\n",
    "echo \"******************************************\"\n",
    "\n",
    "echo \"After deleting the file:\"\n",
    "rm tempFile.txt\n",
    "ls -F\n",
    "echo \"******************************************\"\n",
    "\n",
    "echo \"After deleting the folder:\"\n",
    "rm -r newTemporaryFolder\n",
    "ls -F"
   ]
  },
  {
   "cell_type": "markdown",
   "metadata": {},
   "source": [
    "### How to see the content of a file?\n",
    "\n",
    "For this purpose, there are several options. The most common integrated command in the Unix Shell are:\n",
    "+ cat\n",
    "+ tail\n",
    "+ head\n",
    "\n",
    "The ```cat``` command can be used to get all the content of a file or a set of file and print it to the screen whatever is the file format (binary file included). This command is very useful but it is not appreciable when you have to deal with thousands and million-row files, which is quite common in the Big Data era.\n",
    "\n",
    "The ``` head``` command allows you to get the first n rows of a file where n is a parameter of the command. This file can be useful in order to get a fast check to a file structure or to search for something in the first rows.\n",
    "\n",
    "The ```tail``` command allows you to get the last n rows of a file where n is a parameter of the command. This command is particularly helpful when you have to check a log of a program (i.e.: you want to check just the last iteration/execution of a program and not the whole log file). Moreover, ```tail``` allows you to \"*listen*\" to a file that is being written and print in real-time what is going to be put on that file. This is quite useful when you have a log of your cluster and you want to check with us happening to the computation.\n"
   ]
  },
  {
   "cell_type": "code",
   "execution_count": 56,
   "metadata": {},
   "outputs": [
    {
     "name": "stdout",
     "output_type": "stream",
     "text": [
      "Hello to MAPD 19/20\n"
     ]
    }
   ],
   "source": [
    "%%bash \n",
    "\n",
    "touch tempFile.txt\n",
    "echo \"Hello to MAPD 19/20\" > tempFile.txt\n",
    "cat tempFile.txt\n"
   ]
  },
  {
   "cell_type": "code",
   "execution_count": 57,
   "metadata": {},
   "outputs": [
    {
     "name": "stdout",
     "output_type": "stream",
     "text": [
      "Hello to MAPD 19/20\n",
      "The first lecture is about bash\n"
     ]
    }
   ],
   "source": [
    "%%bash \n",
    "\n",
    "echo \"The first lecture is about bash\" >> tempFile.txt\n",
    "cat tempFile.txt"
   ]
  },
  {
   "cell_type": "code",
   "execution_count": 63,
   "metadata": {},
   "outputs": [
    {
     "name": "stdout",
     "output_type": "stream",
     "text": [
      "Hello to MAPD 19/20\n"
     ]
    }
   ],
   "source": [
    "%%bash\n",
    "head -n 1 tempFile.txt"
   ]
  },
  {
   "cell_type": "code",
   "execution_count": 60,
   "metadata": {},
   "outputs": [
    {
     "name": "stdout",
     "output_type": "stream",
     "text": [
      "The first lecture is about bash\n"
     ]
    }
   ],
   "source": [
    "%%bash \n",
    "tail -n 1 tempFile.txt"
   ]
  },
  {
   "cell_type": "markdown",
   "metadata": {},
   "source": [
    "### Search a file/directory\n",
    "\n",
    "the ```find``` command is a command used to search a file or a folder. Have a huge set of different options to make really complex searches. Let's see a simple example:\n"
   ]
  },
  {
   "cell_type": "code",
   "execution_count": 73,
   "metadata": {},
   "outputs": [
    {
     "name": "stdout",
     "output_type": "stream",
     "text": [
      "./lol.txt\n"
     ]
    }
   ],
   "source": [
    "%%bash \n",
    "find . -name lol.txt"
   ]
  },
  {
   "cell_type": "markdown",
   "metadata": {},
   "source": [
    "The aforementioned command is used to search, starting from our working directory, the tempFile.txt. In the next cell is present the command that can be used to search all the files with the txt extension that is present in our working directory. To change the search directory is necessary to change the . with the path where you want to search."
   ]
  },
  {
   "cell_type": "code",
   "execution_count": 74,
   "metadata": {},
   "outputs": [
    {
     "name": "stdout",
     "output_type": "stream",
     "text": [
      "./lol.txt\n",
      "./tempFile.txt\n"
     ]
    }
   ],
   "source": [
    "%%bash \n",
    "find . -name '*.txt' ## the qoutes around the argument are not necessay out of Jupyter"
   ]
  },
  {
   "cell_type": "code",
   "execution_count": 100,
   "metadata": {},
   "outputs": [
    {
     "name": "stdout",
     "output_type": "stream",
     "text": [
      "./newTemporaryFolder/anotherTestFile.txt\n"
     ]
    }
   ],
   "source": [
    "%%bash \n",
    "\n",
    "mkdir newTemporaryFolder\n",
    "touch ./newTemporaryFolder/anotherTestFile.txt\n",
    "find ./newTemporaryFolder -name '*.txt' ## the qoutes around the argument are not necessay out of Jupyter\n",
    "\n",
    "rm -r newTemporaryFolder"
   ]
  },
  {
   "cell_type": "markdown",
   "metadata": {},
   "source": [
    "## Search in a file\n",
    "\n",
    "The ```grep``` command can be used to search something in a file. \n",
    "Let's see an example:"
   ]
  },
  {
   "cell_type": "code",
   "execution_count": 101,
   "metadata": {},
   "outputs": [
    {
     "name": "stdout",
     "output_type": "stream",
     "text": [
      "Hello to MAPD 19/20\n"
     ]
    }
   ],
   "source": [
    "%%bash\n",
    "grep MAPD tempFile.txt"
   ]
  },
  {
   "cell_type": "markdown",
   "metadata": {},
   "source": [
    "grep allow to extract all the line that contains the word that we want to search. This command can also work with regular expression."
   ]
  },
  {
   "cell_type": "code",
   "execution_count": 103,
   "metadata": {},
   "outputs": [
    {
     "name": "stdout",
     "output_type": "stream",
     "text": [
      "Hello to MAPD 19/20\n"
     ]
    }
   ],
   "source": [
    "%%bash\n",
    "grep -E \"[0-9]+\" tempFile.txt"
   ]
  },
  {
   "cell_type": "markdown",
   "metadata": {},
   "source": [
    "## Counting word or line of a file:"
   ]
  },
  {
   "cell_type": "markdown",
   "metadata": {},
   "source": [
    "the ```wc``` command allow you count the number of words in a file:"
   ]
  },
  {
   "cell_type": "code",
   "execution_count": 115,
   "metadata": {},
   "outputs": [
    {
     "name": "stdout",
     "output_type": "stream",
     "text": [
      "4 tempFile.txt\n"
     ]
    }
   ],
   "source": [
    "%%bash\n",
    "wc -w tempFile.txt"
   ]
  },
  {
   "cell_type": "markdown",
   "metadata": {},
   "source": [
    "or the number of line"
   ]
  },
  {
   "cell_type": "code",
   "execution_count": 116,
   "metadata": {},
   "outputs": [
    {
     "name": "stdout",
     "output_type": "stream",
     "text": [
      "1 tempFile.txt\n"
     ]
    }
   ],
   "source": [
    "%%bash\n",
    "wc -l tempFile.txt"
   ]
  },
  {
   "cell_type": "markdown",
   "metadata": {},
   "source": [
    "## Sorting\n",
    "the command ```sort``` can be used to sort the elments in a file or list of elements:"
   ]
  },
  {
   "cell_type": "code",
   "execution_count": 117,
   "metadata": {},
   "outputs": [
    {
     "name": "stdout",
     "output_type": "stream",
     "text": [
      "2\n",
      "3\n",
      "5\n",
      "6\n"
     ]
    }
   ],
   "source": [
    "%%bash\n",
    "\n",
    "echo \"5\" > orderable.txt\n",
    "echo \"3\" >> orderable.txt\n",
    "echo \"6\" >> orderable.txt\n",
    "echo \"2\" >> orderable.txt\n",
    "\n",
    "sort orderable.txt"
   ]
  },
  {
   "cell_type": "markdown",
   "metadata": {},
   "source": [
    "## Complex and usefull command"
   ]
  },
  {
   "cell_type": "markdown",
   "metadata": {},
   "source": [
    "### How we can build a pipeline of command?\n",
    "\n",
    "the answer is with char ```|```. \n",
    "This is a special char that can be used to create a pipeline of command that must be executed in order. \n",
    "For example to search in a file:"
   ]
  },
  {
   "cell_type": "code",
   "execution_count": 104,
   "metadata": {},
   "outputs": [
    {
     "name": "stdout",
     "output_type": "stream",
     "text": [
      "Hello to MAPD 19/20\n"
     ]
    }
   ],
   "source": [
    "%%bash \n",
    "cat tempFile.txt | grep MAPD"
   ]
  },
  {
   "cell_type": "markdown",
   "metadata": {},
   "source": [
    "Or it can be used to order a set of file by the number of words inside (ascending):"
   ]
  },
  {
   "cell_type": "code",
   "execution_count": 108,
   "metadata": {},
   "outputs": [
    {
     "name": "stdout",
     "output_type": "stream",
     "text": [
      " 1 file3.txt\n",
      " 3 file1.txt\n",
      " 4 file2.txt\n",
      " 8 totale\n"
     ]
    }
   ],
   "source": [
    "%%bash \n",
    "echo \"one two three\" > file1.txt\n",
    "echo \"one two three four\" > file2.txt\n",
    "echo \"one\" > file3.txt\n",
    "\n",
    "\n",
    "wc -w file* | sort -n "
   ]
  },
  {
   "cell_type": "markdown",
   "metadata": {},
   "source": [
    "## Get the list of the process in the system\n",
    "\n",
    "```ps``` is a command that allows to list all the processes that are running in the system.\n"
   ]
  },
  {
   "cell_type": "code",
   "execution_count": 122,
   "metadata": {},
   "outputs": [
    {
     "name": "stdout",
     "output_type": "stream",
     "text": [
      "USER       PID %CPU %MEM    VSZ   RSS TTY      STAT START   TIME COMMAND\r\n",
      "root         1  0.0  0.0 225444  9012 ?        Ss   08:25   0:03 /sbin/init spla\r\n",
      "root         2  0.0  0.0      0     0 ?        S    08:25   0:00 [kthreadd]\r\n",
      "root         3  0.0  0.0      0     0 ?        I<   08:25   0:00 [rcu_gp]\r\n",
      "root         4  0.0  0.0      0     0 ?        I<   08:25   0:00 [rcu_par_gp]\r\n",
      "root         6  0.0  0.0      0     0 ?        I<   08:25   0:00 [kworker/0:0H-k\r\n",
      "root         9  0.0  0.0      0     0 ?        I<   08:25   0:00 [mm_percpu_wq]\r\n",
      "root        10  0.0  0.0      0     0 ?        S    08:25   0:01 [ksoftirqd/0]\r\n",
      "root        11  0.0  0.0      0     0 ?        I    08:25   0:17 [rcu_sched]\r\n",
      "root        12  0.0  0.0      0     0 ?        S    08:25   0:00 [migration/0]\r\n",
      "root        13  0.0  0.0      0     0 ?        S    08:25   0:00 [idle_inject/0]\r\n",
      "root        14  0.0  0.0      0     0 ?        S    08:25   0:00 [cpuhp/0]\r\n",
      "root        15  0.0  0.0      0     0 ?        S    08:25   0:00 [cpuhp/1]\r\n",
      "root        16  0.0  0.0      0     0 ?        S    08:25   0:00 [idle_inject/1]\r\n",
      "root        17  0.0  0.0      0     0 ?        S    08:25   0:00 [migration/1]\r\n",
      "root        18  0.0  0.0      0     0 ?        S    08:25   0:00 [ksoftirqd/1]\r\n",
      "root        20  0.0  0.0      0     0 ?        I<   08:25   0:00 [kworker/1:0H-e\r\n",
      "root        21  0.0  0.0      0     0 ?        S    08:25   0:00 [cpuhp/2]\r\n",
      "root        22  0.0  0.0      0     0 ?        S    08:25   0:00 [idle_inject/2]\r\n",
      "root        23  0.0  0.0      0     0 ?        S    08:25   0:00 [migration/2]\r\n",
      "root        24  0.0  0.0      0     0 ?        S    08:25   0:00 [ksoftirqd/2]\r\n",
      "root        26  0.0  0.0      0     0 ?        I<   08:25   0:00 [kworker/2:0H-k\r\n",
      "root        27  0.0  0.0      0     0 ?        S    08:25   0:00 [cpuhp/3]\r\n",
      "root        28  0.0  0.0      0     0 ?        S    08:25   0:00 [idle_inject/3]\r\n",
      "root        29  0.0  0.0      0     0 ?        S    08:25   0:00 [migration/3]\r\n",
      "root        30  0.0  0.0      0     0 ?        S    08:25   0:00 [ksoftirqd/3]\r\n",
      "root        32  0.0  0.0      0     0 ?        I<   08:25   0:00 [kworker/3:0H-k\r\n",
      "root        33  0.0  0.0      0     0 ?        S    08:25   0:00 [cpuhp/4]\r\n",
      "root        34  0.0  0.0      0     0 ?        S    08:25   0:00 [idle_inject/4]\r\n",
      "root        35  0.0  0.0      0     0 ?        S    08:25   0:00 [migration/4]\r\n",
      "root        36  0.0  0.0      0     0 ?        S    08:25   0:00 [ksoftirqd/4]\r\n",
      "root        38  0.0  0.0      0     0 ?        I<   08:25   0:00 [kworker/4:0H-e\r\n",
      "root        39  0.0  0.0      0     0 ?        S    08:25   0:00 [cpuhp/5]\r\n",
      "root        40  0.0  0.0      0     0 ?        S    08:25   0:00 [idle_inject/5]\r\n",
      "root        41  0.0  0.0      0     0 ?        S    08:25   0:00 [migration/5]\r\n",
      "root        42  0.0  0.0      0     0 ?        S    08:25   0:00 [ksoftirqd/5]\r\n",
      "root        44  0.0  0.0      0     0 ?        I<   08:25   0:00 [kworker/5:0H-k\r\n",
      "root        45  0.0  0.0      0     0 ?        S    08:25   0:00 [cpuhp/6]\r\n",
      "root        46  0.0  0.0      0     0 ?        S    08:25   0:00 [idle_inject/6]\r\n",
      "root        47  0.0  0.0      0     0 ?        S    08:25   0:00 [migration/6]\r\n",
      "root        48  0.0  0.0      0     0 ?        S    08:25   0:00 [ksoftirqd/6]\r\n",
      "root        50  0.0  0.0      0     0 ?        I<   08:25   0:00 [kworker/6:0H-k\r\n",
      "root        51  0.0  0.0      0     0 ?        S    08:25   0:00 [cpuhp/7]\r\n",
      "root        52  0.0  0.0      0     0 ?        S    08:25   0:00 [idle_inject/7]\r\n",
      "root        53  0.0  0.0      0     0 ?        S    08:25   0:00 [migration/7]\r\n",
      "root        54  0.0  0.0      0     0 ?        S    08:25   0:00 [ksoftirqd/7]\r\n",
      "root        56  0.0  0.0      0     0 ?        I<   08:25   0:00 [kworker/7:0H-e\r\n",
      "root        57  0.0  0.0      0     0 ?        S    08:25   0:00 [cpuhp/8]\r\n",
      "root        58  0.0  0.0      0     0 ?        S    08:25   0:00 [idle_inject/8]\r\n",
      "root        59  0.0  0.0      0     0 ?        S    08:25   0:00 [migration/8]\r\n",
      "root        60  0.0  0.0      0     0 ?        S    08:25   0:00 [ksoftirqd/8]\r\n",
      "root        62  0.0  0.0      0     0 ?        I<   08:25   0:00 [kworker/8:0H-k\r\n",
      "root        63  0.0  0.0      0     0 ?        S    08:25   0:00 [cpuhp/9]\r\n",
      "root        64  0.0  0.0      0     0 ?        S    08:25   0:00 [idle_inject/9]\r\n",
      "root        65  0.0  0.0      0     0 ?        S    08:25   0:00 [migration/9]\r\n",
      "root        66  0.0  0.0      0     0 ?        S    08:25   0:00 [ksoftirqd/9]\r\n",
      "root        68  0.0  0.0      0     0 ?        I<   08:25   0:00 [kworker/9:0H-k\r\n",
      "root        69  0.0  0.0      0     0 ?        S    08:25   0:00 [cpuhp/10]\r\n",
      "root        70  0.0  0.0      0     0 ?        S    08:25   0:00 [idle_inject/10\r\n",
      "root        71  0.0  0.0      0     0 ?        S    08:25   0:00 [migration/10]\r\n",
      "root        72  0.0  0.0      0     0 ?        S    08:25   0:00 [ksoftirqd/10]\r\n",
      "root        74  0.0  0.0      0     0 ?        I<   08:25   0:00 [kworker/10:0H-\r\n",
      "root        75  0.0  0.0      0     0 ?        S    08:25   0:00 [cpuhp/11]\r\n",
      "root        76  0.0  0.0      0     0 ?        S    08:25   0:00 [idle_inject/11\r\n",
      "root        77  0.0  0.0      0     0 ?        S    08:25   0:00 [migration/11]\r\n",
      "root        78  0.0  0.0      0     0 ?        S    08:25   0:00 [ksoftirqd/11]\r\n",
      "root        80  0.0  0.0      0     0 ?        I<   08:25   0:00 [kworker/11:0H-\r\n",
      "root        81  0.0  0.0      0     0 ?        S    08:25   0:00 [kdevtmpfs]\r\n",
      "root        82  0.0  0.0      0     0 ?        I<   08:25   0:00 [netns]\r\n",
      "root        83  0.0  0.0      0     0 ?        S    08:25   0:00 [rcu_tasks_kthr\r\n",
      "root        84  0.0  0.0      0     0 ?        S    08:25   0:00 [kauditd]\r\n",
      "root        87  0.0  0.0      0     0 ?        S    08:25   0:00 [khungtaskd]\r\n",
      "root        88  0.0  0.0      0     0 ?        S    08:25   0:00 [oom_reaper]\r\n",
      "root        89  0.0  0.0      0     0 ?        I<   08:25   0:00 [writeback]\r\n",
      "root        90  0.0  0.0      0     0 ?        S    08:25   0:00 [kcompactd0]\r\n",
      "root        91  0.0  0.0      0     0 ?        SN   08:25   0:00 [ksmd]\r\n",
      "root        92  0.0  0.0      0     0 ?        SN   08:25   0:00 [khugepaged]\r\n",
      "root       186  0.0  0.0      0     0 ?        I<   08:25   0:00 [kintegrityd]\r\n",
      "root       187  0.0  0.0      0     0 ?        I<   08:25   0:00 [kblockd]\r\n",
      "root       188  0.0  0.0      0     0 ?        I<   08:25   0:00 [blkcg_punt_bio\r\n",
      "root       191  0.0  0.0      0     0 ?        I<   08:25   0:00 [tpm_dev_wq]\r\n",
      "root       192  0.0  0.0      0     0 ?        I<   08:25   0:00 [ata_sff]\r\n",
      "root       193  0.0  0.0      0     0 ?        I<   08:25   0:00 [md]\r\n",
      "root       194  0.0  0.0      0     0 ?        I<   08:25   0:00 [edac-poller]\r\n",
      "root       195  0.0  0.0      0     0 ?        I<   08:25   0:00 [devfreq_wq]\r\n",
      "root       196  0.0  0.0      0     0 ?        S    08:25   0:00 [watchdogd]\r\n",
      "root       204  0.0  0.0      0     0 ?        S    08:25   0:00 [kswapd0]\r\n",
      "root       206  0.0  0.0      0     0 ?        S    08:25   0:00 [ecryptfs-kthre\r\n",
      "root       209  0.0  0.0      0     0 ?        I<   08:25   0:00 [kthrotld]\r\n",
      "root       210  0.0  0.0      0     0 ?        S    08:25   0:00 [irq/123-aerdrv\r\n",
      "root       211  0.0  0.0      0     0 ?        S    08:25   0:00 [irq/123-pcie-d\r\n",
      "root       212  0.0  0.0      0     0 ?        S    08:25   0:00 [irq/124-aerdrv\r\n",
      "root       213  0.0  0.0      0     0 ?        S    08:25   0:00 [irq/124-pcie-d\r\n",
      "root       214  0.0  0.0      0     0 ?        S    08:25   0:00 [irq/125-aerdrv\r\n",
      "root       215  0.0  0.0      0     0 ?        S    08:25   0:00 [irq/125-pcie-d\r\n",
      "root       216  0.0  0.0      0     0 ?        I<   08:25   0:00 [acpi_thermal_p\r\n",
      "root       225  0.0  0.0      0     0 ?        I<   08:25   0:00 [ipv6_addrconf]\r\n",
      "root       236  0.0  0.0      0     0 ?        I<   08:25   0:00 [kstrp]\r\n",
      "root       255  0.0  0.0      0     0 ?        I<   08:25   0:00 [charger_manage\r\n",
      "root       325  0.0  0.0      0     0 ?        I<   08:25   0:00 [nvme-wq]\r\n",
      "root       326  0.0  0.0      0     0 ?        I<   08:25   0:00 [nvme-reset-wq]\r\n",
      "root       327  0.0  0.0      0     0 ?        I<   08:25   0:00 [nvme-delete-wq\r\n",
      "root       328  0.0  0.0      0     0 ?        S    08:25   0:00 [scsi_eh_0]\r\n",
      "root       329  0.0  0.0      0     0 ?        I<   08:25   0:00 [scsi_tmf_0]\r\n",
      "root       330  0.0  0.0      0     0 ?        S    08:25   0:00 [scsi_eh_1]\r\n",
      "root       331  0.0  0.0      0     0 ?        I<   08:25   0:00 [scsi_tmf_1]\r\n",
      "root       332  0.0  0.0      0     0 ?        S    08:25   0:00 [scsi_eh_2]\r\n",
      "root       333  0.0  0.0      0     0 ?        I<   08:25   0:00 [scsi_tmf_2]\r\n",
      "root       334  0.0  0.0      0     0 ?        S    08:25   0:00 [scsi_eh_3]\r\n",
      "root       335  0.0  0.0      0     0 ?        I<   08:25   0:00 [scsi_tmf_3]\r\n",
      "root       336  0.0  0.0      0     0 ?        S    08:25   0:00 [scsi_eh_4]\r\n",
      "root       337  0.0  0.0      0     0 ?        I<   08:25   0:00 [scsi_tmf_4]\r\n",
      "root       345  0.0  0.0      0     0 ?        I<   08:25   0:00 [kworker/6:1H]\r\n",
      "root       347  0.0  0.0      0     0 ?        S    08:25   0:00 [nv_queue]\r\n",
      "root       348  0.0  0.0      0     0 ?        S    08:25   0:00 [nv_queue]\r\n",
      "root       350  0.0  0.0      0     0 ?        S    08:25   0:00 [nvidia-modeset\r\n",
      "root       351  0.0  0.0      0     0 ?        S    08:25   0:00 [nvidia-modeset\r\n",
      "root       366  0.0  0.0      0     0 ?        I<   08:25   0:00 [kworker/7:1H-k\r\n",
      "root       420  0.0  0.0      0     0 ?        I<   08:25   0:00 [kworker/1:1H-k\r\n",
      "root       421  0.0  0.0      0     0 ?        I<   08:25   0:00 [kworker/4:1H-k\r\n",
      "root       443  0.0  0.0      0     0 ?        I<   08:25   0:00 [kworker/11:1H-\r\n",
      "root       445  0.0  0.0      0     0 ?        S    08:25   0:02 [jbd2/nvme0n1p2\r\n",
      "root       446  0.0  0.0      0     0 ?        I<   08:25   0:00 [ext4-rsv-conve\r\n",
      "root       500  0.0  0.1 148388 55452 ?        S<s  08:25   0:00 /lib/systemd/sy\r\n",
      "root       517  0.0  0.0      0     0 ?        I<   08:25   0:00 [kworker/0:1H-k\r\n",
      "root       522  0.0  0.0  47296  5412 ?        Ss   08:25   0:00 /lib/systemd/sy\r\n",
      "root       527  0.0  0.0      0     0 ?        S<   08:25   0:00 [loop0]\r\n",
      "root       574  0.0  0.0      0     0 ?        I<   08:25   0:00 [kworker/2:1H-k\r\n",
      "root       576  0.0  0.0      0     0 ?        I<   08:25   0:00 [kworker/8:1H-k\r\n",
      "root       577  0.0  0.0      0     0 ?        I<   08:25   0:00 [kworker/10:1H-\r\n",
      "root       581  0.0  0.0      0     0 ?        S<   08:25   0:00 [loop1]\r\n",
      "root       582  0.0  0.0      0     0 ?        S    08:25   0:00 [UVM global que\r\n",
      "root       583  0.0  0.0      0     0 ?        S    08:25   0:00 [UVM deferred r\r\n",
      "root       584  0.0  0.0      0     0 ?        S    08:25   0:00 [UVM Tools Even\r\n",
      "root       595  0.0  0.0      0     0 ?        S    08:25   0:00 [irq/139-mei_me\r\n",
      "root       598  0.9  0.0      0     0 ?        S    08:25   4:25 [irq/140-nvidia\r\n",
      "root       599  0.0  0.0      0     0 ?        S    08:25   0:00 [nvidia]\r\n",
      "root       600  0.1  0.0      0     0 ?        S    08:25   0:55 [nv_queue]\r\n",
      "root       616  0.0  0.0      0     0 ?        I<   08:25   0:00 [kmemstick]\r\n",
      "root       618  0.0  0.0      0     0 ?        S    08:25   0:00 [irq/141-SYNA12\r\n",
      "root       640  0.0  0.0      0     0 ?        I<   08:25   0:00 [cfg80211]\r\n",
      "root       651  0.0  0.0      0     0 ?        I<   08:25   0:00 [cryptd]\r\n",
      "root       656  0.0  0.0      0     0 ?        S<   08:25   0:00 [loop2]\r\n",
      "root       673  0.0  0.0      0     0 ?        S    08:25   0:08 [irq/142-iwlwif\r\n",
      "root       674  0.0  0.0      0     0 ?        S    08:25   0:00 [irq/143-iwlwif\r\n",
      "root       675  0.0  0.0      0     0 ?        S    08:25   0:00 [irq/144-iwlwif\r\n",
      "root       676  0.0  0.0      0     0 ?        S    08:25   0:00 [irq/145-iwlwif\r\n",
      "root       677  0.0  0.0      0     0 ?        S    08:25   0:00 [irq/146-iwlwif\r\n",
      "root       678  0.0  0.0      0     0 ?        S    08:25   0:00 [irq/147-iwlwif\r\n",
      "root       679  0.0  0.0      0     0 ?        S    08:25   0:05 [irq/148-iwlwif\r\n",
      "root       680  0.0  0.0      0     0 ?        S    08:25   0:00 [irq/149-iwlwif\r\n",
      "root       684  0.0  0.0      0     0 ?        S    08:25   0:00 [irq/150-iwlwif\r\n",
      "root       687  0.0  0.0      0     0 ?        S    08:25   0:00 [irq/151-iwlwif\r\n",
      "root       688  0.0  0.0      0     0 ?        S    08:25   0:00 [irq/152-iwlwif\r\n",
      "root       689  0.0  0.0      0     0 ?        S    08:25   0:01 [irq/153-iwlwif\r\n",
      "root       691  0.0  0.0      0     0 ?        S    08:25   0:01 [irq/154-iwlwif\r\n",
      "root       692  0.0  0.0      0     0 ?        S    08:25   0:00 [irq/155-iwlwif\r\n",
      "root       751  0.0  0.0      0     0 ?        S<   08:25   0:00 [loop3]\r\n",
      "root       752  0.0  0.0      0     0 ?        S<   08:25   0:00 [loop4]\r\n",
      "root       760  0.0  0.0      0     0 ?        I<   08:25   0:00 [kworker/3:1H-k\r\n",
      "root       771  0.0  0.0      0     0 ?        I<   08:25   0:00 [kworker/5:1H-k\r\n",
      "systemd+   803  0.0  0.0  70896  6260 ?        Ss   08:25   0:02 /lib/systemd/sy\r\n",
      "systemd+   808  0.0  0.0 143992  3324 ?        Ssl  08:25   0:00 /lib/systemd/sy\r\n",
      "root       905  0.0  0.0   8868  1696 ?        Ss   08:25   0:00 /usr/bin/nvidia\r\n",
      "root       906  0.0  0.0 503008 10724 ?        Ssl  08:25   0:04 /usr/lib/udisks\r\n",
      "root       907  0.0  0.0 170544 17244 ?        Ssl  08:25   0:00 /usr/bin/python\r\n",
      "root       908  0.0  0.0  31324  3216 ?        Ss   08:25   0:00 /usr/sbin/cron \r\n",
      "root       909  0.0  0.0 288060  7308 ?        Ssl  08:25   0:00 /usr/lib/accoun\r\n",
      "root       911  0.0  0.0 434332  9288 ?        Ssl  08:25   0:00 /usr/sbin/Modem\r\n",
      "syslog     912  0.0  0.0 263032  4520 ?        Ssl  08:25   0:00 /usr/sbin/rsysl\r\n",
      "root       913  0.0  0.0  71140  6672 ?        Ss   08:25   0:02 /lib/systemd/sy\r\n",
      "root       918  0.0  0.0   4548   844 ?        Ss   08:25   0:05 /usr/sbin/acpid\r\n",
      "avahi      924  0.0  0.0  47276  3768 ?        Ss   08:25   0:03 avahi-daemon: r\r\n",
      "root       928  0.0  0.0 110520  3448 ?        Ssl  08:25   0:01 /usr/sbin/irqba\r\n",
      "root       934  0.0  0.0 179868  9236 ?        Ssl  08:25   0:02 /usr/sbin/therm\r\n",
      "message+   935  0.0  0.0  51728  6136 ?        Ss   08:25   0:15 /usr/bin/dbus-d\r\n",
      "avahi      936  0.0  0.0  47072   336 ?        S    08:25   0:00 avahi-daemon: c\r\n",
      "root       947  0.0  0.0 481736 17424 ?        Ssl  08:25   0:04 /usr/sbin/Netwo\r\n",
      "root       948  0.0  0.0  45472  7992 ?        Ss   08:25   0:00 /sbin/wpa_suppl\r\n",
      "root       958  0.0  0.0 296628  9904 ?        Ssl  08:25   0:04 /usr/lib/policy\r\n",
      "root       971  0.0  0.0      0     0 ?        I<   08:25   0:00 [kworker/9:1H-k\r\n",
      "colord     972  0.0  0.0 318096 14040 ?        Ssl  08:25   0:00 /usr/lib/colord\r\n",
      "root      1002  0.0  0.0      0     0 ?        S<   08:25   0:00 [loop5]\r\n",
      "mpd       1025  0.0  0.1 829736 38728 ?        Ssl  08:25   0:00 /usr/bin/mpd --\r\n",
      "root      1037  0.0  0.0      0     0 ?        I<   08:25   0:00 [iprt-VBoxWQueu\r\n",
      "root      1059  0.0  0.0  72296  5652 ?        Ss   08:25   0:00 /usr/sbin/sshd \r\n",
      "root      1060  0.0  0.0      0     0 ?        S<   08:25   0:00 [loop6]\r\n",
      "root      1061  0.0  0.0      0     0 ?        S<   08:25   0:00 [loop7]\r\n",
      "root      1067  0.0  0.0      0     0 ?        S    08:25   0:00 [iprt-VBoxTscTh\r\n",
      "root      1086  0.0  0.0      0     0 ?        S<   08:25   0:00 [loop8]\r\n",
      "root      1101  0.0  0.0 505304 28292 ?        Ss   08:25   0:01 /usr/sbin/apach\r\n",
      "root      1105  0.0  0.0  36544  4412 ?        Ss   08:25   0:00 /usr/lib/blueto\r\n",
      "postgres  1111  0.0  0.0 321776 28332 ?        Ss   08:25   0:00 /usr/lib/postgr\r\n",
      "mysql     1128  0.0  0.5 1424380 176732 ?      Sl   08:25   0:22 /usr/sbin/mysql\r\n",
      "root      1130  0.0  0.0      0     0 ?        S<   08:25   0:00 [loop9]\r\n",
      "postgres  1140  0.0  0.0 321916  6200 ?        Ss   08:25   0:00 postgres: 12/ma\r\n",
      "postgres  1141  0.0  0.0 321932  6516 ?        Ss   08:25   0:00 postgres: 12/ma\r\n",
      "postgres  1142  0.0  0.0 321776  9548 ?        Ss   08:25   0:00 postgres: 12/ma\r\n",
      "postgres  1143  0.0  0.0 322356  6868 ?        Ss   08:25   0:00 postgres: 12/ma\r\n",
      "postgres  1144  0.0  0.0 176288  4232 ?        Ss   08:25   0:00 postgres: 12/ma\r\n",
      "postgres  1145  0.0  0.0 322352  7020 ?        Ss   08:25   0:00 postgres: 12/ma\r\n",
      "root      1180  0.0  0.0      0     0 ?        S<   08:25   0:00 [loop10]\r\n",
      "root      1186  0.0  0.0 187248 19900 ?        Ssl  08:25   0:00 /usr/bin/python\r\n",
      "root      1188  0.0  0.0 187728 13304 ?        Ssl  08:25   0:00 /usr/bin/sddm\r\n",
      "root      1191  0.0  0.0      0     0 ?        S<   08:25   0:00 [loop11]\r\n",
      "root      1220  0.0  0.0      0     0 ?        S<   08:25   0:00 [loop12]\r\n",
      "root      1231  0.0  0.0      0     0 ?        S<   08:25   0:00 [loop13]\r\n",
      "root      1238  0.0  0.0      0     0 ?        S<   08:25   0:00 [loop14]\r\n",
      "root      1249  0.0  0.0 2186260 23160 ?       Ssl  08:25   0:04 /usr/lib/snapd/\r\n",
      "root      1269  4.2  0.4 657124 152576 tty1    Ssl+ 08:25  19:37 /usr/lib/xorg/X\r\n",
      "sddm      1388  0.0  0.0  76792  7860 ?        Ss   08:25   0:00 /lib/systemd/sy\r\n",
      "sddm      1389  0.0  0.0 111896  2576 ?        S    08:25   0:00 (sd-pam)\r\n",
      "sddm      1406  0.0  0.0  45700  2524 ?        S    08:25   0:00 dbus-launch --a\r\n",
      "sddm      1407  0.0  0.0  49792  2776 ?        Ss   08:25   0:00 /usr/bin/dbus-d\r\n",
      "root      1410  0.0  0.0 315572  9024 ?        Ssl  08:25   0:01 /usr/lib/upower\r\n",
      "whoopsie  1433  0.0  0.0 376956 11772 ?        Ssl  08:25   0:00 /usr/bin/whoops\r\n",
      "kernoops  1437  0.0  0.0  56940   416 ?        Ss   08:25   0:01 /usr/sbin/kerne\r\n",
      "kernoops  1439  0.0  0.0  56940   416 ?        Ss   08:25   0:01 /usr/sbin/kerne\r\n",
      "root      1446  0.0  0.0 145764 12712 ?        S    08:25   0:00 /usr/lib/x86_64\r\n",
      "scampese  1447  0.0  0.0  76796  7676 ?        Ss   08:25   0:00 /lib/systemd/sy\r\n",
      "scampese  1448  0.0  0.0 111896  2580 ?        S    08:25   0:00 (sd-pam)\r\n",
      "scampese  1461  0.0  0.1 546352 38312 ?        Sl   08:25   0:04 /usr/bin/kwalle\r\n",
      "scampese  1462  0.0  0.0   4624  1728 ?        S    08:25   0:00 /bin/sh /usr/bi\r\n",
      "scampese  1527  0.0  0.0  45700  2528 ?        S    08:25   0:00 /usr/bin/dbus-l\r\n",
      "scampese  1528  0.0  0.0  50804  4324 ?        Ss   08:25   0:01 /usr/bin/dbus-d\r\n",
      "scampese  1542  0.0  0.0  11300   320 ?        Ss   08:25   0:00 /usr/bin/ssh-ag\r\n",
      "scampese  1577  0.0  0.0   6460    88 ?        S    08:25   0:00 /usr/lib/x86_64\r\n",
      "scampese  1579  0.0  0.0 275168 19480 ?        Ss   08:25   0:00 kdeinit5: Runni\r\n",
      "scampese  1580  0.0  0.1 529240 36972 ?        Sl   08:25   0:04 /usr/lib/x86_64\r\n",
      "scampese  1583  0.0  0.7 2213032 250640 ?      Sl   08:25   0:18 kded5 [kdeinit5\r\n",
      "scampese  1589  0.0  0.1 532704 37612 ?        Sl   08:25   0:07 /usr/bin/kacces\r\n",
      "scampese  1599  0.0  0.0  72536  7152 ?        S    08:25   0:00 kwrapper5 /usr/\r\n",
      "scampese  1600  0.0  0.1 635844 42052 ?        Sl   08:25   0:06 /usr/bin/ksmser\r\n",
      "scampese  1607  0.0  0.1 531188 36492 ?        Sl   08:25   0:04 /usr/bin/kgloba\r\n",
      "scampese  1612  0.0  0.0 187772  5012 ?        Sl   08:25   0:00 /usr/lib/dconf/\r\n",
      "scampese  1617  0.0  0.0 787564 26636 ?        Sl   08:25   0:05 /usr/bin/kactiv\r\n",
      "scampese  1632  4.8  0.3 3343232 118164 ?      Sl   08:25  22:28 kwin_x11 -sessi\r\n",
      "scampese  1634  0.0  0.1 268760992 34668 ?     SNl  08:25   0:02 /usr/bin/baloo_\r\n",
      "scampese  1636  0.0  0.7 3009144 229828 ?      Sl   08:25   0:26 /usr/bin/krunne\r\n",
      "scampese  1638  1.2  1.4 6662868 475084 ?      Sl   08:25   5:54 /usr/bin/plasma\r\n",
      "scampese  1644  0.0  0.1 708064 40348 ?        Sl   08:25   0:04 /usr/lib/x86_64\r\n",
      "scampese  1646  0.0  0.0 375812 20360 ?        Sl   08:25   0:04 /usr/bin/xembed\r\n",
      "scampese  1653  0.0  0.1 641752 43888 ?        Sl   08:25   0:06 /usr/lib/x86_64\r\n",
      "scampese  1664  0.0  0.0 352848 18284 ?        Sl   08:25   0:04 /usr/lib/x86_64\r\n",
      "scampese  1670  0.9  0.0 717808 13376 ?        S<l  08:25   4:13 /usr/bin/pulsea\r\n",
      "rtkit     1674  0.0  0.0 183504  3016 ?        SNsl 08:25   0:00 /usr/lib/rtkit/\r\n",
      "scampese  1683  0.0  0.2 679076 69736 ?        Sl   08:25   0:17 /usr/bin/yakuak\r\n",
      "scampese  1685  0.0  0.0 349112  5764 ?        Sl   08:25   0:00 /usr/lib/at-spi\r\n",
      "scampese  1693  0.0  0.0  49920  4052 ?        S    08:25   0:01 /usr/bin/dbus-d\r\n",
      "scampese  1695  0.0  0.0 220752  6888 ?        Sl   08:25   0:06 /usr/lib/at-spi\r\n",
      "scampese  1699  2.0  1.1 2637572 366932 ?      Sl   08:25   9:27 telegram-deskto\r\n",
      "scampese  1734  0.0  0.0  23832  6352 pts/0    Ss+  08:25   0:00 /bin/bash\r\n",
      "scampese  1822  0.0  0.0  10840  2416 ?        S    08:25   0:07 ksysguardd\r\n",
      "scampese  1830  0.0  0.0 113736  4620 ?        S    08:25   0:00 /usr/lib/x86_64\r\n",
      "scampese  1832  0.0  0.0  73048  5948 ?        S    08:25   0:00 /usr/lib/x86_64\r\n",
      "root      1837  0.0  0.0      0     0 ?        S<   08:25   0:00 [krfcommd]\r\n",
      "root      1841  0.0  0.0 514480 20708 ?        Ssl  08:25   0:03 /usr/lib/packag\r\n",
      "scampese  1850  0.0  0.0 236360 26856 ?        S    08:25   0:00 /usr/bin/kuiser\r\n",
      "scampese  1859  0.0  0.5 874472 177860 ?       Sl   08:25   0:10 /usr/bin/okular\r\n",
      "scampese  1872  0.0  0.1 681468 38124 ?        Sl   08:25   0:06 /usr/lib/x86_64\r\n",
      "scampese  1910  0.0  0.2 2535596 97536 ?       Sl   08:25   0:00 /usr/bin/python\r\n",
      "scampese  1916  0.0  0.0  82736  6664 ?        S    08:25   0:00 /usr/lib/blueto\r\n",
      "scampese  1931  0.0  0.0 284896  6972 ?        Sl   08:25   0:00 /usr/lib/gvfs/g\r\n",
      "root      2148  0.0  0.0  25988  6028 ?        S    08:26   0:00 /sbin/dhclient \r\n",
      "scampese  2338  0.0  0.1 268973540 45336 ?     Sl   08:27   0:05 /usr/lib/x86_64\r\n",
      "root      3352  0.0  0.0 167912 17052 ?        Sl   08:28   0:00 /usr/bin/python\r\n",
      "root      3662  0.0  0.0 101412  9296 ?        Ss   08:30   0:00 /usr/sbin/cupsd\r\n",
      "root      3663  0.0  0.0 303680 10920 ?        Ssl  08:30   0:01 /usr/sbin/cups-\r\n",
      "lp        3670  0.0  0.0  86416  6076 ?        S    08:30   0:00 /usr/lib/cups/n\r\n",
      "www-data  3680  0.0  0.0 797880 22848 ?        Sl   08:30   0:01 /usr/sbin/apach\r\n",
      "www-data  3681  0.0  0.0 510844 22816 ?        S    08:30   0:00 /usr/sbin/apach\r\n",
      "www-data  3682  0.0  0.0 510844 22816 ?        S    08:30   0:00 /usr/sbin/apach\r\n",
      "www-data  3683  0.0  0.0 510844 22816 ?        S    08:30   0:00 /usr/sbin/apach\r\n",
      "www-data  3684  0.0  0.0 510844 22816 ?        S    08:30   0:00 /usr/sbin/apach\r\n",
      "www-data  3686  0.0  0.0 510844 22816 ?        S    08:30   0:00 /usr/sbin/apach\r\n",
      "root      4704  0.0  0.0      0     0 ?        I<   14:00   0:01 [kworker/u25:1-\r\n",
      "root      4809  0.0  0.0      0     0 ?        I    14:01   0:00 [kworker/7:0-ev\r\n",
      "scampese  4825  5.1  1.3 1560296 439612 ?      Sl   08:38  23:08 /opt/google/chr\r\n",
      "scampese  4831  0.0  0.0   7612   796 ?        S    08:38   0:00 cat\r\n",
      "scampese  4832  0.0  0.0   7612   760 ?        S    08:38   0:00 cat\r\n",
      "scampese  4835  0.0  0.1 448000 60248 ?        S    08:38   0:00 /opt/google/chr\r\n",
      "scampese  4836  0.0  0.0  27220  4188 ?        S    08:38   0:00 /opt/google/chr\r\n",
      "scampese  4839  0.0  0.0 448000 15672 ?        S    08:38   0:00 /opt/google/chr\r\n",
      "scampese  4858  5.4  1.2 1162560 411488 ?      Sl   08:38  24:51 /opt/google/chr\r\n",
      "scampese  4862  1.2  0.3 571372 111172 ?       Sl   08:38   5:41 /opt/google/chr\r\n",
      "scampese  4876  0.0  0.0 472460 23924 ?        S    08:38   0:00 /opt/google/chr\r\n",
      "scampese  4915  0.1  0.2 4834064 97200 ?       Sl   08:38   0:37 /opt/google/chr\r\n",
      "scampese  4968  0.0  0.2 4813592 91220 ?       Sl   08:38   0:01 /opt/google/chr\r\n",
      "scampese  4977  0.0  0.2 4782852 77828 ?       Sl   08:38   0:00 /opt/google/chr\r\n",
      "scampese  4987  0.0  0.3 4829968 97828 ?       Sl   08:38   0:01 /opt/google/chr\r\n",
      "scampese  4991  0.1  0.6 4925176 198736 ?      Sl   08:38   0:52 /opt/google/chr\r\n",
      "scampese  4996  0.0  0.2 4805900 90720 ?       Sl   08:38   0:22 /opt/google/chr\r\n",
      "scampese  5004  0.1  0.3 4818704 101440 ?      Sl   08:38   0:32 /opt/google/chr\r\n",
      "scampese  5015  0.0  0.2 4813584 87428 ?       Sl   08:38   0:03 /opt/google/chr\r\n",
      "scampese  5023  0.1  0.4 4863764 160324 ?      Sl   08:38   0:32 /opt/google/chr\r\n",
      "scampese  5034  0.0  0.4 4921788 159976 ?      Sl   08:38   0:24 /opt/google/chr\r\n",
      "scampese  5040  0.0  0.3 4826320 106220 ?      Sl   08:38   0:16 /opt/google/chr\r\n",
      "scampese  5067  0.0  0.2 4816080 95216 ?       Sl   08:38   0:01 /opt/google/chr\r\n",
      "scampese  5256  0.1  0.4 4868944 132692 ?      Sl   08:38   0:43 /opt/google/chr\r\n",
      "root      5415  0.0  0.0      0     0 ?        I<   14:05   0:01 [kworker/u25:2-\r\n",
      "scampese  6035  0.3  0.8 5006984 266508 ?      Sl   08:45   1:21 /opt/google/chr\r\n",
      "scampese  6080  0.0  0.3 4863932 120620 ?      Sl   08:45   0:08 /opt/google/chr\r\n",
      "scampese  6482  0.0  0.0   4624  1688 ?        S    08:49   0:00 /bin/sh /opt/id\r\n",
      "scampese  6538  3.3  3.9 10406332 1285400 ?    Sl   08:49  14:57 /opt/idea-IU/jb\r\n",
      "scampese  6598  0.0  0.0   5460  2500 ?        S    08:49   0:02 /opt/idea-IU/bi\r\n",
      "scampese  6660  0.1  0.3 4858648 102864 ?      Sl   08:49   0:37 /opt/idea-IU/jb\r\n",
      "root      8026  0.0  0.0      0     0 ?        I    14:32   0:00 [kworker/1:2-mm\r\n",
      "root      8664  0.0  0.0      0     0 ?        I    14:38   0:00 [kworker/8:1-ev\r\n",
      "scampese 10057  0.2  0.5 4900696 170828 ?      Sl   14:47   0:12 /opt/google/chr\r\n",
      "scampese 10078  1.5  0.5 4934304 182040 ?      Sl   14:48   1:18 /opt/google/chr\r\n",
      "scampese 10134  0.2  0.2 1681472 68432 ?       Sl   09:20   1:12 /usr/bin/remmin\r\n",
      "scampese 10220  0.2  0.5 4892596 171596 ?      Sl   14:49   0:11 /opt/google/chr\r\n",
      "scampese 10318  0.0  0.1 739172 55556 ?        Sl   09:22   0:02 /usr/bin/filezi\r\n",
      "scampese 10394  0.0  0.6 1542120 227024 ?      Ssl  09:23   0:21 /snap/sublime-t\r\n",
      "scampese 10408  0.0  0.1 445052 57444 ?        Sl   09:23   0:01 /snap/sublime-t\r\n",
      "scampese 11614  0.7  0.6 68118504 225376 ?     Sl   09:38   3:05 /opt/google/chr\r\n",
      "scampese 11640  0.0  0.2 4790160 89740 ?       Sl   09:38   0:00 /opt/google/chr\r\n",
      "scampese 11653  0.0  0.2 4781964 74256 ?       Sl   09:38   0:00 /opt/google/chr\r\n",
      "root     11748  0.0  0.0      0     0 ?        I    15:05   0:00 [kworker/5:0-ev\r\n",
      "root     12039  0.0  0.0      0     0 ?        I    15:09   0:00 [kworker/4:2-ev\r\n",
      "scampese 12449  0.2  0.6 4984648 214344 ?      Sl   09:47   0:47 /opt/google/chr\r\n",
      "scampese 12494  0.0  0.0  22892  5512 pts/2    Ss+  09:47   0:00 /bin/bash\r\n",
      "scampese 12619  0.3  0.4 4892008 158020 ?      Sl   15:15   0:13 /opt/google/chr\r\n",
      "root     12633  0.0  0.0      0     0 ?        I    15:15   0:00 [kworker/9:0]\r\n",
      "root     12669  0.0  0.0      0     0 ?        I    15:16   0:00 [kworker/4:0-ev\r\n",
      "scampese 13107  1.1  0.4 4923348 155644 ?      Sl   09:54   4:11 /opt/google/chr\r\n",
      "scampese 13122  4.2  1.3 5232688 451816 ?      Sl   09:54  15:58 /opt/google/chr\r\n",
      "scampese 13344  0.4  0.4 4913388 154376 ?      Sl   15:22   0:12 /opt/google/chr\r\n",
      "scampese 13381  0.2  0.4 4885784 155060 ?      Sl   15:22   0:08 /opt/google/chr\r\n",
      "scampese 13481  0.3  0.4 4891780 151800 ?      Sl   15:23   0:08 /opt/google/chr\r\n",
      "scampese 13620  0.0  0.2 4811108 92932 ?       Sl   15:24   0:00 /opt/google/chr\r\n",
      "root     13683  0.0  0.0      0     0 ?        I    15:24   0:00 [kworker/5:1-mm\r\n",
      "scampese 13734  0.3  0.4 4869676 142576 ?      Sl   15:24   0:10 /opt/google/chr\r\n",
      "root     13826  0.0  0.0      0     0 ?        I    15:25   0:00 [kworker/3:1-mm\r\n",
      "scampese 14180  0.0  0.4 4879648 143756 ?      Sl   15:29   0:02 /opt/google/chr\r\n",
      "scampese 14207  0.1  0.5 4897292 172008 ?      Sl   15:29   0:04 /opt/google/chr\r\n",
      "scampese 14264  0.0  0.4 4846276 131888 ?      Sl   15:29   0:01 /opt/google/chr\r\n",
      "root     14279  0.0  0.0      0     0 ?        I    15:29   0:00 [kworker/7:2-mm\r\n",
      "scampese 14389  0.0  0.4 4850920 134900 ?      Sl   15:30   0:01 /opt/google/chr\r\n",
      "scampese 14405  0.0  0.4 4854780 139432 ?      Sl   15:30   0:01 /opt/google/chr\r\n",
      "scampese 14439  0.0  0.4 4850680 135600 ?      Sl   15:30   0:01 /opt/google/chr\r\n",
      "scampese 14493  0.1  0.4 4845792 133796 ?      Sl   15:30   0:02 /opt/google/chr\r\n",
      "scampese 14536  0.3  0.4 4857080 141692 ?      Sl   15:31   0:09 /opt/google/chr\r\n",
      "scampese 14541  0.2  0.6 4935232 206536 ?      Sl   10:10   0:52 /opt/google/chr\r\n",
      "scampese 14566  0.2  0.4 4851960 136920 ?      Sl   15:31   0:05 /opt/google/chr\r\n",
      "root     14855  0.0  0.0      0     0 ?        I    15:33   0:00 [kworker/11:1-e\r\n",
      "scampese 15288  0.1  0.4 4881888 158332 ?      Sl   15:37   0:03 /opt/google/chr\r\n",
      "root     15629  0.0  0.0      0     0 ?        I    15:40   0:00 [kworker/6:0-ev\r\n",
      "root     15712  0.0  0.0      0     0 ?        I    15:41   0:00 [kworker/2:2-mm\r\n",
      "root     15929  0.0  0.0      0     0 ?        I    15:44   0:00 [kworker/u24:1-\r\n",
      "root     16228  0.0  0.0      0     0 ?        I    15:47   0:00 [kworker/10:1-e\r\n",
      "scampese 16252  0.5  0.5 4905972 175784 ?      Sl   15:48   0:08 /opt/google/chr\r\n",
      "scampese 16266  0.0  0.2 4811112 95424 ?       Sl   15:48   0:00 /opt/google/chr\r\n",
      "scampese 16315  0.1  0.3 4832748 110096 ?      Sl   15:48   0:01 /opt/google/chr\r\n",
      "scampese 16328  0.0  0.2 4813148 92012 ?       Sl   15:48   0:00 /opt/google/chr\r\n",
      "root     16401  0.0  0.0      0     0 ?        I    15:48   0:00 [kworker/6:1-ev\r\n",
      "root     16453  0.0  0.0      0     0 ?        I    15:48   0:00 [kworker/0:2-ev\r\n",
      "scampese 16852  0.4  0.4 4859556 157484 ?      Sl   15:53   0:04 /opt/google/chr\r\n",
      "root     17085  0.0  0.0      0     0 ?        I    15:54   0:00 [kworker/1:1-mm\r\n",
      "root     17378  0.0  0.0      0     0 ?        I    15:58   0:00 [kworker/9:2-mm\r\n",
      "root     17512  0.0  0.0      0     0 ?        I    16:00   0:00 [kworker/11:0-e\r\n",
      "root     17556  0.0  0.0      0     0 ?        I    16:01   0:00 [kworker/10:2-e\r\n",
      "root     17576  0.0  0.0      0     0 ?        I    16:01   0:00 [kworker/8:2-mm\r\n",
      "scampese 17664  0.0  0.1 572144 41668 ?        Sl   10:39   0:04 /usr/bin/dolphi\r\n",
      "scampese 17667  0.0  0.2 783708 84436 ?        Sl   10:39   0:11 /usr/bin/dolphi\r\n",
      "scampese 17671  0.0  0.0  22812  5216 pts/3    Ss   10:39   0:00 /bin/bash\r\n",
      "scampese 17685  0.0  0.0 285124 20648 ?        S    10:39   0:02 file.so [kdeini\r\n",
      "scampese 17693  0.0  0.1 355964 64516 pts/3    Sl+  10:40   0:07 /usr/bin/python\r\n",
      "scampese 17742  3.0  0.6 4961976 198524 ?      Rl   10:40  10:04 /opt/google/chr\r\n",
      "scampese 17821  1.6  1.6 13676384 548268 ?     Sl   10:40   5:35 /opt/google/chr\r\n",
      "root     17850  0.0  0.0      0     0 ?        I    16:04   0:00 [kworker/2:0-ev\r\n",
      "root     17946  0.0  0.0      0     0 ?        I    16:05   0:00 [kworker/11:2-e\r\n",
      "root     17966  0.0  0.0      0     0 ?        I    16:06   0:00 [kworker/u24:2-\r\n",
      "root     18140  0.0  0.0      0     0 ?        I    10:42   0:00 [kworker/3:2-ev\r\n",
      "scampese 18148  0.8  0.3 4860000 110640 ?      Sl   16:08   0:01 /opt/google/chr\r\n",
      "scampese 18156  0.0  0.1 627188 50660 ?        Rsl  10:42   0:04 /usr/bin/python\r\n",
      "root     18195  0.0  0.0      0     0 ?        I    16:08   0:00 [kworker/10:0-e\r\n",
      "root     18386  0.0  0.0      0     0 ?        I    16:09   0:00 [kworker/10:3-m\r\n",
      "root     18395  0.0  0.0      0     0 ?        I    16:09   0:00 [kworker/11:3-e\r\n",
      "root     18437  0.0  0.0      0     0 ?        I    16:10   0:00 [kworker/0:1-ev\r\n",
      "scampese 18526  3.2  0.4 4862316 147720 ?      Sl   16:11   0:02 /opt/google/chr\r\n",
      "scampese 18564  0.0  0.1 4763904 54244 ?       Sl   16:11   0:00 /opt/google/chr\r\n",
      "root     18603  0.0  0.0      0     0 ?        I    16:11   0:00 [kworker/u24:0-\r\n",
      "scampese 18657  0.0  0.0   4624   832 pts/4    Ss+  16:12   0:00 /bin/sh -c  ps \r\n",
      "scampese 18658  0.0  0.0  39668  3560 pts/4    R+   16:12   0:00 ps aux\r\n",
      "root     23931  0.0  0.0      0     0 ?        I    11:47   0:00 [kworker/0:0-ev\r\n",
      "scampese 27139  2.1  1.1 5161920 376820 ?      Sl   12:20   4:59 /opt/google/chr\r\n"
     ]
    }
   ],
   "source": [
    "! ps aux\n"
   ]
  },
  {
   "cell_type": "markdown",
   "metadata": {},
   "source": [
    "Where:\n",
    "+ a = show processes for all users\n",
    "+ u = display the process's user/owner\n",
    "+ x = also show processes not attached to a terminal"
   ]
  },
  {
   "cell_type": "markdown",
   "metadata": {},
   "source": [
    "The PID of the process can be use to kill a stucked process (i.e. when you run a python script that is going to be stucked)\n"
   ]
  },
  {
   "cell_type": "markdown",
   "metadata": {},
   "source": [
    "The ```ps``` command can be used with the ```grep``` command through the ```|``` character, in order to search a particular process."
   ]
  },
  {
   "cell_type": "code",
   "execution_count": 123,
   "metadata": {},
   "outputs": [
    {
     "name": "stdout",
     "output_type": "stream",
     "text": [
      "root       907  0.0  0.0 170544 17244 ?        Ssl  08:25   0:00 /usr/bin/python3 /usr/bin/networkd-dispatcher --run-startup-triggers\n",
      "root      1186  0.0  0.0 187248 19900 ?        Ssl  08:25   0:00 /usr/bin/python3 /usr/share/unattended-upgrades/unattended-upgrade-shutdown --wait-for-signal\n",
      "scampese  1910  0.0  0.2 2535596 97536 ?       Sl   08:25   0:00 /usr/bin/python3 /usr/bin/remarkable\n",
      "root      3352  0.0  0.0 167912 17052 ?        Sl   08:28   0:00 /usr/bin/python3 /usr/share/apt-xapian-index/update-apt-xapian-index-dbus\n",
      "scampese 17693  0.0  0.1 356248 64776 pts/3    Sl+  10:40   0:08 /usr/bin/python3 /usr/local/bin/jupyter-notebook\n",
      "scampese 18156  0.0  0.1 627188 50684 ?        Ssl  10:42   0:04 /usr/bin/python3 -m ipykernel_launcher -f /home/scampese/.local/share/jupyter/runtime/kernel-74d6adf9-9d07-4614-a451-4a59f1019aca.json\n",
      "scampese 18994  0.0  0.0  14432  1092 ?        S    16:16   0:00 grep python\n"
     ]
    }
   ],
   "source": [
    "%%bash \n",
    "ps aux | grep python"
   ]
  },
  {
   "cell_type": "markdown",
   "metadata": {},
   "source": [
    "## Figuring out the IP address\n",
    "The ```ifconfig``` command can be used to retrieving the Ip address. \n",
    "This command is not a standard command of the Unix system, and in some case must be installed. To install in ubuntu it is necessary to run this command:\n",
    "    ```sudo apt-get install net-tools```"
   ]
  },
  {
   "cell_type": "code",
   "execution_count": 124,
   "metadata": {},
   "outputs": [
    {
     "name": "stdout",
     "output_type": "stream",
     "text": [
      "enp8s0f1: flags=4099<UP,BROADCAST,MULTICAST>  mtu 1500\n",
      "        ether 80:fa:5b:73:35:77  txqueuelen 1000  (Ethernet)\n",
      "        RX packets 402954  bytes 377524034 (377.5 MB)\n",
      "        RX errors 0  dropped 0  overruns 0  frame 0\n",
      "        TX packets 311904  bytes 145796146 (145.7 MB)\n",
      "        TX errors 0  dropped 0 overruns 0  carrier 0  collisions 0\n",
      "\n",
      "lo: flags=73<UP,LOOPBACK,RUNNING>  mtu 65536\n",
      "        inet 127.0.0.1  netmask 255.0.0.0\n",
      "        inet6 ::1  prefixlen 128  scopeid 0x10<host>\n",
      "        loop  txqueuelen 1000  (Loopback locale)\n",
      "        RX packets 46155  bytes 25987791 (25.9 MB)\n",
      "        RX errors 0  dropped 0  overruns 0  frame 0\n",
      "        TX packets 46155  bytes 25987791 (25.9 MB)\n",
      "        TX errors 0  dropped 0 overruns 0  carrier 0  collisions 0\n",
      "\n",
      "wlp7s0: flags=4163<UP,BROADCAST,RUNNING,MULTICAST>  mtu 1500\n",
      "        inet 192.168.1.10  netmask 255.255.255.0  broadcast 192.168.1.255\n",
      "        inet6 fe80::7b3c:817c:dd1b:75e3  prefixlen 64  scopeid 0x20<link>\n",
      "        ether 4c:1d:96:6d:28:06  txqueuelen 1000  (Ethernet)\n",
      "        RX packets 374084  bytes 288207277 (288.2 MB)\n",
      "        RX errors 0  dropped 0  overruns 0  frame 0\n",
      "        TX packets 324535  bytes 97073120 (97.0 MB)\n",
      "        TX errors 0  dropped 0 overruns 0  carrier 0  collisions 0\n",
      "\n"
     ]
    }
   ],
   "source": [
    "%%bash\n",
    "\n",
    "ifconfig"
   ]
  },
  {
   "cell_type": "markdown",
   "metadata": {},
   "source": [
    "the output of the command reports all the \"network card\" and the ip addresses."
   ]
  },
  {
   "cell_type": "code",
   "execution_count": null,
   "metadata": {},
   "outputs": [],
   "source": []
  }
 ],
 "metadata": {
  "kernelspec": {
   "display_name": "Python 3",
   "language": "python",
   "name": "python3"
  },
  "language_info": {
   "codemirror_mode": {
    "name": "ipython",
    "version": 3
   },
   "file_extension": ".py",
   "mimetype": "text/x-python",
   "name": "python",
   "nbconvert_exporter": "python",
   "pygments_lexer": "ipython3",
   "version": "3.6.9"
  }
 },
 "nbformat": 4,
 "nbformat_minor": 4
}
