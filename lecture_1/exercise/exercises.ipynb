{
 "cells": [
  {
   "cell_type": "markdown",
   "metadata": {},
   "source": [
    "## Exercise 1\n",
    "\n",
    "What does the command ls do when used with the -l option?"
   ]
  },
  {
   "cell_type": "code",
   "execution_count": null,
   "metadata": {},
   "outputs": [],
   "source": [
    "! ls -l"
   ]
  },
  {
   "cell_type": "markdown",
   "metadata": {},
   "source": [
    "What about if you use both the -l and the -h option?"
   ]
  },
  {
   "cell_type": "code",
   "execution_count": null,
   "metadata": {},
   "outputs": [],
   "source": [
    "! ls -lh"
   ]
  },
  {
   "cell_type": "markdown",
   "metadata": {},
   "source": [
    "order the list of file by the date asceding"
   ]
  },
  {
   "cell_type": "code",
   "execution_count": null,
   "metadata": {},
   "outputs": [],
   "source": [
    "! ls -ltr"
   ]
  },
  {
   "cell_type": "markdown",
   "metadata": {},
   "source": [
    "## Exercise 2\n",
    "\n",
    "Using the filesystem diagram below, if pwd displays ```/Users/thing```, what will ```ls -F ../backup``` display? Explain why and why these options are correct or no.\n",
    "\n",
    "+ ../backup: No such file or directory\n",
    "+ 2012-12-01 2013-01-08 2013-01-27\n",
    "+ 2012-12-01/ 2013-01-08/ 2013-01-27/\n",
    "+original/ pnas_final/ pnas_sub/\n",
    "\n",
    "\n",
    "![filesystem-challenge.png](filesystem-challenge.png)"
   ]
  },
  {
   "cell_type": "markdown",
   "metadata": {},
   "source": [
    "+ No: there is a directory backup in /Users.\n",
    "+ No: this is the content of Users/thing/backup, but with .. we asked for one level further up.\n",
    "+ No: see previous explanation.\n",
    "+ Yes: ../backup/ refers to /Users/backup/."
   ]
  },
  {
   "cell_type": "markdown",
   "metadata": {},
   "source": [
    "## Exercise 3\n",
    "\n",
    "Given the command ``` touch my_file.txt```\n",
    "What did the touch command do? \n",
    "\n",
    "Use ls -l to inspect the files. How large is my_file.txt?"
   ]
  },
  {
   "cell_type": "code",
   "execution_count": null,
   "metadata": {},
   "outputs": [],
   "source": []
  },
  {
   "cell_type": "markdown",
   "metadata": {},
   "source": [
    "## Exercise 4\n",
    "\n",
    "\n",
    "Delete the ```aminoacid1.txt``` and than remove the backup folder"
   ]
  },
  {
   "cell_type": "code",
   "execution_count": null,
   "metadata": {},
   "outputs": [],
   "source": [
    "%%bash\n",
    "#run this before run your code\n",
    "mkdir backup\n",
    "echo \"lisine\" >  aminoacid1.txt\n",
    "echo \"alanine\" > aminoacid2.txt\n",
    "\n",
    "cp aminoacid1.txt aminoacid2.txt backup/"
   ]
  },
  {
   "cell_type": "code",
   "execution_count": null,
   "metadata": {},
   "outputs": [],
   "source": [
    "# put your code here"
   ]
  },
  {
   "cell_type": "markdown",
   "metadata": {},
   "source": [
    "## Exercise 5\n",
    "Which results produce each command and wich are the differences?\n",
    "+ grep \"of\" haiku.txt\n",
    "+ grep -E \"of\" haiku.txt\n",
    "+ grep -w \"of\" haiku.txt\n",
    "+ grep -i \"of\" haiku.txt"
   ]
  },
  {
   "cell_type": "markdown",
   "metadata": {},
   "source": [
    "## Exercise 6\n",
    "Count the word of each file and then order the files descending"
   ]
  },
  {
   "cell_type": "code",
   "execution_count": null,
   "metadata": {},
   "outputs": [],
   "source": []
  },
  {
   "cell_type": "code",
   "execution_count": null,
   "metadata": {},
   "outputs": [],
   "source": []
  }
 ],
 "metadata": {
  "kernelspec": {
   "display_name": "Python 3",
   "language": "python",
   "name": "python3"
  },
  "language_info": {
   "codemirror_mode": {
    "name": "ipython",
    "version": 3
   },
   "file_extension": ".py",
   "mimetype": "text/x-python",
   "name": "python",
   "nbconvert_exporter": "python",
   "pygments_lexer": "ipython3",
   "version": "3.6.9"
  }
 },
 "nbformat": 4,
 "nbformat_minor": 2
}
