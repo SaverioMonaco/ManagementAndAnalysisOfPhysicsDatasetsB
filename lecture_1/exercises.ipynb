{
 "cells": [
  {
   "cell_type": "markdown",
   "metadata": {},
   "source": [
    "## Exercise 1\n",
    "\n",
    "What does the command ls do when used with the -l option?"
   ]
  },
  {
   "cell_type": "code",
   "execution_count": 1,
   "metadata": {},
   "outputs": [
    {
     "name": "stdout",
     "output_type": "stream",
     "text": [
      "totale 112\r\n",
      "-rw-rw-r-- 1 scampese scampese     0 mar 23 12:29 anotherTestFile.txt\r\n",
      "-rw-rw-r-- 1 scampese scampese 70375 mar 23 16:50 bash_shell_recap.ipynb\r\n",
      "-rw-r--r-- 1 scampese scampese     2 mar 23 16:48 exercise_file_1.txt\r\n",
      "-rw-r--r-- 1 scampese scampese     2 mar 23 16:48 exercise_file_2.txt\r\n",
      "-rw-r--r-- 1 scampese scampese     2 mar 23 16:48 exercise_file_3.txt\r\n",
      "-rw-r--r-- 1 scampese scampese     2 mar 23 16:48 exercise_file_4.txt\r\n",
      "-rw-rw-r-- 1 scampese scampese   555 mar 23 16:35 exercises.ipynb\r\n",
      "-rw-rw-r-- 1 scampese scampese    14 mar 23 15:54 file1.txt\r\n",
      "-rw-rw-r-- 1 scampese scampese    19 mar 23 15:54 file2.txt\r\n",
      "-rw-rw-r-- 1 scampese scampese     4 mar 23 15:54 file3.txt\r\n",
      "-rw-rw-r-- 1 scampese scampese     0 mar 23 11:55 lol.txt\r\n",
      "-rw-rw-r-- 1 scampese scampese     8 mar 23 16:06 orderable.txt\r\n",
      "-rw-rw-r-- 1 scampese scampese    20 mar 23 15:32 tempFile.txt\r\n"
     ]
    }
   ],
   "source": [
    "! ls -l"
   ]
  },
  {
   "cell_type": "markdown",
   "metadata": {},
   "source": [
    "What about if you use both the -l and the -h option?"
   ]
  },
  {
   "cell_type": "code",
   "execution_count": 2,
   "metadata": {},
   "outputs": [
    {
     "name": "stdout",
     "output_type": "stream",
     "text": [
      "totale 112K\r\n",
      "-rw-rw-r-- 1 scampese scampese   0 mar 23 12:29 anotherTestFile.txt\r\n",
      "-rw-rw-r-- 1 scampese scampese 69K mar 23 16:50 bash_shell_recap.ipynb\r\n",
      "-rw-r--r-- 1 scampese scampese   2 mar 23 16:48 exercise_file_1.txt\r\n",
      "-rw-r--r-- 1 scampese scampese   2 mar 23 16:48 exercise_file_2.txt\r\n",
      "-rw-r--r-- 1 scampese scampese   2 mar 23 16:48 exercise_file_3.txt\r\n",
      "-rw-r--r-- 1 scampese scampese   2 mar 23 16:48 exercise_file_4.txt\r\n",
      "-rw-rw-r-- 1 scampese scampese 555 mar 23 16:35 exercises.ipynb\r\n",
      "-rw-rw-r-- 1 scampese scampese  14 mar 23 15:54 file1.txt\r\n",
      "-rw-rw-r-- 1 scampese scampese  19 mar 23 15:54 file2.txt\r\n",
      "-rw-rw-r-- 1 scampese scampese   4 mar 23 15:54 file3.txt\r\n",
      "-rw-rw-r-- 1 scampese scampese   0 mar 23 11:55 lol.txt\r\n",
      "-rw-rw-r-- 1 scampese scampese   8 mar 23 16:06 orderable.txt\r\n",
      "-rw-rw-r-- 1 scampese scampese  20 mar 23 15:32 tempFile.txt\r\n"
     ]
    }
   ],
   "source": [
    "! ls -lh"
   ]
  },
  {
   "cell_type": "markdown",
   "metadata": {},
   "source": [
    "order the list of file by the date asceding"
   ]
  },
  {
   "cell_type": "code",
   "execution_count": 3,
   "metadata": {},
   "outputs": [
    {
     "name": "stdout",
     "output_type": "stream",
     "text": [
      "totale 112\r\n",
      "-rw-rw-r-- 1 scampese scampese     0 mar 23 11:55 lol.txt\r\n",
      "-rw-rw-r-- 1 scampese scampese     0 mar 23 12:29 anotherTestFile.txt\r\n",
      "-rw-rw-r-- 1 scampese scampese    20 mar 23 15:32 tempFile.txt\r\n",
      "-rw-rw-r-- 1 scampese scampese     4 mar 23 15:54 file3.txt\r\n",
      "-rw-rw-r-- 1 scampese scampese    19 mar 23 15:54 file2.txt\r\n",
      "-rw-rw-r-- 1 scampese scampese    14 mar 23 15:54 file1.txt\r\n",
      "-rw-rw-r-- 1 scampese scampese     8 mar 23 16:06 orderable.txt\r\n",
      "-rw-r--r-- 1 scampese scampese     2 mar 23 16:48 exercise_file_1.txt\r\n",
      "-rw-r--r-- 1 scampese scampese     2 mar 23 16:48 exercise_file_2.txt\r\n",
      "-rw-r--r-- 1 scampese scampese     2 mar 23 16:48 exercise_file_3.txt\r\n",
      "-rw-r--r-- 1 scampese scampese     2 mar 23 16:48 exercise_file_4.txt\r\n",
      "-rw-rw-r-- 1 scampese scampese 70375 mar 23 16:50 bash_shell_recap.ipynb\r\n",
      "-rw-rw-r-- 1 scampese scampese  3391 mar 23 16:50 exercises.ipynb\r\n"
     ]
    }
   ],
   "source": [
    "! ls -ltr"
   ]
  },
  {
   "cell_type": "markdown",
   "metadata": {},
   "source": [
    "## Exercise 2\n",
    "\n",
    "Using the filesystem diagram below, if pwd displays ```/Users/thing```, what will ```ls -F ../backup``` display? Explain why and why these options are correct or no.\n",
    "\n",
    "+ ../backup: No such file or directory\n",
    "+ 2012-12-01 2013-01-08 2013-01-27\n",
    "+ 2012-12-01/ 2013-01-08/ 2013-01-27/\n",
    "+original/ pnas_final/ pnas_sub/\n",
    "\n",
    "\n",
    "![filesystem-challenge.png](filesystem-challenge.png)"
   ]
  },
  {
   "cell_type": "markdown",
   "metadata": {},
   "source": [
    "+ No: there is a directory backup in /Users.\n",
    "+ No: this is the content of Users/thing/backup, but with .. we asked for one level further up.\n",
    "+ No: see previous explanation.\n",
    "+ Yes: ../backup/ refers to /Users/backup/."
   ]
  },
  {
   "cell_type": "markdown",
   "metadata": {},
   "source": [
    "## Exercise 3\n",
    "\n",
    "Given the command ``` touch my_file.txt```\n",
    "What did the touch command do? \n",
    "\n",
    "Use ls -l to inspect the files. How large is my_file.txt?"
   ]
  },
  {
   "cell_type": "code",
   "execution_count": null,
   "metadata": {},
   "outputs": [],
   "source": []
  },
  {
   "cell_type": "markdown",
   "metadata": {},
   "source": [
    "## Exercise 4\n",
    "\n",
    "\n",
    "Delete the ```aminoacid1.txt``` and than remove the backup folder"
   ]
  },
  {
   "cell_type": "code",
   "execution_count": 5,
   "metadata": {},
   "outputs": [],
   "source": [
    "%%bash\n",
    "#run this before run your code\n",
    "mkdir backup\n",
    "echo \"lisine\" >  aminoacid1.txt\n",
    "echo \"alanine\" > aminoacid2.txt\n",
    "\n",
    "cp aminoacid1.txt aminoacid2.txt backup/"
   ]
  },
  {
   "cell_type": "code",
   "execution_count": 6,
   "metadata": {},
   "outputs": [],
   "source": [
    "# put your code here"
   ]
  },
  {
   "cell_type": "markdown",
   "metadata": {},
   "source": [
    "## Exercise 5\n",
    "Which results produce each command and wich are the differences?\n",
    "+ grep \"of\" haiku.txt\n",
    "+ grep -E \"of\" haiku.txt\n",
    "+ grep -w \"of\" haiku.txt\n",
    "+ grep -i \"of\" haiku.txt"
   ]
  },
  {
   "cell_type": "markdown",
   "metadata": {},
   "source": [
    "## Exercise 6\n",
    "Count the word of each file and then order the files descending"
   ]
  },
  {
   "cell_type": "code",
   "execution_count": 12,
   "metadata": {},
   "outputs": [
    {
     "name": "stdout",
     "output_type": "stream",
     "text": [
      " 383 totale\r\n",
      " 129 exercise_file_2.txt\r\n",
      "  75 exercise_file_3.txt\r\n",
      "  69 exercise_file_5.txt\r\n",
      "  40 haiku.txt\r\n",
      "  26 exercise_file_4.txt\r\n",
      "  26 exercise_file_1.txt\r\n",
      "   4 tempFile.txt\r\n",
      "   4 orderable.txt\r\n",
      "   4 file2.txt\r\n",
      "   3 file1.txt\r\n",
      "   1 file3.txt\r\n",
      "   1 aminoacid2.txt\r\n",
      "   1 aminoacid1.txt\r\n",
      "   0 lol.txt\r\n",
      "   0 anotherTestFile.txt\r\n"
     ]
    }
   ],
   "source": [
    "! wc -w *.txt | sort -n -r"
   ]
  },
  {
   "cell_type": "code",
   "execution_count": null,
   "metadata": {},
   "outputs": [],
   "source": []
  }
 ],
 "metadata": {
  "kernelspec": {
   "display_name": "Python 3",
   "language": "python",
   "name": "python3"
  },
  "language_info": {
   "codemirror_mode": {
    "name": "ipython",
    "version": 3
   },
   "file_extension": ".py",
   "mimetype": "text/x-python",
   "name": "python",
   "nbconvert_exporter": "python",
   "pygments_lexer": "ipython3",
   "version": "3.6.9"
  }
 },
 "nbformat": 4,
 "nbformat_minor": 2
}
